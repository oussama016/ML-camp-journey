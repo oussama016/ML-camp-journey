{
  "nbformat": 4,
  "nbformat_minor": 0,
  "metadata": {
    "colab": {
      "provenance": [],
      "collapsed_sections": [],
      "authorship_tag": "ABX9TyM7v6XujYiKqldEhwpuLEk1",
      "include_colab_link": true
    },
    "kernelspec": {
      "name": "python3",
      "display_name": "Python 3"
    },
    "language_info": {
      "name": "python"
    }
  },
  "cells": [
    {
      "cell_type": "markdown",
      "metadata": {
        "id": "view-in-github",
        "colab_type": "text"
      },
      "source": [
        "<a href=\"https://colab.research.google.com/github/oussama016/ML-camp-journey/blob/main/02-regression/Car_price_project_linear_regression.ipynb\" target=\"_parent\"><img src=\"https://colab.research.google.com/assets/colab-badge.svg\" alt=\"Open In Colab\"/></a>"
      ]
    },
    {
      "cell_type": "code",
      "source": [
        "import numpy as np\n",
        "import pandas as pd\n",
        "\n",
        "import io\n",
        "import requests"
      ],
      "metadata": {
        "id": "spOluPwIkQmh"
      },
      "execution_count": null,
      "outputs": []
    },
    {
      "cell_type": "markdown",
      "source": [
        "ref : https://docs.python.org/3/tutorial/datastructures.html#the-del-statement"
      ],
      "metadata": {
        "id": "WJYdqw-2da_4"
      }
    },
    {
      "cell_type": "markdown",
      "source": [
        "# Data preparation"
      ],
      "metadata": {
        "id": "JmNupserk4Xo"
      }
    },
    {
      "cell_type": "code",
      "execution_count": null,
      "metadata": {
        "id": "k0UG4Vko2dZH"
      },
      "outputs": [],
      "source": [
        "url = \"https://raw.githubusercontent.com/oussama016/ML-camp-journey/main/02-regression/data.csv\""
      ]
    },
    {
      "cell_type": "code",
      "source": [
        "s=requests.get(url).content"
      ],
      "metadata": {
        "id": "5U6RSOHlkriR"
      },
      "execution_count": null,
      "outputs": []
    },
    {
      "cell_type": "code",
      "source": [
        "c=pd.read_csv(io.StringIO(s.decode('utf-8')))\n",
        "c.head(3)"
      ],
      "metadata": {
        "colab": {
          "base_uri": "https://localhost:8080/",
          "height": 309
        },
        "id": "bA63NrdrkxPD",
        "outputId": "8941bbfe-40a9-4388-b744-c9db03547316"
      },
      "execution_count": null,
      "outputs": [
        {
          "output_type": "execute_result",
          "data": {
            "text/plain": [
              "  Make       Model  Year             Engine Fuel Type  Engine HP  \\\n",
              "0  BMW  1 Series M  2011  premium unleaded (required)      335.0   \n",
              "1  BMW    1 Series  2011  premium unleaded (required)      300.0   \n",
              "2  BMW    1 Series  2011  premium unleaded (required)      300.0   \n",
              "\n",
              "   Engine Cylinders Transmission Type     Driven_Wheels  Number of Doors  \\\n",
              "0               6.0            MANUAL  rear wheel drive              2.0   \n",
              "1               6.0            MANUAL  rear wheel drive              2.0   \n",
              "2               6.0            MANUAL  rear wheel drive              2.0   \n",
              "\n",
              "                         Market Category Vehicle Size Vehicle Style  \\\n",
              "0  Factory Tuner,Luxury,High-Performance      Compact         Coupe   \n",
              "1                     Luxury,Performance      Compact   Convertible   \n",
              "2                Luxury,High-Performance      Compact         Coupe   \n",
              "\n",
              "   highway MPG  city mpg  Popularity   MSRP  \n",
              "0           26        19        3916  46135  \n",
              "1           28        19        3916  40650  \n",
              "2           28        20        3916  36350  "
            ],
            "text/html": [
              "\n",
              "  <div id=\"df-fecf61fc-14fd-45ee-85e2-04a4c43fd654\">\n",
              "    <div class=\"colab-df-container\">\n",
              "      <div>\n",
              "<style scoped>\n",
              "    .dataframe tbody tr th:only-of-type {\n",
              "        vertical-align: middle;\n",
              "    }\n",
              "\n",
              "    .dataframe tbody tr th {\n",
              "        vertical-align: top;\n",
              "    }\n",
              "\n",
              "    .dataframe thead th {\n",
              "        text-align: right;\n",
              "    }\n",
              "</style>\n",
              "<table border=\"1\" class=\"dataframe\">\n",
              "  <thead>\n",
              "    <tr style=\"text-align: right;\">\n",
              "      <th></th>\n",
              "      <th>Make</th>\n",
              "      <th>Model</th>\n",
              "      <th>Year</th>\n",
              "      <th>Engine Fuel Type</th>\n",
              "      <th>Engine HP</th>\n",
              "      <th>Engine Cylinders</th>\n",
              "      <th>Transmission Type</th>\n",
              "      <th>Driven_Wheels</th>\n",
              "      <th>Number of Doors</th>\n",
              "      <th>Market Category</th>\n",
              "      <th>Vehicle Size</th>\n",
              "      <th>Vehicle Style</th>\n",
              "      <th>highway MPG</th>\n",
              "      <th>city mpg</th>\n",
              "      <th>Popularity</th>\n",
              "      <th>MSRP</th>\n",
              "    </tr>\n",
              "  </thead>\n",
              "  <tbody>\n",
              "    <tr>\n",
              "      <th>0</th>\n",
              "      <td>BMW</td>\n",
              "      <td>1 Series M</td>\n",
              "      <td>2011</td>\n",
              "      <td>premium unleaded (required)</td>\n",
              "      <td>335.0</td>\n",
              "      <td>6.0</td>\n",
              "      <td>MANUAL</td>\n",
              "      <td>rear wheel drive</td>\n",
              "      <td>2.0</td>\n",
              "      <td>Factory Tuner,Luxury,High-Performance</td>\n",
              "      <td>Compact</td>\n",
              "      <td>Coupe</td>\n",
              "      <td>26</td>\n",
              "      <td>19</td>\n",
              "      <td>3916</td>\n",
              "      <td>46135</td>\n",
              "    </tr>\n",
              "    <tr>\n",
              "      <th>1</th>\n",
              "      <td>BMW</td>\n",
              "      <td>1 Series</td>\n",
              "      <td>2011</td>\n",
              "      <td>premium unleaded (required)</td>\n",
              "      <td>300.0</td>\n",
              "      <td>6.0</td>\n",
              "      <td>MANUAL</td>\n",
              "      <td>rear wheel drive</td>\n",
              "      <td>2.0</td>\n",
              "      <td>Luxury,Performance</td>\n",
              "      <td>Compact</td>\n",
              "      <td>Convertible</td>\n",
              "      <td>28</td>\n",
              "      <td>19</td>\n",
              "      <td>3916</td>\n",
              "      <td>40650</td>\n",
              "    </tr>\n",
              "    <tr>\n",
              "      <th>2</th>\n",
              "      <td>BMW</td>\n",
              "      <td>1 Series</td>\n",
              "      <td>2011</td>\n",
              "      <td>premium unleaded (required)</td>\n",
              "      <td>300.0</td>\n",
              "      <td>6.0</td>\n",
              "      <td>MANUAL</td>\n",
              "      <td>rear wheel drive</td>\n",
              "      <td>2.0</td>\n",
              "      <td>Luxury,High-Performance</td>\n",
              "      <td>Compact</td>\n",
              "      <td>Coupe</td>\n",
              "      <td>28</td>\n",
              "      <td>20</td>\n",
              "      <td>3916</td>\n",
              "      <td>36350</td>\n",
              "    </tr>\n",
              "  </tbody>\n",
              "</table>\n",
              "</div>\n",
              "      <button class=\"colab-df-convert\" onclick=\"convertToInteractive('df-fecf61fc-14fd-45ee-85e2-04a4c43fd654')\"\n",
              "              title=\"Convert this dataframe to an interactive table.\"\n",
              "              style=\"display:none;\">\n",
              "        \n",
              "  <svg xmlns=\"http://www.w3.org/2000/svg\" height=\"24px\"viewBox=\"0 0 24 24\"\n",
              "       width=\"24px\">\n",
              "    <path d=\"M0 0h24v24H0V0z\" fill=\"none\"/>\n",
              "    <path d=\"M18.56 5.44l.94 2.06.94-2.06 2.06-.94-2.06-.94-.94-2.06-.94 2.06-2.06.94zm-11 1L8.5 8.5l.94-2.06 2.06-.94-2.06-.94L8.5 2.5l-.94 2.06-2.06.94zm10 10l.94 2.06.94-2.06 2.06-.94-2.06-.94-.94-2.06-.94 2.06-2.06.94z\"/><path d=\"M17.41 7.96l-1.37-1.37c-.4-.4-.92-.59-1.43-.59-.52 0-1.04.2-1.43.59L10.3 9.45l-7.72 7.72c-.78.78-.78 2.05 0 2.83L4 21.41c.39.39.9.59 1.41.59.51 0 1.02-.2 1.41-.59l7.78-7.78 2.81-2.81c.8-.78.8-2.07 0-2.86zM5.41 20L4 18.59l7.72-7.72 1.47 1.35L5.41 20z\"/>\n",
              "  </svg>\n",
              "      </button>\n",
              "      \n",
              "  <style>\n",
              "    .colab-df-container {\n",
              "      display:flex;\n",
              "      flex-wrap:wrap;\n",
              "      gap: 12px;\n",
              "    }\n",
              "\n",
              "    .colab-df-convert {\n",
              "      background-color: #E8F0FE;\n",
              "      border: none;\n",
              "      border-radius: 50%;\n",
              "      cursor: pointer;\n",
              "      display: none;\n",
              "      fill: #1967D2;\n",
              "      height: 32px;\n",
              "      padding: 0 0 0 0;\n",
              "      width: 32px;\n",
              "    }\n",
              "\n",
              "    .colab-df-convert:hover {\n",
              "      background-color: #E2EBFA;\n",
              "      box-shadow: 0px 1px 2px rgba(60, 64, 67, 0.3), 0px 1px 3px 1px rgba(60, 64, 67, 0.15);\n",
              "      fill: #174EA6;\n",
              "    }\n",
              "\n",
              "    [theme=dark] .colab-df-convert {\n",
              "      background-color: #3B4455;\n",
              "      fill: #D2E3FC;\n",
              "    }\n",
              "\n",
              "    [theme=dark] .colab-df-convert:hover {\n",
              "      background-color: #434B5C;\n",
              "      box-shadow: 0px 1px 3px 1px rgba(0, 0, 0, 0.15);\n",
              "      filter: drop-shadow(0px 1px 2px rgba(0, 0, 0, 0.3));\n",
              "      fill: #FFFFFF;\n",
              "    }\n",
              "  </style>\n",
              "\n",
              "      <script>\n",
              "        const buttonEl =\n",
              "          document.querySelector('#df-fecf61fc-14fd-45ee-85e2-04a4c43fd654 button.colab-df-convert');\n",
              "        buttonEl.style.display =\n",
              "          google.colab.kernel.accessAllowed ? 'block' : 'none';\n",
              "\n",
              "        async function convertToInteractive(key) {\n",
              "          const element = document.querySelector('#df-fecf61fc-14fd-45ee-85e2-04a4c43fd654');\n",
              "          const dataTable =\n",
              "            await google.colab.kernel.invokeFunction('convertToInteractive',\n",
              "                                                     [key], {});\n",
              "          if (!dataTable) return;\n",
              "\n",
              "          const docLinkHtml = 'Like what you see? Visit the ' +\n",
              "            '<a target=\"_blank\" href=https://colab.research.google.com/notebooks/data_table.ipynb>data table notebook</a>'\n",
              "            + ' to learn more about interactive tables.';\n",
              "          element.innerHTML = '';\n",
              "          dataTable['output_type'] = 'display_data';\n",
              "          await google.colab.output.renderOutput(dataTable, element);\n",
              "          const docLink = document.createElement('div');\n",
              "          docLink.innerHTML = docLinkHtml;\n",
              "          element.appendChild(docLink);\n",
              "        }\n",
              "      </script>\n",
              "    </div>\n",
              "  </div>\n",
              "  "
            ]
          },
          "metadata": {},
          "execution_count": 99
        }
      ]
    },
    {
      "cell_type": "code",
      "source": [
        "df = c.copy()"
      ],
      "metadata": {
        "id": "J6NjKlmtlCLD"
      },
      "execution_count": null,
      "outputs": []
    },
    {
      "cell_type": "code",
      "source": [
        "#to work with methods that works with text need to specify str.  before the function\n",
        "df.columns=df.columns.str.lower().str.replace(' ','_')"
      ],
      "metadata": {
        "id": "AN8gXj9klT_F"
      },
      "execution_count": null,
      "outputs": []
    },
    {
      "cell_type": "code",
      "source": [
        "df.columns"
      ],
      "metadata": {
        "colab": {
          "base_uri": "https://localhost:8080/"
        },
        "id": "-SFtw5mWmTGI",
        "outputId": "25faada0-4146-4e57-a0a3-b50afdeeef04"
      },
      "execution_count": null,
      "outputs": [
        {
          "output_type": "execute_result",
          "data": {
            "text/plain": [
              "Index(['make', 'model', 'year', 'engine_fuel_type', 'engine_hp',\n",
              "       'engine_cylinders', 'transmission_type', 'driven_wheels',\n",
              "       'number_of_doors', 'market_category', 'vehicle_size', 'vehicle_style',\n",
              "       'highway_mpg', 'city_mpg', 'popularity', 'msrp'],\n",
              "      dtype='object')"
            ]
          },
          "metadata": {},
          "execution_count": 102
        }
      ]
    },
    {
      "cell_type": "code",
      "source": [
        "#df.info()\n",
        "#we want normalize the data set by applynig str methods \n",
        "#we need first just the object colomns\n",
        "df.dtypes[df.dtypes  == \"object\"]"
      ],
      "metadata": {
        "colab": {
          "base_uri": "https://localhost:8080/"
        },
        "id": "gDztjvkvmof5",
        "outputId": "5e4f342e-13f1-43a3-d7dd-aaae390a3c25"
      },
      "execution_count": null,
      "outputs": [
        {
          "output_type": "execute_result",
          "data": {
            "text/plain": [
              "make                 object\n",
              "model                object\n",
              "engine_fuel_type     object\n",
              "transmission_type    object\n",
              "driven_wheels        object\n",
              "market_category      object\n",
              "vehicle_size         object\n",
              "vehicle_style        object\n",
              "dtype: object"
            ]
          },
          "metadata": {},
          "execution_count": 103
        }
      ]
    },
    {
      "cell_type": "code",
      "source": [
        "# df.dtypes[df.dtypes  == \"object\"] has 2 colomns one for index and one for values to point to the index (.index) and to point values (.values)\n"
      ],
      "metadata": {
        "id": "fTTtL8kuqCFL"
      },
      "execution_count": null,
      "outputs": []
    },
    {
      "cell_type": "code",
      "source": [
        "#  to point to index \n",
        "df.dtypes[df.dtypes  == \"object\"].index\n"
      ],
      "metadata": {
        "colab": {
          "base_uri": "https://localhost:8080/"
        },
        "id": "P5vpefCeoR_c",
        "outputId": "5eb87c07-e350-482e-9454-8c9f46fe46de"
      },
      "execution_count": null,
      "outputs": [
        {
          "output_type": "execute_result",
          "data": {
            "text/plain": [
              "Index(['make', 'model', 'engine_fuel_type', 'transmission_type',\n",
              "       'driven_wheels', 'market_category', 'vehicle_size', 'vehicle_style'],\n",
              "      dtype='object')"
            ]
          },
          "metadata": {},
          "execution_count": 105
        }
      ]
    },
    {
      "cell_type": "code",
      "source": [
        "#  to convert to a list\n",
        "col_strings = list(df.dtypes[df.dtypes  == \"object\"].index)\n"
      ],
      "metadata": {
        "id": "lOscr8tNqXLM"
      },
      "execution_count": null,
      "outputs": []
    },
    {
      "cell_type": "code",
      "source": [
        "# we did the lower case and replace whitespace with '_' we will have to iterate over the values of each string column\n",
        "for col in col_strings:\n",
        "  df[col] = df[col].str.lower().str.replace(' ','_')\n",
        "df.head()"
      ],
      "metadata": {
        "colab": {
          "base_uri": "https://localhost:8080/",
          "height": 287
        },
        "id": "kPIgSOuKrmXm",
        "outputId": "7b8c6147-1078-4dfd-c017-00491bafa245"
      },
      "execution_count": null,
      "outputs": [
        {
          "output_type": "execute_result",
          "data": {
            "text/plain": [
              "  make       model  year             engine_fuel_type  engine_hp  \\\n",
              "0  bmw  1_series_m  2011  premium_unleaded_(required)      335.0   \n",
              "1  bmw    1_series  2011  premium_unleaded_(required)      300.0   \n",
              "2  bmw    1_series  2011  premium_unleaded_(required)      300.0   \n",
              "3  bmw    1_series  2011  premium_unleaded_(required)      230.0   \n",
              "4  bmw    1_series  2011  premium_unleaded_(required)      230.0   \n",
              "\n",
              "   engine_cylinders transmission_type     driven_wheels  number_of_doors  \\\n",
              "0               6.0            manual  rear_wheel_drive              2.0   \n",
              "1               6.0            manual  rear_wheel_drive              2.0   \n",
              "2               6.0            manual  rear_wheel_drive              2.0   \n",
              "3               6.0            manual  rear_wheel_drive              2.0   \n",
              "4               6.0            manual  rear_wheel_drive              2.0   \n",
              "\n",
              "                         market_category vehicle_size vehicle_style  \\\n",
              "0  factory_tuner,luxury,high-performance      compact         coupe   \n",
              "1                     luxury,performance      compact   convertible   \n",
              "2                luxury,high-performance      compact         coupe   \n",
              "3                     luxury,performance      compact         coupe   \n",
              "4                                 luxury      compact   convertible   \n",
              "\n",
              "   highway_mpg  city_mpg  popularity   msrp  \n",
              "0           26        19        3916  46135  \n",
              "1           28        19        3916  40650  \n",
              "2           28        20        3916  36350  \n",
              "3           28        18        3916  29450  \n",
              "4           28        18        3916  34500  "
            ],
            "text/html": [
              "\n",
              "  <div id=\"df-3b22476f-9531-4f92-8ee8-a1f97a48589e\">\n",
              "    <div class=\"colab-df-container\">\n",
              "      <div>\n",
              "<style scoped>\n",
              "    .dataframe tbody tr th:only-of-type {\n",
              "        vertical-align: middle;\n",
              "    }\n",
              "\n",
              "    .dataframe tbody tr th {\n",
              "        vertical-align: top;\n",
              "    }\n",
              "\n",
              "    .dataframe thead th {\n",
              "        text-align: right;\n",
              "    }\n",
              "</style>\n",
              "<table border=\"1\" class=\"dataframe\">\n",
              "  <thead>\n",
              "    <tr style=\"text-align: right;\">\n",
              "      <th></th>\n",
              "      <th>make</th>\n",
              "      <th>model</th>\n",
              "      <th>year</th>\n",
              "      <th>engine_fuel_type</th>\n",
              "      <th>engine_hp</th>\n",
              "      <th>engine_cylinders</th>\n",
              "      <th>transmission_type</th>\n",
              "      <th>driven_wheels</th>\n",
              "      <th>number_of_doors</th>\n",
              "      <th>market_category</th>\n",
              "      <th>vehicle_size</th>\n",
              "      <th>vehicle_style</th>\n",
              "      <th>highway_mpg</th>\n",
              "      <th>city_mpg</th>\n",
              "      <th>popularity</th>\n",
              "      <th>msrp</th>\n",
              "    </tr>\n",
              "  </thead>\n",
              "  <tbody>\n",
              "    <tr>\n",
              "      <th>0</th>\n",
              "      <td>bmw</td>\n",
              "      <td>1_series_m</td>\n",
              "      <td>2011</td>\n",
              "      <td>premium_unleaded_(required)</td>\n",
              "      <td>335.0</td>\n",
              "      <td>6.0</td>\n",
              "      <td>manual</td>\n",
              "      <td>rear_wheel_drive</td>\n",
              "      <td>2.0</td>\n",
              "      <td>factory_tuner,luxury,high-performance</td>\n",
              "      <td>compact</td>\n",
              "      <td>coupe</td>\n",
              "      <td>26</td>\n",
              "      <td>19</td>\n",
              "      <td>3916</td>\n",
              "      <td>46135</td>\n",
              "    </tr>\n",
              "    <tr>\n",
              "      <th>1</th>\n",
              "      <td>bmw</td>\n",
              "      <td>1_series</td>\n",
              "      <td>2011</td>\n",
              "      <td>premium_unleaded_(required)</td>\n",
              "      <td>300.0</td>\n",
              "      <td>6.0</td>\n",
              "      <td>manual</td>\n",
              "      <td>rear_wheel_drive</td>\n",
              "      <td>2.0</td>\n",
              "      <td>luxury,performance</td>\n",
              "      <td>compact</td>\n",
              "      <td>convertible</td>\n",
              "      <td>28</td>\n",
              "      <td>19</td>\n",
              "      <td>3916</td>\n",
              "      <td>40650</td>\n",
              "    </tr>\n",
              "    <tr>\n",
              "      <th>2</th>\n",
              "      <td>bmw</td>\n",
              "      <td>1_series</td>\n",
              "      <td>2011</td>\n",
              "      <td>premium_unleaded_(required)</td>\n",
              "      <td>300.0</td>\n",
              "      <td>6.0</td>\n",
              "      <td>manual</td>\n",
              "      <td>rear_wheel_drive</td>\n",
              "      <td>2.0</td>\n",
              "      <td>luxury,high-performance</td>\n",
              "      <td>compact</td>\n",
              "      <td>coupe</td>\n",
              "      <td>28</td>\n",
              "      <td>20</td>\n",
              "      <td>3916</td>\n",
              "      <td>36350</td>\n",
              "    </tr>\n",
              "    <tr>\n",
              "      <th>3</th>\n",
              "      <td>bmw</td>\n",
              "      <td>1_series</td>\n",
              "      <td>2011</td>\n",
              "      <td>premium_unleaded_(required)</td>\n",
              "      <td>230.0</td>\n",
              "      <td>6.0</td>\n",
              "      <td>manual</td>\n",
              "      <td>rear_wheel_drive</td>\n",
              "      <td>2.0</td>\n",
              "      <td>luxury,performance</td>\n",
              "      <td>compact</td>\n",
              "      <td>coupe</td>\n",
              "      <td>28</td>\n",
              "      <td>18</td>\n",
              "      <td>3916</td>\n",
              "      <td>29450</td>\n",
              "    </tr>\n",
              "    <tr>\n",
              "      <th>4</th>\n",
              "      <td>bmw</td>\n",
              "      <td>1_series</td>\n",
              "      <td>2011</td>\n",
              "      <td>premium_unleaded_(required)</td>\n",
              "      <td>230.0</td>\n",
              "      <td>6.0</td>\n",
              "      <td>manual</td>\n",
              "      <td>rear_wheel_drive</td>\n",
              "      <td>2.0</td>\n",
              "      <td>luxury</td>\n",
              "      <td>compact</td>\n",
              "      <td>convertible</td>\n",
              "      <td>28</td>\n",
              "      <td>18</td>\n",
              "      <td>3916</td>\n",
              "      <td>34500</td>\n",
              "    </tr>\n",
              "  </tbody>\n",
              "</table>\n",
              "</div>\n",
              "      <button class=\"colab-df-convert\" onclick=\"convertToInteractive('df-3b22476f-9531-4f92-8ee8-a1f97a48589e')\"\n",
              "              title=\"Convert this dataframe to an interactive table.\"\n",
              "              style=\"display:none;\">\n",
              "        \n",
              "  <svg xmlns=\"http://www.w3.org/2000/svg\" height=\"24px\"viewBox=\"0 0 24 24\"\n",
              "       width=\"24px\">\n",
              "    <path d=\"M0 0h24v24H0V0z\" fill=\"none\"/>\n",
              "    <path d=\"M18.56 5.44l.94 2.06.94-2.06 2.06-.94-2.06-.94-.94-2.06-.94 2.06-2.06.94zm-11 1L8.5 8.5l.94-2.06 2.06-.94-2.06-.94L8.5 2.5l-.94 2.06-2.06.94zm10 10l.94 2.06.94-2.06 2.06-.94-2.06-.94-.94-2.06-.94 2.06-2.06.94z\"/><path d=\"M17.41 7.96l-1.37-1.37c-.4-.4-.92-.59-1.43-.59-.52 0-1.04.2-1.43.59L10.3 9.45l-7.72 7.72c-.78.78-.78 2.05 0 2.83L4 21.41c.39.39.9.59 1.41.59.51 0 1.02-.2 1.41-.59l7.78-7.78 2.81-2.81c.8-.78.8-2.07 0-2.86zM5.41 20L4 18.59l7.72-7.72 1.47 1.35L5.41 20z\"/>\n",
              "  </svg>\n",
              "      </button>\n",
              "      \n",
              "  <style>\n",
              "    .colab-df-container {\n",
              "      display:flex;\n",
              "      flex-wrap:wrap;\n",
              "      gap: 12px;\n",
              "    }\n",
              "\n",
              "    .colab-df-convert {\n",
              "      background-color: #E8F0FE;\n",
              "      border: none;\n",
              "      border-radius: 50%;\n",
              "      cursor: pointer;\n",
              "      display: none;\n",
              "      fill: #1967D2;\n",
              "      height: 32px;\n",
              "      padding: 0 0 0 0;\n",
              "      width: 32px;\n",
              "    }\n",
              "\n",
              "    .colab-df-convert:hover {\n",
              "      background-color: #E2EBFA;\n",
              "      box-shadow: 0px 1px 2px rgba(60, 64, 67, 0.3), 0px 1px 3px 1px rgba(60, 64, 67, 0.15);\n",
              "      fill: #174EA6;\n",
              "    }\n",
              "\n",
              "    [theme=dark] .colab-df-convert {\n",
              "      background-color: #3B4455;\n",
              "      fill: #D2E3FC;\n",
              "    }\n",
              "\n",
              "    [theme=dark] .colab-df-convert:hover {\n",
              "      background-color: #434B5C;\n",
              "      box-shadow: 0px 1px 3px 1px rgba(0, 0, 0, 0.15);\n",
              "      filter: drop-shadow(0px 1px 2px rgba(0, 0, 0, 0.3));\n",
              "      fill: #FFFFFF;\n",
              "    }\n",
              "  </style>\n",
              "\n",
              "      <script>\n",
              "        const buttonEl =\n",
              "          document.querySelector('#df-3b22476f-9531-4f92-8ee8-a1f97a48589e button.colab-df-convert');\n",
              "        buttonEl.style.display =\n",
              "          google.colab.kernel.accessAllowed ? 'block' : 'none';\n",
              "\n",
              "        async function convertToInteractive(key) {\n",
              "          const element = document.querySelector('#df-3b22476f-9531-4f92-8ee8-a1f97a48589e');\n",
              "          const dataTable =\n",
              "            await google.colab.kernel.invokeFunction('convertToInteractive',\n",
              "                                                     [key], {});\n",
              "          if (!dataTable) return;\n",
              "\n",
              "          const docLinkHtml = 'Like what you see? Visit the ' +\n",
              "            '<a target=\"_blank\" href=https://colab.research.google.com/notebooks/data_table.ipynb>data table notebook</a>'\n",
              "            + ' to learn more about interactive tables.';\n",
              "          element.innerHTML = '';\n",
              "          dataTable['output_type'] = 'display_data';\n",
              "          await google.colab.output.renderOutput(dataTable, element);\n",
              "          const docLink = document.createElement('div');\n",
              "          docLink.innerHTML = docLinkHtml;\n",
              "          element.appendChild(docLink);\n",
              "        }\n",
              "      </script>\n",
              "    </div>\n",
              "  </div>\n",
              "  "
            ]
          },
          "metadata": {},
          "execution_count": 107
        }
      ]
    },
    {
      "cell_type": "markdown",
      "source": [
        "# EDA : Exploratory data analysis"
      ],
      "metadata": {
        "id": "yUwMBx2C5_A2"
      }
    },
    {
      "cell_type": "code",
      "source": [
        "for col in df.columns:\n",
        "  print(col)\n",
        "  print(df[col].unique()[:5])\n",
        "  print(df[col].nunique())\n",
        "  print(\"*********************************\")\n"
      ],
      "metadata": {
        "colab": {
          "base_uri": "https://localhost:8080/"
        },
        "id": "qN_KX0t76QQ8",
        "outputId": "c6964519-d2fa-4286-c84a-3c283eb64b5e"
      },
      "execution_count": null,
      "outputs": [
        {
          "output_type": "stream",
          "name": "stdout",
          "text": [
            "make\n",
            "['bmw' 'audi' 'fiat' 'mercedes-benz' 'chrysler']\n",
            "48\n",
            "*********************************\n",
            "model\n",
            "['1_series_m' '1_series' '100' '124_spider' '190-class']\n",
            "914\n",
            "*********************************\n",
            "year\n",
            "[2011 2012 2013 1992 1993]\n",
            "28\n",
            "*********************************\n",
            "engine_fuel_type\n",
            "['premium_unleaded_(required)' 'regular_unleaded'\n",
            " 'premium_unleaded_(recommended)' 'flex-fuel_(unleaded/e85)' 'diesel']\n",
            "10\n",
            "*********************************\n",
            "engine_hp\n",
            "[335. 300. 230. 320. 172.]\n",
            "356\n",
            "*********************************\n",
            "engine_cylinders\n",
            "[ 6.  4.  5.  8. 12.]\n",
            "9\n",
            "*********************************\n",
            "transmission_type\n",
            "['manual' 'automatic' 'automated_manual' 'direct_drive' 'unknown']\n",
            "5\n",
            "*********************************\n",
            "driven_wheels\n",
            "['rear_wheel_drive' 'front_wheel_drive' 'all_wheel_drive'\n",
            " 'four_wheel_drive']\n",
            "4\n",
            "*********************************\n",
            "number_of_doors\n",
            "[ 2.  4.  3. nan]\n",
            "3\n",
            "*********************************\n",
            "market_category\n",
            "['factory_tuner,luxury,high-performance' 'luxury,performance'\n",
            " 'luxury,high-performance' 'luxury' 'performance']\n",
            "71\n",
            "*********************************\n",
            "vehicle_size\n",
            "['compact' 'midsize' 'large']\n",
            "3\n",
            "*********************************\n",
            "vehicle_style\n",
            "['coupe' 'convertible' 'sedan' 'wagon' '4dr_hatchback']\n",
            "16\n",
            "*********************************\n",
            "highway_mpg\n",
            "[26 28 27 25 24]\n",
            "59\n",
            "*********************************\n",
            "city_mpg\n",
            "[19 20 18 17 16]\n",
            "69\n",
            "*********************************\n",
            "popularity\n",
            "[3916 3105  819  617 1013]\n",
            "48\n",
            "*********************************\n",
            "msrp\n",
            "[46135 40650 36350 29450 34500]\n",
            "6049\n",
            "*********************************\n"
          ]
        }
      ]
    },
    {
      "cell_type": "markdown",
      "source": [
        "\n",
        "*   Distribution of price\n",
        "\n",
        "\n"
      ],
      "metadata": {
        "id": "35Tczvmg_j8d"
      }
    },
    {
      "cell_type": "code",
      "source": [
        "import matplotlib.pyplot as plt\n",
        "import seaborn as sns"
      ],
      "metadata": {
        "id": "H0feyzxD_iBs"
      },
      "execution_count": null,
      "outputs": []
    },
    {
      "cell_type": "code",
      "source": [
        "df.msrp.median(),df.msrp.mean(),df.msrp.max(),df.msrp.min()\n",
        "df.msrp.value_counts()"
      ],
      "metadata": {
        "colab": {
          "base_uri": "https://localhost:8080/"
        },
        "id": "YLPUMTJaCMgL",
        "outputId": "e6c80a5d-5a06-4dea-f865-736d7a49c1e3"
      },
      "execution_count": null,
      "outputs": [
        {
          "output_type": "execute_result",
          "data": {
            "text/plain": [
              "2000     1036\n",
              "29995      19\n",
              "25995      19\n",
              "20995      16\n",
              "27995      16\n",
              "         ... \n",
              "18855       1\n",
              "22575       1\n",
              "20050       1\n",
              "26965       1\n",
              "50920       1\n",
              "Name: msrp, Length: 6049, dtype: int64"
            ]
          },
          "metadata": {},
          "execution_count": 110
        }
      ]
    },
    {
      "cell_type": "code",
      "source": [
        "sns.histplot(df.msrp,bins=50)\n",
        "# we have a long tail distribution so we need to concentrate it ( there is some expensive cars that affect the distibution)"
      ],
      "metadata": {
        "colab": {
          "base_uri": "https://localhost:8080/",
          "height": 296
        },
        "id": "MKn_mOKZDDdX",
        "outputId": "83dcfc38-fbaf-453b-815d-35de3b8b92b7"
      },
      "execution_count": null,
      "outputs": [
        {
          "output_type": "execute_result",
          "data": {
            "text/plain": [
              "<matplotlib.axes._subplots.AxesSubplot at 0x7f800385d090>"
            ]
          },
          "metadata": {},
          "execution_count": 111
        },
        {
          "output_type": "display_data",
          "data": {
            "text/plain": [
              "<Figure size 432x288 with 1 Axes>"
            ],
            "image/png": "[encoded data removed]"
          },
          "metadata": {
            "needs_background": "light"
          }
        }
      ]
    },
    {
      "cell_type": "code",
      "source": [
        "sns.histplot(df[df.msrp < 100000].msrp,bins=50)"
      ],
      "metadata": {
        "colab": {
          "base_uri": "https://localhost:8080/",
          "height": 296
        },
        "id": "dvlq1gIpA3aL",
        "outputId": "8d62e00b-aa7d-4b41-d55a-6d007b5c3675"
      },
      "execution_count": null,
      "outputs": [
        {
          "output_type": "execute_result",
          "data": {
            "text/plain": [
              "<matplotlib.axes._subplots.AxesSubplot at 0x7f800389d910>"
            ]
          },
          "metadata": {},
          "execution_count": 112
        },
        {
          "output_type": "display_data",
          "data": {
            "text/plain": [
              "<Figure size 432x288 with 1 Axes>"
            ],
            "image/png": "[encoded data removed]"
          },
          "metadata": {
            "needs_background": "light"
          }
        }
      ]
    },
    {
      "cell_type": "markdown",
      "source": [
        "\n",
        "\n",
        "*   the long tail distribution will affect our ML model (confuse it ) we can solve the problem by applying log() to the target variable price \n",
        "\n",
        "\n",
        "\n"
      ],
      "metadata": {
        "id": "cr_U9Z9uEQwU"
      }
    },
    {
      "cell_type": "code",
      "source": [
        "np.log([1,10,100,1000,10000,100000,1000000])\n",
        "# but there still the probleme of the 0 in log "
      ],
      "metadata": {
        "colab": {
          "base_uri": "https://localhost:8080/"
        },
        "id": "dWL28-HsDiI4",
        "outputId": "532bda13-72c6-4613-c7ea-255c334c7a33"
      },
      "execution_count": null,
      "outputs": [
        {
          "output_type": "execute_result",
          "data": {
            "text/plain": [
              "array([ 0.        ,  2.30258509,  4.60517019,  6.90775528,  9.21034037,\n",
              "       11.51292546, 13.81551056])"
            ]
          },
          "metadata": {},
          "execution_count": 113
        }
      ]
    },
    {
      "cell_type": "code",
      "source": [
        "np.log([0+1,1+1,10+1,100+1,1000+1,10000+1,100000+1,1000000+1])\n",
        "#instead of adding 1 there is a equivalent : log1p\n",
        "np.log1p([1,10,100,1000,10000,100000,1000000])"
      ],
      "metadata": {
        "colab": {
          "base_uri": "https://localhost:8080/"
        },
        "id": "Jzq0SAPPGz8F",
        "outputId": "53fcda85-51e3-4d6a-fd90-8ce31383e93b"
      },
      "execution_count": null,
      "outputs": [
        {
          "output_type": "execute_result",
          "data": {
            "text/plain": [
              "array([ 0.69314718,  2.39789527,  4.61512052,  6.90875478,  9.21044037,\n",
              "       11.51293546, 13.81551156])"
            ]
          },
          "metadata": {},
          "execution_count": 114
        }
      ]
    },
    {
      "cell_type": "code",
      "source": [
        "prices = np.log1p(df.msrp)"
      ],
      "metadata": {
        "id": "dE5CbyLjHUOj"
      },
      "execution_count": null,
      "outputs": []
    },
    {
      "cell_type": "code",
      "source": [
        "sns.histplot(prices,bins=50)\n",
        "# now it looks like normal distribution which is perfect for a model"
      ],
      "metadata": {
        "colab": {
          "base_uri": "https://localhost:8080/",
          "height": 296
        },
        "id": "a0-Y6MgYHkZe",
        "outputId": "f85fdd95-c7ce-4f90-976a-2313f1e63ff3"
      },
      "execution_count": null,
      "outputs": [
        {
          "output_type": "execute_result",
          "data": {
            "text/plain": [
              "<matplotlib.axes._subplots.AxesSubplot at 0x7f8003897d10>"
            ]
          },
          "metadata": {},
          "execution_count": 116
        },
        {
          "output_type": "display_data",
          "data": {
            "text/plain": [
              "<Figure size 432x288 with 1 Axes>"
            ],
            "image/png": "[encoded data removed]"
          },
          "metadata": {
            "needs_background": "light"
          }
        }
      ]
    },
    {
      "cell_type": "markdown",
      "source": [
        "\n",
        "*   Missing values\n",
        "\n",
        "\n",
        "\n"
      ],
      "metadata": {
        "id": "It_61i7MIDW6"
      }
    },
    {
      "cell_type": "code",
      "source": [
        "df.isnull().sum()"
      ],
      "metadata": {
        "colab": {
          "base_uri": "https://localhost:8080/"
        },
        "id": "pRvEC8_wIMrS",
        "outputId": "fd4aa7d7-6e52-4871-ba6f-c8d068bc75e4"
      },
      "execution_count": null,
      "outputs": [
        {
          "output_type": "execute_result",
          "data": {
            "text/plain": [
              "make                    0\n",
              "model                   0\n",
              "year                    0\n",
              "engine_fuel_type        3\n",
              "engine_hp              69\n",
              "engine_cylinders       30\n",
              "transmission_type       0\n",
              "driven_wheels           0\n",
              "number_of_doors         6\n",
              "market_category      3742\n",
              "vehicle_size            0\n",
              "vehicle_style           0\n",
              "highway_mpg             0\n",
              "city_mpg                0\n",
              "popularity              0\n",
              "msrp                    0\n",
              "dtype: int64"
            ]
          },
          "metadata": {},
          "execution_count": 117
        }
      ]
    },
    {
      "cell_type": "markdown",
      "source": [
        "#Setting up the validation framework"
      ],
      "metadata": {
        "id": "GVyzIFuBO3F2"
      }
    },
    {
      "cell_type": "markdown",
      "source": [
        "we will work a validation system :\n",
        "*   60% trainnig\n",
        "*   20% validation\n",
        "*   20% testing\n"
      ],
      "metadata": {
        "id": "yDpRJP2wQB5V"
      }
    },
    {
      "cell_type": "code",
      "source": [
        "#there is 11914 rows\n",
        "n = df.shape[0]\n",
        "n"
      ],
      "metadata": {
        "colab": {
          "base_uri": "https://localhost:8080/"
        },
        "id": "3Lpp5bi5PL6G",
        "outputId": "338b9ce2-2974-404c-aaa0-f60961ae895a"
      },
      "execution_count": null,
      "outputs": [
        {
          "output_type": "execute_result",
          "data": {
            "text/plain": [
              "11914"
            ]
          },
          "metadata": {},
          "execution_count": 118
        }
      ]
    },
    {
      "cell_type": "code",
      "source": [
        "n_test = int(df.shape[0]*0.2)\n",
        "n_val = int(df.shape[0]*0.2)\n",
        "n_train = n-(n_test+n_val)\n",
        "\n",
        "n_test+n_train+n_val"
      ],
      "metadata": {
        "colab": {
          "base_uri": "https://localhost:8080/"
        },
        "id": "SxVPv3IYP3SV",
        "outputId": "76b723fe-fbde-477b-8a49-ab73cde674c8"
      },
      "execution_count": null,
      "outputs": [
        {
          "output_type": "execute_result",
          "data": {
            "text/plain": [
              "11914"
            ]
          },
          "metadata": {},
          "execution_count": 119
        }
      ]
    },
    {
      "cell_type": "code",
      "source": [
        "#df_train = df.iloc[:n_train]\n",
        "#df_val = df.iloc[n_train:n_val+n_train]\n",
        "#df_test = df.iloc[n_val+n_train:]\n"
      ],
      "metadata": {
        "id": "L6ABqCJ9R8nl"
      },
      "execution_count": null,
      "outputs": []
    },
    {
      "cell_type": "markdown",
      "source": [
        "**using this method we can have for example bmw in jst validation part and not the other parts so we need to shuffle it**"
      ],
      "metadata": {
        "id": "TwBO7-lWVI7g"
      }
    },
    {
      "cell_type": "code",
      "source": [
        "idx = np.arange(n)\n",
        "idx"
      ],
      "metadata": {
        "colab": {
          "base_uri": "https://localhost:8080/"
        },
        "id": "STS7HIvOVcF2",
        "outputId": "99ca4844-3a9f-49d5-9c7a-b697ddca2ec2"
      },
      "execution_count": null,
      "outputs": [
        {
          "output_type": "execute_result",
          "data": {
            "text/plain": [
              "array([    0,     1,     2, ..., 11911, 11912, 11913])"
            ]
          },
          "metadata": {},
          "execution_count": 121
        }
      ]
    },
    {
      "cell_type": "code",
      "source": [
        "#with ramdom every one will get a random result but with .seed function we can have the same result and stil random\n",
        "np.random.seed(2)\n",
        "np.random.shuffle(idx)"
      ],
      "metadata": {
        "id": "5ZOgHvw3XHBG"
      },
      "execution_count": null,
      "outputs": []
    },
    {
      "cell_type": "code",
      "source": [
        "len(idx)"
      ],
      "metadata": {
        "colab": {
          "base_uri": "https://localhost:8080/"
        },
        "id": "hYjHNZRnXXN9",
        "outputId": "87556c38-c66a-410a-e348-9b24c97dea91"
      },
      "execution_count": null,
      "outputs": [
        {
          "output_type": "execute_result",
          "data": {
            "text/plain": [
              "11914"
            ]
          },
          "metadata": {},
          "execution_count": 123
        }
      ]
    },
    {
      "cell_type": "code",
      "source": [
        "df_shuffle = df.iloc[idx]"
      ],
      "metadata": {
        "id": "rBrgwZrmYBQG"
      },
      "execution_count": null,
      "outputs": []
    },
    {
      "cell_type": "code",
      "source": [
        "df_train = df_shuffle.iloc[:n_train].copy()\n",
        "df_val = df_shuffle.iloc[n_train:n_val+n_train].copy()\n",
        "df_test = df_shuffle.iloc[n_val+n_train:].copy()"
      ],
      "metadata": {
        "id": "PNgkp3ciXkzC"
      },
      "execution_count": null,
      "outputs": []
    },
    {
      "cell_type": "code",
      "source": [
        "df_train\n",
        "#we still have the shuffle index which is not convenient"
      ],
      "metadata": {
        "colab": {
          "base_uri": "https://localhost:8080/",
          "height": 488
        },
        "id": "uVX_yvp8YnVU",
        "outputId": "db09faa3-4636-4332-f8c5-0c74ad51805a"
      },
      "execution_count": null,
      "outputs": [
        {
          "output_type": "execute_result",
          "data": {
            "text/plain": [
              "              make        model  year                engine_fuel_type  \\\n",
              "2735     chevrolet       cobalt  2008                regular_unleaded   \n",
              "6720        toyota       matrix  2012                regular_unleaded   \n",
              "5878        subaru      impreza  2016                regular_unleaded   \n",
              "11190   volkswagen      vanagon  1991                regular_unleaded   \n",
              "4554          ford        f-150  2017        flex-fuel_(unleaded/e85)   \n",
              "...            ...          ...   ...                             ...   \n",
              "434            bmw     4_series  2015     premium_unleaded_(required)   \n",
              "1902    volkswagen       beetle  2015  premium_unleaded_(recommended)   \n",
              "9334           gmc  sierra_1500  2015        flex-fuel_(unleaded/e85)   \n",
              "5284   rolls-royce        ghost  2014     premium_unleaded_(required)   \n",
              "2420    volkswagen           cc  2017  premium_unleaded_(recommended)   \n",
              "\n",
              "       engine_hp  engine_cylinders transmission_type      driven_wheels  \\\n",
              "2735       148.0               4.0            manual  front_wheel_drive   \n",
              "6720       132.0               4.0         automatic  front_wheel_drive   \n",
              "5878       148.0               4.0         automatic    all_wheel_drive   \n",
              "11190       90.0               4.0            manual   rear_wheel_drive   \n",
              "4554       385.0               8.0         automatic   four_wheel_drive   \n",
              "...          ...               ...               ...                ...   \n",
              "434        300.0               6.0         automatic   rear_wheel_drive   \n",
              "1902       210.0               4.0  automated_manual  front_wheel_drive   \n",
              "9334       285.0               6.0         automatic   four_wheel_drive   \n",
              "5284       563.0              12.0         automatic   rear_wheel_drive   \n",
              "2420       200.0               4.0  automated_manual  front_wheel_drive   \n",
              "\n",
              "       number_of_doors            market_category vehicle_size  \\\n",
              "2735               2.0                        NaN      compact   \n",
              "6720               4.0                  hatchback      compact   \n",
              "5878               4.0                  hatchback      compact   \n",
              "11190              3.0                        NaN        large   \n",
              "4554               4.0                  flex_fuel        large   \n",
              "...                ...                        ...          ...   \n",
              "434                2.0         luxury,performance      midsize   \n",
              "1902               2.0      hatchback,performance      compact   \n",
              "9334               4.0                  flex_fuel        large   \n",
              "5284               4.0  exotic,luxury,performance        large   \n",
              "2420               4.0                performance      midsize   \n",
              "\n",
              "             vehicle_style  highway_mpg  city_mpg  popularity    msrp  \n",
              "2735                 coupe           33        24        1385   14410  \n",
              "6720         4dr_hatchback           32        25        2031   19685  \n",
              "5878         4dr_hatchback           37        28         640   19795  \n",
              "11190    passenger_minivan           18        16         873    2000  \n",
              "4554       crew_cab_pickup           21        15        5657   56260  \n",
              "...                    ...          ...       ...         ...     ...  \n",
              "434            convertible           31        20        3916   54900  \n",
              "1902         2dr_hatchback           30        24         873   29215  \n",
              "9334   extended_cab_pickup           22        17         549   34675  \n",
              "5284                 sedan           21        13          86  303300  \n",
              "2420                 sedan           31        22         873   37820  \n",
              "\n",
              "[7150 rows x 16 columns]"
            ],
            "text/html": [
              "\n",
              "  <div id=\"df-8d10f126-4b5b-44a6-80a7-d2d1753752aa\">\n",
              "    <div class=\"colab-df-container\">\n",
              "      <div>\n",
              "<style scoped>\n",
              "    .dataframe tbody tr th:only-of-type {\n",
              "        vertical-align: middle;\n",
              "    }\n",
              "\n",
              "    .dataframe tbody tr th {\n",
              "        vertical-align: top;\n",
              "    }\n",
              "\n",
              "    .dataframe thead th {\n",
              "        text-align: right;\n",
              "    }\n",
              "</style>\n",
              "<table border=\"1\" class=\"dataframe\">\n",
              "  <thead>\n",
              "    <tr style=\"text-align: right;\">\n",
              "      <th></th>\n",
              "      <th>make</th>\n",
              "      <th>model</th>\n",
              "      <th>year</th>\n",
              "      <th>engine_fuel_type</th>\n",
              "      <th>engine_hp</th>\n",
              "      <th>engine_cylinders</th>\n",
              "      <th>transmission_type</th>\n",
              "      <th>driven_wheels</th>\n",
              "      <th>number_of_doors</th>\n",
              "      <th>market_category</th>\n",
              "      <th>vehicle_size</th>\n",
              "      <th>vehicle_style</th>\n",
              "      <th>highway_mpg</th>\n",
              "      <th>city_mpg</th>\n",
              "      <th>popularity</th>\n",
              "      <th>msrp</th>\n",
              "    </tr>\n",
              "  </thead>\n",
              "  <tbody>\n",
              "    <tr>\n",
              "      <th>2735</th>\n",
              "      <td>chevrolet</td>\n",
              "      <td>cobalt</td>\n",
              "      <td>2008</td>\n",
              "      <td>regular_unleaded</td>\n",
              "      <td>148.0</td>\n",
              "      <td>4.0</td>\n",
              "      <td>manual</td>\n",
              "      <td>front_wheel_drive</td>\n",
              "      <td>2.0</td>\n",
              "      <td>NaN</td>\n",
              "      <td>compact</td>\n",
              "      <td>coupe</td>\n",
              "      <td>33</td>\n",
              "      <td>24</td>\n",
              "      <td>1385</td>\n",
              "      <td>14410</td>\n",
              "    </tr>\n",
              "    <tr>\n",
              "      <th>6720</th>\n",
              "      <td>toyota</td>\n",
              "      <td>matrix</td>\n",
              "      <td>2012</td>\n",
              "      <td>regular_unleaded</td>\n",
              "      <td>132.0</td>\n",
              "      <td>4.0</td>\n",
              "      <td>automatic</td>\n",
              "      <td>front_wheel_drive</td>\n",
              "      <td>4.0</td>\n",
              "      <td>hatchback</td>\n",
              "      <td>compact</td>\n",
              "      <td>4dr_hatchback</td>\n",
              "      <td>32</td>\n",
              "      <td>25</td>\n",
              "      <td>2031</td>\n",
              "      <td>19685</td>\n",
              "    </tr>\n",
              "    <tr>\n",
              "      <th>5878</th>\n",
              "      <td>subaru</td>\n",
              "      <td>impreza</td>\n",
              "      <td>2016</td>\n",
              "      <td>regular_unleaded</td>\n",
              "      <td>148.0</td>\n",
              "      <td>4.0</td>\n",
              "      <td>automatic</td>\n",
              "      <td>all_wheel_drive</td>\n",
              "      <td>4.0</td>\n",
              "      <td>hatchback</td>\n",
              "      <td>compact</td>\n",
              "      <td>4dr_hatchback</td>\n",
              "      <td>37</td>\n",
              "      <td>28</td>\n",
              "      <td>640</td>\n",
              "      <td>19795</td>\n",
              "    </tr>\n",
              "    <tr>\n",
              "      <th>11190</th>\n",
              "      <td>volkswagen</td>\n",
              "      <td>vanagon</td>\n",
              "      <td>1991</td>\n",
              "      <td>regular_unleaded</td>\n",
              "      <td>90.0</td>\n",
              "      <td>4.0</td>\n",
              "      <td>manual</td>\n",
              "      <td>rear_wheel_drive</td>\n",
              "      <td>3.0</td>\n",
              "      <td>NaN</td>\n",
              "      <td>large</td>\n",
              "      <td>passenger_minivan</td>\n",
              "      <td>18</td>\n",
              "      <td>16</td>\n",
              "      <td>873</td>\n",
              "      <td>2000</td>\n",
              "    </tr>\n",
              "    <tr>\n",
              "      <th>4554</th>\n",
              "      <td>ford</td>\n",
              "      <td>f-150</td>\n",
              "      <td>2017</td>\n",
              "      <td>flex-fuel_(unleaded/e85)</td>\n",
              "      <td>385.0</td>\n",
              "      <td>8.0</td>\n",
              "      <td>automatic</td>\n",
              "      <td>four_wheel_drive</td>\n",
              "      <td>4.0</td>\n",
              "      <td>flex_fuel</td>\n",
              "      <td>large</td>\n",
              "      <td>crew_cab_pickup</td>\n",
              "      <td>21</td>\n",
              "      <td>15</td>\n",
              "      <td>5657</td>\n",
              "      <td>56260</td>\n",
              "    </tr>\n",
              "    <tr>\n",
              "      <th>...</th>\n",
              "      <td>...</td>\n",
              "      <td>...</td>\n",
              "      <td>...</td>\n",
              "      <td>...</td>\n",
              "      <td>...</td>\n",
              "      <td>...</td>\n",
              "      <td>...</td>\n",
              "      <td>...</td>\n",
              "      <td>...</td>\n",
              "      <td>...</td>\n",
              "      <td>...</td>\n",
              "      <td>...</td>\n",
              "      <td>...</td>\n",
              "      <td>...</td>\n",
              "      <td>...</td>\n",
              "      <td>...</td>\n",
              "    </tr>\n",
              "    <tr>\n",
              "      <th>434</th>\n",
              "      <td>bmw</td>\n",
              "      <td>4_series</td>\n",
              "      <td>2015</td>\n",
              "      <td>premium_unleaded_(required)</td>\n",
              "      <td>300.0</td>\n",
              "      <td>6.0</td>\n",
              "      <td>automatic</td>\n",
              "      <td>rear_wheel_drive</td>\n",
              "      <td>2.0</td>\n",
              "      <td>luxury,performance</td>\n",
              "      <td>midsize</td>\n",
              "      <td>convertible</td>\n",
              "      <td>31</td>\n",
              "      <td>20</td>\n",
              "      <td>3916</td>\n",
              "      <td>54900</td>\n",
              "    </tr>\n",
              "    <tr>\n",
              "      <th>1902</th>\n",
              "      <td>volkswagen</td>\n",
              "      <td>beetle</td>\n",
              "      <td>2015</td>\n",
              "      <td>premium_unleaded_(recommended)</td>\n",
              "      <td>210.0</td>\n",
              "      <td>4.0</td>\n",
              "      <td>automated_manual</td>\n",
              "      <td>front_wheel_drive</td>\n",
              "      <td>2.0</td>\n",
              "      <td>hatchback,performance</td>\n",
              "      <td>compact</td>\n",
              "      <td>2dr_hatchback</td>\n",
              "      <td>30</td>\n",
              "      <td>24</td>\n",
              "      <td>873</td>\n",
              "      <td>29215</td>\n",
              "    </tr>\n",
              "    <tr>\n",
              "      <th>9334</th>\n",
              "      <td>gmc</td>\n",
              "      <td>sierra_1500</td>\n",
              "      <td>2015</td>\n",
              "      <td>flex-fuel_(unleaded/e85)</td>\n",
              "      <td>285.0</td>\n",
              "      <td>6.0</td>\n",
              "      <td>automatic</td>\n",
              "      <td>four_wheel_drive</td>\n",
              "      <td>4.0</td>\n",
              "      <td>flex_fuel</td>\n",
              "      <td>large</td>\n",
              "      <td>extended_cab_pickup</td>\n",
              "      <td>22</td>\n",
              "      <td>17</td>\n",
              "      <td>549</td>\n",
              "      <td>34675</td>\n",
              "    </tr>\n",
              "    <tr>\n",
              "      <th>5284</th>\n",
              "      <td>rolls-royce</td>\n",
              "      <td>ghost</td>\n",
              "      <td>2014</td>\n",
              "      <td>premium_unleaded_(required)</td>\n",
              "      <td>563.0</td>\n",
              "      <td>12.0</td>\n",
              "      <td>automatic</td>\n",
              "      <td>rear_wheel_drive</td>\n",
              "      <td>4.0</td>\n",
              "      <td>exotic,luxury,performance</td>\n",
              "      <td>large</td>\n",
              "      <td>sedan</td>\n",
              "      <td>21</td>\n",
              "      <td>13</td>\n",
              "      <td>86</td>\n",
              "      <td>303300</td>\n",
              "    </tr>\n",
              "    <tr>\n",
              "      <th>2420</th>\n",
              "      <td>volkswagen</td>\n",
              "      <td>cc</td>\n",
              "      <td>2017</td>\n",
              "      <td>premium_unleaded_(recommended)</td>\n",
              "      <td>200.0</td>\n",
              "      <td>4.0</td>\n",
              "      <td>automated_manual</td>\n",
              "      <td>front_wheel_drive</td>\n",
              "      <td>4.0</td>\n",
              "      <td>performance</td>\n",
              "      <td>midsize</td>\n",
              "      <td>sedan</td>\n",
              "      <td>31</td>\n",
              "      <td>22</td>\n",
              "      <td>873</td>\n",
              "      <td>37820</td>\n",
              "    </tr>\n",
              "  </tbody>\n",
              "</table>\n",
              "<p>7150 rows × 16 columns</p>\n",
              "</div>\n",
              "      <button class=\"colab-df-convert\" onclick=\"convertToInteractive('df-8d10f126-4b5b-44a6-80a7-d2d1753752aa')\"\n",
              "              title=\"Convert this dataframe to an interactive table.\"\n",
              "              style=\"display:none;\">\n",
              "        \n",
              "  <svg xmlns=\"http://www.w3.org/2000/svg\" height=\"24px\"viewBox=\"0 0 24 24\"\n",
              "       width=\"24px\">\n",
              "    <path d=\"M0 0h24v24H0V0z\" fill=\"none\"/>\n",
              "    <path d=\"M18.56 5.44l.94 2.06.94-2.06 2.06-.94-2.06-.94-.94-2.06-.94 2.06-2.06.94zm-11 1L8.5 8.5l.94-2.06 2.06-.94-2.06-.94L8.5 2.5l-.94 2.06-2.06.94zm10 10l.94 2.06.94-2.06 2.06-.94-2.06-.94-.94-2.06-.94 2.06-2.06.94z\"/><path d=\"M17.41 7.96l-1.37-1.37c-.4-.4-.92-.59-1.43-.59-.52 0-1.04.2-1.43.59L10.3 9.45l-7.72 7.72c-.78.78-.78 2.05 0 2.83L4 21.41c.39.39.9.59 1.41.59.51 0 1.02-.2 1.41-.59l7.78-7.78 2.81-2.81c.8-.78.8-2.07 0-2.86zM5.41 20L4 18.59l7.72-7.72 1.47 1.35L5.41 20z\"/>\n",
              "  </svg>\n",
              "      </button>\n",
              "      \n",
              "  <style>\n",
              "    .colab-df-container {\n",
              "      display:flex;\n",
              "      flex-wrap:wrap;\n",
              "      gap: 12px;\n",
              "    }\n",
              "\n",
              "    .colab-df-convert {\n",
              "      background-color: #E8F0FE;\n",
              "      border: none;\n",
              "      border-radius: 50%;\n",
              "      cursor: pointer;\n",
              "      display: none;\n",
              "      fill: #1967D2;\n",
              "      height: 32px;\n",
              "      padding: 0 0 0 0;\n",
              "      width: 32px;\n",
              "    }\n",
              "\n",
              "    .colab-df-convert:hover {\n",
              "      background-color: #E2EBFA;\n",
              "      box-shadow: 0px 1px 2px rgba(60, 64, 67, 0.3), 0px 1px 3px 1px rgba(60, 64, 67, 0.15);\n",
              "      fill: #174EA6;\n",
              "    }\n",
              "\n",
              "    [theme=dark] .colab-df-convert {\n",
              "      background-color: #3B4455;\n",
              "      fill: #D2E3FC;\n",
              "    }\n",
              "\n",
              "    [theme=dark] .colab-df-convert:hover {\n",
              "      background-color: #434B5C;\n",
              "      box-shadow: 0px 1px 3px 1px rgba(0, 0, 0, 0.15);\n",
              "      filter: drop-shadow(0px 1px 2px rgba(0, 0, 0, 0.3));\n",
              "      fill: #FFFFFF;\n",
              "    }\n",
              "  </style>\n",
              "\n",
              "      <script>\n",
              "        const buttonEl =\n",
              "          document.querySelector('#df-8d10f126-4b5b-44a6-80a7-d2d1753752aa button.colab-df-convert');\n",
              "        buttonEl.style.display =\n",
              "          google.colab.kernel.accessAllowed ? 'block' : 'none';\n",
              "\n",
              "        async function convertToInteractive(key) {\n",
              "          const element = document.querySelector('#df-8d10f126-4b5b-44a6-80a7-d2d1753752aa');\n",
              "          const dataTable =\n",
              "            await google.colab.kernel.invokeFunction('convertToInteractive',\n",
              "                                                     [key], {});\n",
              "          if (!dataTable) return;\n",
              "\n",
              "          const docLinkHtml = 'Like what you see? Visit the ' +\n",
              "            '<a target=\"_blank\" href=https://colab.research.google.com/notebooks/data_table.ipynb>data table notebook</a>'\n",
              "            + ' to learn more about interactive tables.';\n",
              "          element.innerHTML = '';\n",
              "          dataTable['output_type'] = 'display_data';\n",
              "          await google.colab.output.renderOutput(dataTable, element);\n",
              "          const docLink = document.createElement('div');\n",
              "          docLink.innerHTML = docLinkHtml;\n",
              "          element.appendChild(docLink);\n",
              "        }\n",
              "      </script>\n",
              "    </div>\n",
              "  </div>\n",
              "  "
            ]
          },
          "metadata": {},
          "execution_count": 126
        }
      ]
    },
    {
      "cell_type": "code",
      "source": [
        "len(df_train)+len(df_test)+len(df_val)"
      ],
      "metadata": {
        "colab": {
          "base_uri": "https://localhost:8080/"
        },
        "id": "oAzzS6b9eKzt",
        "outputId": "4c5d6051-0214-407a-cc71-5857afdcc292"
      },
      "execution_count": null,
      "outputs": [
        {
          "output_type": "execute_result",
          "data": {
            "text/plain": [
              "11914"
            ]
          },
          "metadata": {},
          "execution_count": 127
        }
      ]
    },
    {
      "cell_type": "code",
      "source": [
        "#we still have the shuffle index which is not convenient\n",
        "#we will take the default index \n",
        "df_train = df_train.reset_index()\n",
        "df_test = df_test.reset_index()\n",
        "df_val = df_val.reset_index()"
      ],
      "metadata": {
        "id": "FanZY2XNfguU"
      },
      "execution_count": null,
      "outputs": []
    },
    {
      "cell_type": "code",
      "source": [
        "df_train.msrp"
      ],
      "metadata": {
        "colab": {
          "base_uri": "https://localhost:8080/"
        },
        "id": "9gn0IN8rhqE-",
        "outputId": "e69c30e0-99ae-4a79-8d10-15caa19b28ac"
      },
      "execution_count": null,
      "outputs": [
        {
          "output_type": "execute_result",
          "data": {
            "text/plain": [
              "0        14410\n",
              "1        19685\n",
              "2        19795\n",
              "3         2000\n",
              "4        56260\n",
              "         ...  \n",
              "7145     54900\n",
              "7146     29215\n",
              "7147     34675\n",
              "7148    303300\n",
              "7149     37820\n",
              "Name: msrp, Length: 7150, dtype: int64"
            ]
          },
          "metadata": {},
          "execution_count": 129
        }
      ]
    },
    {
      "cell_type": "code",
      "source": [
        "# if we take this command we will get the index + values \n",
        "np.log1p(df_train.msrp)"
      ],
      "metadata": {
        "colab": {
          "base_uri": "https://localhost:8080/"
        },
        "id": "FfVreo6EhK7W",
        "outputId": "971fa5a6-cf04-4b92-afd0-d86bc92a86a5"
      },
      "execution_count": null,
      "outputs": [
        {
          "output_type": "execute_result",
          "data": {
            "text/plain": [
              "0        9.575747\n",
              "1        9.887663\n",
              "2        9.893235\n",
              "3        7.601402\n",
              "4       10.937757\n",
              "          ...    \n",
              "7145    10.913287\n",
              "7146    10.282472\n",
              "7147    10.453803\n",
              "7148    12.622481\n",
              "7149    10.540620\n",
              "Name: msrp, Length: 7150, dtype: float64"
            ]
          },
          "metadata": {},
          "execution_count": 130
        }
      ]
    },
    {
      "cell_type": "code",
      "source": [
        "# we will select only the values \n",
        "np.log1p(df_train.msrp.values)"
      ],
      "metadata": {
        "colab": {
          "base_uri": "https://localhost:8080/"
        },
        "id": "37OH_6SLjQAE",
        "outputId": "51a38177-ea29-4625-fb7d-49757161daeb"
      },
      "execution_count": null,
      "outputs": [
        {
          "output_type": "execute_result",
          "data": {
            "text/plain": [
              "array([ 9.57574708,  9.887663  ,  9.89323518, ..., 10.45380308,\n",
              "       12.62248099, 10.54061978])"
            ]
          },
          "metadata": {},
          "execution_count": 131
        }
      ]
    },
    {
      "cell_type": "code",
      "source": [
        "y_train = np.log1p(df_train.msrp.values)\n",
        "y_test = np.log1p(df_test.msrp.values)\n",
        "y_val = np.log1p(df_val.msrp.values)"
      ],
      "metadata": {
        "id": "fI1ewGalgZK1"
      },
      "execution_count": null,
      "outputs": []
    },
    {
      "cell_type": "code",
      "source": [
        "# the last step is we need tod delete the target variable from Xtest Xval and Xtrain\n",
        "del df_train['msrp']\n",
        "del df_test['msrp']\n",
        "del df_val['msrp']\n",
        "\n"
      ],
      "metadata": {
        "id": "Ws-6JsQDjrck"
      },
      "execution_count": null,
      "outputs": []
    },
    {
      "cell_type": "code",
      "source": [
        "df_train"
      ],
      "metadata": {
        "colab": {
          "base_uri": "https://localhost:8080/",
          "height": 488
        },
        "id": "eepxHRpOkZ1G",
        "outputId": "e4c329d3-0358-4215-eb42-156b275b6923"
      },
      "execution_count": null,
      "outputs": [
        {
          "output_type": "execute_result",
          "data": {
            "text/plain": [
              "      index         make        model  year                engine_fuel_type  \\\n",
              "0      2735    chevrolet       cobalt  2008                regular_unleaded   \n",
              "1      6720       toyota       matrix  2012                regular_unleaded   \n",
              "2      5878       subaru      impreza  2016                regular_unleaded   \n",
              "3     11190   volkswagen      vanagon  1991                regular_unleaded   \n",
              "4      4554         ford        f-150  2017        flex-fuel_(unleaded/e85)   \n",
              "...     ...          ...          ...   ...                             ...   \n",
              "7145    434          bmw     4_series  2015     premium_unleaded_(required)   \n",
              "7146   1902   volkswagen       beetle  2015  premium_unleaded_(recommended)   \n",
              "7147   9334          gmc  sierra_1500  2015        flex-fuel_(unleaded/e85)   \n",
              "7148   5284  rolls-royce        ghost  2014     premium_unleaded_(required)   \n",
              "7149   2420   volkswagen           cc  2017  premium_unleaded_(recommended)   \n",
              "\n",
              "      engine_hp  engine_cylinders transmission_type      driven_wheels  \\\n",
              "0         148.0               4.0            manual  front_wheel_drive   \n",
              "1         132.0               4.0         automatic  front_wheel_drive   \n",
              "2         148.0               4.0         automatic    all_wheel_drive   \n",
              "3          90.0               4.0            manual   rear_wheel_drive   \n",
              "4         385.0               8.0         automatic   four_wheel_drive   \n",
              "...         ...               ...               ...                ...   \n",
              "7145      300.0               6.0         automatic   rear_wheel_drive   \n",
              "7146      210.0               4.0  automated_manual  front_wheel_drive   \n",
              "7147      285.0               6.0         automatic   four_wheel_drive   \n",
              "7148      563.0              12.0         automatic   rear_wheel_drive   \n",
              "7149      200.0               4.0  automated_manual  front_wheel_drive   \n",
              "\n",
              "      number_of_doors            market_category vehicle_size  \\\n",
              "0                 2.0                        NaN      compact   \n",
              "1                 4.0                  hatchback      compact   \n",
              "2                 4.0                  hatchback      compact   \n",
              "3                 3.0                        NaN        large   \n",
              "4                 4.0                  flex_fuel        large   \n",
              "...               ...                        ...          ...   \n",
              "7145              2.0         luxury,performance      midsize   \n",
              "7146              2.0      hatchback,performance      compact   \n",
              "7147              4.0                  flex_fuel        large   \n",
              "7148              4.0  exotic,luxury,performance        large   \n",
              "7149              4.0                performance      midsize   \n",
              "\n",
              "            vehicle_style  highway_mpg  city_mpg  popularity  \n",
              "0                   coupe           33        24        1385  \n",
              "1           4dr_hatchback           32        25        2031  \n",
              "2           4dr_hatchback           37        28         640  \n",
              "3       passenger_minivan           18        16         873  \n",
              "4         crew_cab_pickup           21        15        5657  \n",
              "...                   ...          ...       ...         ...  \n",
              "7145          convertible           31        20        3916  \n",
              "7146        2dr_hatchback           30        24         873  \n",
              "7147  extended_cab_pickup           22        17         549  \n",
              "7148                sedan           21        13          86  \n",
              "7149                sedan           31        22         873  \n",
              "\n",
              "[7150 rows x 16 columns]"
            ],
            "text/html": [
              "\n",
              "  <div id=\"df-37d8a905-3428-4151-8ce7-4521acfa30f1\">\n",
              "    <div class=\"colab-df-container\">\n",
              "      <div>\n",
              "<style scoped>\n",
              "    .dataframe tbody tr th:only-of-type {\n",
              "        vertical-align: middle;\n",
              "    }\n",
              "\n",
              "    .dataframe tbody tr th {\n",
              "        vertical-align: top;\n",
              "    }\n",
              "\n",
              "    .dataframe thead th {\n",
              "        text-align: right;\n",
              "    }\n",
              "</style>\n",
              "<table border=\"1\" class=\"dataframe\">\n",
              "  <thead>\n",
              "    <tr style=\"text-align: right;\">\n",
              "      <th></th>\n",
              "      <th>index</th>\n",
              "      <th>make</th>\n",
              "      <th>model</th>\n",
              "      <th>year</th>\n",
              "      <th>engine_fuel_type</th>\n",
              "      <th>engine_hp</th>\n",
              "      <th>engine_cylinders</th>\n",
              "      <th>transmission_type</th>\n",
              "      <th>driven_wheels</th>\n",
              "      <th>number_of_doors</th>\n",
              "      <th>market_category</th>\n",
              "      <th>vehicle_size</th>\n",
              "      <th>vehicle_style</th>\n",
              "      <th>highway_mpg</th>\n",
              "      <th>city_mpg</th>\n",
              "      <th>popularity</th>\n",
              "    </tr>\n",
              "  </thead>\n",
              "  <tbody>\n",
              "    <tr>\n",
              "      <th>0</th>\n",
              "      <td>2735</td>\n",
              "      <td>chevrolet</td>\n",
              "      <td>cobalt</td>\n",
              "      <td>2008</td>\n",
              "      <td>regular_unleaded</td>\n",
              "      <td>148.0</td>\n",
              "      <td>4.0</td>\n",
              "      <td>manual</td>\n",
              "      <td>front_wheel_drive</td>\n",
              "      <td>2.0</td>\n",
              "      <td>NaN</td>\n",
              "      <td>compact</td>\n",
              "      <td>coupe</td>\n",
              "      <td>33</td>\n",
              "      <td>24</td>\n",
              "      <td>1385</td>\n",
              "    </tr>\n",
              "    <tr>\n",
              "      <th>1</th>\n",
              "      <td>6720</td>\n",
              "      <td>toyota</td>\n",
              "      <td>matrix</td>\n",
              "      <td>2012</td>\n",
              "      <td>regular_unleaded</td>\n",
              "      <td>132.0</td>\n",
              "      <td>4.0</td>\n",
              "      <td>automatic</td>\n",
              "      <td>front_wheel_drive</td>\n",
              "      <td>4.0</td>\n",
              "      <td>hatchback</td>\n",
              "      <td>compact</td>\n",
              "      <td>4dr_hatchback</td>\n",
              "      <td>32</td>\n",
              "      <td>25</td>\n",
              "      <td>2031</td>\n",
              "    </tr>\n",
              "    <tr>\n",
              "      <th>2</th>\n",
              "      <td>5878</td>\n",
              "      <td>subaru</td>\n",
              "      <td>impreza</td>\n",
              "      <td>2016</td>\n",
              "      <td>regular_unleaded</td>\n",
              "      <td>148.0</td>\n",
              "      <td>4.0</td>\n",
              "      <td>automatic</td>\n",
              "      <td>all_wheel_drive</td>\n",
              "      <td>4.0</td>\n",
              "      <td>hatchback</td>\n",
              "      <td>compact</td>\n",
              "      <td>4dr_hatchback</td>\n",
              "      <td>37</td>\n",
              "      <td>28</td>\n",
              "      <td>640</td>\n",
              "    </tr>\n",
              "    <tr>\n",
              "      <th>3</th>\n",
              "      <td>11190</td>\n",
              "      <td>volkswagen</td>\n",
              "      <td>vanagon</td>\n",
              "      <td>1991</td>\n",
              "      <td>regular_unleaded</td>\n",
              "      <td>90.0</td>\n",
              "      <td>4.0</td>\n",
              "      <td>manual</td>\n",
              "      <td>rear_wheel_drive</td>\n",
              "      <td>3.0</td>\n",
              "      <td>NaN</td>\n",
              "      <td>large</td>\n",
              "      <td>passenger_minivan</td>\n",
              "      <td>18</td>\n",
              "      <td>16</td>\n",
              "      <td>873</td>\n",
              "    </tr>\n",
              "    <tr>\n",
              "      <th>4</th>\n",
              "      <td>4554</td>\n",
              "      <td>ford</td>\n",
              "      <td>f-150</td>\n",
              "      <td>2017</td>\n",
              "      <td>flex-fuel_(unleaded/e85)</td>\n",
              "      <td>385.0</td>\n",
              "      <td>8.0</td>\n",
              "      <td>automatic</td>\n",
              "      <td>four_wheel_drive</td>\n",
              "      <td>4.0</td>\n",
              "      <td>flex_fuel</td>\n",
              "      <td>large</td>\n",
              "      <td>crew_cab_pickup</td>\n",
              "      <td>21</td>\n",
              "      <td>15</td>\n",
              "      <td>5657</td>\n",
              "    </tr>\n",
              "    <tr>\n",
              "      <th>...</th>\n",
              "      <td>...</td>\n",
              "      <td>...</td>\n",
              "      <td>...</td>\n",
              "      <td>...</td>\n",
              "      <td>...</td>\n",
              "      <td>...</td>\n",
              "      <td>...</td>\n",
              "      <td>...</td>\n",
              "      <td>...</td>\n",
              "      <td>...</td>\n",
              "      <td>...</td>\n",
              "      <td>...</td>\n",
              "      <td>...</td>\n",
              "      <td>...</td>\n",
              "      <td>...</td>\n",
              "      <td>...</td>\n",
              "    </tr>\n",
              "    <tr>\n",
              "      <th>7145</th>\n",
              "      <td>434</td>\n",
              "      <td>bmw</td>\n",
              "      <td>4_series</td>\n",
              "      <td>2015</td>\n",
              "      <td>premium_unleaded_(required)</td>\n",
              "      <td>300.0</td>\n",
              "      <td>6.0</td>\n",
              "      <td>automatic</td>\n",
              "      <td>rear_wheel_drive</td>\n",
              "      <td>2.0</td>\n",
              "      <td>luxury,performance</td>\n",
              "      <td>midsize</td>\n",
              "      <td>convertible</td>\n",
              "      <td>31</td>\n",
              "      <td>20</td>\n",
              "      <td>3916</td>\n",
              "    </tr>\n",
              "    <tr>\n",
              "      <th>7146</th>\n",
              "      <td>1902</td>\n",
              "      <td>volkswagen</td>\n",
              "      <td>beetle</td>\n",
              "      <td>2015</td>\n",
              "      <td>premium_unleaded_(recommended)</td>\n",
              "      <td>210.0</td>\n",
              "      <td>4.0</td>\n",
              "      <td>automated_manual</td>\n",
              "      <td>front_wheel_drive</td>\n",
              "      <td>2.0</td>\n",
              "      <td>hatchback,performance</td>\n",
              "      <td>compact</td>\n",
              "      <td>2dr_hatchback</td>\n",
              "      <td>30</td>\n",
              "      <td>24</td>\n",
              "      <td>873</td>\n",
              "    </tr>\n",
              "    <tr>\n",
              "      <th>7147</th>\n",
              "      <td>9334</td>\n",
              "      <td>gmc</td>\n",
              "      <td>sierra_1500</td>\n",
              "      <td>2015</td>\n",
              "      <td>flex-fuel_(unleaded/e85)</td>\n",
              "      <td>285.0</td>\n",
              "      <td>6.0</td>\n",
              "      <td>automatic</td>\n",
              "      <td>four_wheel_drive</td>\n",
              "      <td>4.0</td>\n",
              "      <td>flex_fuel</td>\n",
              "      <td>large</td>\n",
              "      <td>extended_cab_pickup</td>\n",
              "      <td>22</td>\n",
              "      <td>17</td>\n",
              "      <td>549</td>\n",
              "    </tr>\n",
              "    <tr>\n",
              "      <th>7148</th>\n",
              "      <td>5284</td>\n",
              "      <td>rolls-royce</td>\n",
              "      <td>ghost</td>\n",
              "      <td>2014</td>\n",
              "      <td>premium_unleaded_(required)</td>\n",
              "      <td>563.0</td>\n",
              "      <td>12.0</td>\n",
              "      <td>automatic</td>\n",
              "      <td>rear_wheel_drive</td>\n",
              "      <td>4.0</td>\n",
              "      <td>exotic,luxury,performance</td>\n",
              "      <td>large</td>\n",
              "      <td>sedan</td>\n",
              "      <td>21</td>\n",
              "      <td>13</td>\n",
              "      <td>86</td>\n",
              "    </tr>\n",
              "    <tr>\n",
              "      <th>7149</th>\n",
              "      <td>2420</td>\n",
              "      <td>volkswagen</td>\n",
              "      <td>cc</td>\n",
              "      <td>2017</td>\n",
              "      <td>premium_unleaded_(recommended)</td>\n",
              "      <td>200.0</td>\n",
              "      <td>4.0</td>\n",
              "      <td>automated_manual</td>\n",
              "      <td>front_wheel_drive</td>\n",
              "      <td>4.0</td>\n",
              "      <td>performance</td>\n",
              "      <td>midsize</td>\n",
              "      <td>sedan</td>\n",
              "      <td>31</td>\n",
              "      <td>22</td>\n",
              "      <td>873</td>\n",
              "    </tr>\n",
              "  </tbody>\n",
              "</table>\n",
              "<p>7150 rows × 16 columns</p>\n",
              "</div>\n",
              "      <button class=\"colab-df-convert\" onclick=\"convertToInteractive('df-37d8a905-3428-4151-8ce7-4521acfa30f1')\"\n",
              "              title=\"Convert this dataframe to an interactive table.\"\n",
              "              style=\"display:none;\">\n",
              "        \n",
              "  <svg xmlns=\"http://www.w3.org/2000/svg\" height=\"24px\"viewBox=\"0 0 24 24\"\n",
              "       width=\"24px\">\n",
              "    <path d=\"M0 0h24v24H0V0z\" fill=\"none\"/>\n",
              "    <path d=\"M18.56 5.44l.94 2.06.94-2.06 2.06-.94-2.06-.94-.94-2.06-.94 2.06-2.06.94zm-11 1L8.5 8.5l.94-2.06 2.06-.94-2.06-.94L8.5 2.5l-.94 2.06-2.06.94zm10 10l.94 2.06.94-2.06 2.06-.94-2.06-.94-.94-2.06-.94 2.06-2.06.94z\"/><path d=\"M17.41 7.96l-1.37-1.37c-.4-.4-.92-.59-1.43-.59-.52 0-1.04.2-1.43.59L10.3 9.45l-7.72 7.72c-.78.78-.78 2.05 0 2.83L4 21.41c.39.39.9.59 1.41.59.51 0 1.02-.2 1.41-.59l7.78-7.78 2.81-2.81c.8-.78.8-2.07 0-2.86zM5.41 20L4 18.59l7.72-7.72 1.47 1.35L5.41 20z\"/>\n",
              "  </svg>\n",
              "      </button>\n",
              "      \n",
              "  <style>\n",
              "    .colab-df-container {\n",
              "      display:flex;\n",
              "      flex-wrap:wrap;\n",
              "      gap: 12px;\n",
              "    }\n",
              "\n",
              "    .colab-df-convert {\n",
              "      background-color: #E8F0FE;\n",
              "      border: none;\n",
              "      border-radius: 50%;\n",
              "      cursor: pointer;\n",
              "      display: none;\n",
              "      fill: #1967D2;\n",
              "      height: 32px;\n",
              "      padding: 0 0 0 0;\n",
              "      width: 32px;\n",
              "    }\n",
              "\n",
              "    .colab-df-convert:hover {\n",
              "      background-color: #E2EBFA;\n",
              "      box-shadow: 0px 1px 2px rgba(60, 64, 67, 0.3), 0px 1px 3px 1px rgba(60, 64, 67, 0.15);\n",
              "      fill: #174EA6;\n",
              "    }\n",
              "\n",
              "    [theme=dark] .colab-df-convert {\n",
              "      background-color: #3B4455;\n",
              "      fill: #D2E3FC;\n",
              "    }\n",
              "\n",
              "    [theme=dark] .colab-df-convert:hover {\n",
              "      background-color: #434B5C;\n",
              "      box-shadow: 0px 1px 3px 1px rgba(0, 0, 0, 0.15);\n",
              "      filter: drop-shadow(0px 1px 2px rgba(0, 0, 0, 0.3));\n",
              "      fill: #FFFFFF;\n",
              "    }\n",
              "  </style>\n",
              "\n",
              "      <script>\n",
              "        const buttonEl =\n",
              "          document.querySelector('#df-37d8a905-3428-4151-8ce7-4521acfa30f1 button.colab-df-convert');\n",
              "        buttonEl.style.display =\n",
              "          google.colab.kernel.accessAllowed ? 'block' : 'none';\n",
              "\n",
              "        async function convertToInteractive(key) {\n",
              "          const element = document.querySelector('#df-37d8a905-3428-4151-8ce7-4521acfa30f1');\n",
              "          const dataTable =\n",
              "            await google.colab.kernel.invokeFunction('convertToInteractive',\n",
              "                                                     [key], {});\n",
              "          if (!dataTable) return;\n",
              "\n",
              "          const docLinkHtml = 'Like what you see? Visit the ' +\n",
              "            '<a target=\"_blank\" href=https://colab.research.google.com/notebooks/data_table.ipynb>data table notebook</a>'\n",
              "            + ' to learn more about interactive tables.';\n",
              "          element.innerHTML = '';\n",
              "          dataTable['output_type'] = 'display_data';\n",
              "          await google.colab.output.renderOutput(dataTable, element);\n",
              "          const docLink = document.createElement('div');\n",
              "          docLink.innerHTML = docLinkHtml;\n",
              "          element.appendChild(docLink);\n",
              "        }\n",
              "      </script>\n",
              "    </div>\n",
              "  </div>\n",
              "  "
            ]
          },
          "metadata": {},
          "execution_count": 134
        }
      ]
    },
    {
      "cell_type": "markdown",
      "source": [
        "\n",
        "# Linear regression"
      ],
      "metadata": {
        "id": "QrjfbJrw3VYj"
      }
    },
    {
      "cell_type": "code",
      "source": [
        "df_train.iloc[10]"
      ],
      "metadata": {
        "colab": {
          "base_uri": "https://localhost:8080/"
        },
        "id": "Uk2KxLPA3TqQ",
        "outputId": "9615f7d4-8382-49c6-ebe6-e04e97b71f3b"
      },
      "execution_count": null,
      "outputs": [
        {
          "output_type": "execute_result",
          "data": {
            "text/plain": [
              "index                                       7557\n",
              "make                                 rolls-royce\n",
              "model                     phantom_drophead_coupe\n",
              "year                                        2015\n",
              "engine_fuel_type     premium_unleaded_(required)\n",
              "engine_hp                                  453.0\n",
              "engine_cylinders                            12.0\n",
              "transmission_type                      automatic\n",
              "driven_wheels                   rear_wheel_drive\n",
              "number_of_doors                              2.0\n",
              "market_category        exotic,luxury,performance\n",
              "vehicle_size                               large\n",
              "vehicle_style                        convertible\n",
              "highway_mpg                                   19\n",
              "city_mpg                                      11\n",
              "popularity                                    86\n",
              "Name: 10, dtype: object"
            ]
          },
          "metadata": {},
          "execution_count": 135
        }
      ]
    },
    {
      "cell_type": "code",
      "source": [
        "df_train[['engine_hp' ,'city_mpg','popularity']].iloc[10].values"
      ],
      "metadata": {
        "colab": {
          "base_uri": "https://localhost:8080/"
        },
        "id": "R8DpUiV_4xi0",
        "outputId": "80b88de8-764e-45bf-88ae-039e95c456e5"
      },
      "execution_count": null,
      "outputs": [
        {
          "output_type": "execute_result",
          "data": {
            "text/plain": [
              "array([453.,  11.,  86.])"
            ]
          },
          "metadata": {},
          "execution_count": 136
        }
      ]
    },
    {
      "cell_type": "code",
      "source": [
        "xi = [453.,  11.,  86.]\n",
        "w0 = 7.17\n",
        "w1 = [0.01,0.04,0.002]\n",
        "def linear_regression(xi):\n",
        "  n=len(xi)\n",
        "  pred = w0\n",
        "  for j in range(n) :\n",
        "    pred = pred + w1[j]*xi[j]\n",
        "  return pred\n",
        "\n",
        "linear_regression(xi)"
      ],
      "metadata": {
        "colab": {
          "base_uri": "https://localhost:8080/"
        },
        "id": "Ltn7bnRo56XC",
        "outputId": "258b8bd9-b197-495c-e636-b7592269044d"
      },
      "execution_count": null,
      "outputs": [
        {
          "output_type": "execute_result",
          "data": {
            "text/plain": [
              "12.312"
            ]
          },
          "metadata": {},
          "execution_count": 137
        }
      ]
    },
    {
      "cell_type": "code",
      "source": [
        "np.expm1(12.312)"
      ],
      "metadata": {
        "colab": {
          "base_uri": "https://localhost:8080/"
        },
        "id": "o0fN8W69-ELG",
        "outputId": "03022e68-56f8-419b-e622-5f6966d74510"
      },
      "execution_count": null,
      "outputs": [
        {
          "output_type": "execute_result",
          "data": {
            "text/plain": [
              "222347.2221101062"
            ]
          },
          "metadata": {},
          "execution_count": 138
        }
      ]
    },
    {
      "cell_type": "code",
      "source": [
        "np.log1p(222347.2221101062)"
      ],
      "metadata": {
        "colab": {
          "base_uri": "https://localhost:8080/"
        },
        "id": "7klZbF72-csZ",
        "outputId": "da076026-e06c-421a-c978-5fe8450cc568"
      },
      "execution_count": null,
      "outputs": [
        {
          "output_type": "execute_result",
          "data": {
            "text/plain": [
              "12.312"
            ]
          },
          "metadata": {},
          "execution_count": 139
        }
      ]
    },
    {
      "cell_type": "markdown",
      "source": [
        "# Linear regression vector form"
      ],
      "metadata": {
        "id": "D61aStlhEbsP"
      }
    },
    {
      "cell_type": "markdown",
      "source": [
        "# Training a linear regression model  "
      ],
      "metadata": {
        "id": "dl8RL2MZH6sd"
      }
    },
    {
      "cell_type": "markdown",
      "source": [
        "*   W = (Xtranspos * X )-1 * Xtranspos * y\n",
        "\n"
      ],
      "metadata": {
        "id": "xyu8ssM-ocMV"
      }
    },
    {
      "cell_type": "code",
      "source": [
        "X = [[10,148,24,1385],\n",
        "     [71,132,25,2031],\n",
        "      [11,453,11,86],\n",
        "      [189,148,24,1385],\n",
        "      [15,32,25,201],\n",
        "      [81,43,12,806],\n",
        "      [71,18,24,1385],\n",
        "      [51,32,5,20],\n",
        "      [231,3,2,86]]\n",
        "X = np.array(X)\n",
        "X\n"
      ],
      "metadata": {
        "colab": {
          "base_uri": "https://localhost:8080/"
        },
        "id": "QuRviHKYmgmi",
        "outputId": "ae8bd8fc-4db4-4865-ceb2-be8e786877e9"
      },
      "execution_count": null,
      "outputs": [
        {
          "output_type": "execute_result",
          "data": {
            "text/plain": [
              "array([[  10,  148,   24, 1385],\n",
              "       [  71,  132,   25, 2031],\n",
              "       [  11,  453,   11,   86],\n",
              "       [ 189,  148,   24, 1385],\n",
              "       [  15,   32,   25,  201],\n",
              "       [  81,   43,   12,  806],\n",
              "       [  71,   18,   24, 1385],\n",
              "       [  51,   32,    5,   20],\n",
              "       [ 231,    3,    2,   86]])"
            ]
          },
          "metadata": {},
          "execution_count": 140
        }
      ]
    },
    {
      "cell_type": "code",
      "source": [
        "#we forgot to add 1 ( weight of w0)\n",
        "ones = np.ones(X.shape[0])\n",
        "ones"
      ],
      "metadata": {
        "colab": {
          "base_uri": "https://localhost:8080/"
        },
        "id": "bNNmywV334WH",
        "outputId": "87101d6e-131e-42f2-e3c5-500821682ebd"
      },
      "execution_count": null,
      "outputs": [
        {
          "output_type": "execute_result",
          "data": {
            "text/plain": [
              "array([1., 1., 1., 1., 1., 1., 1., 1., 1.])"
            ]
          },
          "metadata": {},
          "execution_count": 141
        }
      ]
    },
    {
      "cell_type": "code",
      "source": [
        "X = np.column_stack([ones,X])"
      ],
      "metadata": {
        "id": "le9pjZR46qVL"
      },
      "execution_count": null,
      "outputs": []
    },
    {
      "cell_type": "code",
      "source": [
        "#X.T is the transpose of X \n",
        "#matrcie * matrice => matrice.dot(matrice)\n",
        "#XTX = Xtranspos * X\n",
        "XTX = X.T.dot(X)"
      ],
      "metadata": {
        "id": "M0TDNHQ3ou7f"
      },
      "execution_count": null,
      "outputs": []
    },
    {
      "cell_type": "code",
      "source": [
        "#(Xtranspos * X )-1\n",
        "XTXIinv = np.linalg.inv(XTX)\n",
        "\n",
        "#matrice identite\n",
        "XTXIinv.dot(XTX)"
      ],
      "metadata": {
        "colab": {
          "base_uri": "https://localhost:8080/"
        },
        "id": "yP5nCI7-zbSb",
        "outputId": "e995bef9-6ab6-40b3-bd0b-81fef431ae1b"
      },
      "execution_count": null,
      "outputs": [
        {
          "output_type": "execute_result",
          "data": {
            "text/plain": [
              "array([[ 1.00000000e+00, -1.85028642e-13, -2.35220697e-13,\n",
              "        -7.76993487e-14, -6.07580837e-12],\n",
              "       [ 1.15567058e-17,  1.00000000e+00,  9.10812834e-16,\n",
              "         2.83343956e-16,  2.00756920e-14],\n",
              "       [-3.40679298e-18, -3.88012135e-16,  1.00000000e+00,\n",
              "        -5.16866387e-17, -1.87691852e-15],\n",
              "       [ 1.05228597e-16,  6.38527317e-15, -4.42750220e-15,\n",
              "         1.00000000e+00,  2.46125067e-13],\n",
              "       [-8.67255859e-19, -7.60339125e-18,  1.83492747e-17,\n",
              "        -2.26570725e-17,  1.00000000e+00]])"
            ]
          },
          "metadata": {},
          "execution_count": 144
        }
      ]
    },
    {
      "cell_type": "code",
      "source": [
        "y = [  71,   18,14,88,7,23,1,   24, 1385]\n",
        "y"
      ],
      "metadata": {
        "colab": {
          "base_uri": "https://localhost:8080/"
        },
        "id": "ZbHvJL0t2eMd",
        "outputId": "2b37a96c-12d1-40c8-be5e-460b2f9144af"
      },
      "execution_count": null,
      "outputs": [
        {
          "output_type": "execute_result",
          "data": {
            "text/plain": [
              "[71, 18, 14, 88, 7, 23, 1, 24, 1385]"
            ]
          },
          "metadata": {},
          "execution_count": 145
        }
      ]
    },
    {
      "cell_type": "code",
      "source": [
        "#W = (Xtranspos * X )-1 * Xtranspos * y\n",
        "w_full = XTXIinv.dot(X.T).dot(y)\n",
        "#with w0 = w[0] and wi = w[1:]\n",
        "w_full"
      ],
      "metadata": {
        "colab": {
          "base_uri": "https://localhost:8080/"
        },
        "id": "LdvQur2f2KOS",
        "outputId": "4ceb40fe-a4b6-45ec-af9b-4a29d91d113e"
      },
      "execution_count": null,
      "outputs": [
        {
          "output_type": "execute_result",
          "data": {
            "text/plain": [
              "array([ 1.93075036e+02,  3.67846662e+00, -2.17470164e-01, -1.15286102e+01,\n",
              "       -1.11060231e-01])"
            ]
          },
          "metadata": {},
          "execution_count": 146
        }
      ]
    },
    {
      "cell_type": "markdown",
      "source": [
        "# Car price baseline model"
      ],
      "metadata": {
        "id": "0uPmvdDW-N5E"
      }
    },
    {
      "cell_type": "code",
      "source": [
        "def train_linear_regression(X, y):\n",
        "    ones = np.ones(X.shape[0])\n",
        "    X = np.column_stack([ones, X])\n",
        "\n",
        "    XTX = X.T.dot(X)\n",
        "    XTX_inv = np.linalg.inv(XTX)\n",
        "    w_full = XTX_inv.dot(X.T).dot(y)\n",
        "    \n",
        "    return w_full[0], w_full[1:]"
      ],
      "metadata": {
        "id": "4ltvcu2T-vcS"
      },
      "execution_count": null,
      "outputs": []
    },
    {
      "cell_type": "code",
      "source": [
        "df_train.dtypes != \"object\""
      ],
      "metadata": {
        "colab": {
          "base_uri": "https://localhost:8080/"
        },
        "id": "aEIgVZev-4jL",
        "outputId": "9955441b-cf4a-4583-b538-4a6b3f730772"
      },
      "execution_count": null,
      "outputs": [
        {
          "output_type": "execute_result",
          "data": {
            "text/plain": [
              "index                 True\n",
              "make                 False\n",
              "model                False\n",
              "year                  True\n",
              "engine_fuel_type     False\n",
              "engine_hp             True\n",
              "engine_cylinders      True\n",
              "transmission_type    False\n",
              "driven_wheels        False\n",
              "number_of_doors       True\n",
              "market_category      False\n",
              "vehicle_size         False\n",
              "vehicle_style        False\n",
              "highway_mpg           True\n",
              "city_mpg              True\n",
              "popularity            True\n",
              "dtype: bool"
            ]
          },
          "metadata": {},
          "execution_count": 148
        }
      ]
    },
    {
      "cell_type": "code",
      "source": [
        "df_lnreg = df_train[['engine_hp','engine_cylinders','highway_mpg','city_mpg','popularity']].copy()\n",
        "df_lnreg.values"
      ],
      "metadata": {
        "colab": {
          "base_uri": "https://localhost:8080/"
        },
        "id": "4k9VJYgmAF-u",
        "outputId": "0e81d018-88bb-4074-a5c5-e8060cc496e4"
      },
      "execution_count": null,
      "outputs": [
        {
          "output_type": "execute_result",
          "data": {
            "text/plain": [
              "array([[ 148.,    4.,   33.,   24., 1385.],\n",
              "       [ 132.,    4.,   32.,   25., 2031.],\n",
              "       [ 148.,    4.,   37.,   28.,  640.],\n",
              "       ...,\n",
              "       [ 285.,    6.,   22.,   17.,  549.],\n",
              "       [ 563.,   12.,   21.,   13.,   86.],\n",
              "       [ 200.,    4.,   31.,   22.,  873.]])"
            ]
          },
          "metadata": {},
          "execution_count": 149
        }
      ]
    },
    {
      "cell_type": "code",
      "source": [
        "X_train = df_lnreg.values\n",
        "X_train"
      ],
      "metadata": {
        "colab": {
          "base_uri": "https://localhost:8080/"
        },
        "id": "S5R-qgpTBKiV",
        "outputId": "a57e7aef-06fa-49d6-9a1a-f26914bedf77"
      },
      "execution_count": null,
      "outputs": [
        {
          "output_type": "execute_result",
          "data": {
            "text/plain": [
              "array([[ 148.,    4.,   33.,   24., 1385.],\n",
              "       [ 132.,    4.,   32.,   25., 2031.],\n",
              "       [ 148.,    4.,   37.,   28.,  640.],\n",
              "       ...,\n",
              "       [ 285.,    6.,   22.,   17.,  549.],\n",
              "       [ 563.,   12.,   21.,   13.,   86.],\n",
              "       [ 200.,    4.,   31.,   22.,  873.]])"
            ]
          },
          "metadata": {},
          "execution_count": 150
        }
      ]
    },
    {
      "cell_type": "code",
      "source": [
        "y_train"
      ],
      "metadata": {
        "colab": {
          "base_uri": "https://localhost:8080/"
        },
        "id": "QSpfhDpbBa5N",
        "outputId": "5fb293c4-d9f4-40a3-b093-70b217b14941"
      },
      "execution_count": null,
      "outputs": [
        {
          "output_type": "execute_result",
          "data": {
            "text/plain": [
              "array([ 9.57574708,  9.887663  ,  9.89323518, ..., 10.45380308,\n",
              "       12.62248099, 10.54061978])"
            ]
          },
          "metadata": {},
          "execution_count": 151
        }
      ]
    },
    {
      "cell_type": "code",
      "source": [
        "train_linear_regression(X_train,y_train)\n",
        "#we have some missing values nan"
      ],
      "metadata": {
        "colab": {
          "base_uri": "https://localhost:8080/"
        },
        "id": "h5BrlJYeB_pw",
        "outputId": "facb3329-39a1-4a53-ab20-83543937fbe2"
      },
      "execution_count": null,
      "outputs": [
        {
          "output_type": "execute_result",
          "data": {
            "text/plain": [
              "(nan, array([nan, nan, nan, nan, nan]))"
            ]
          },
          "metadata": {},
          "execution_count": 152
        }
      ]
    },
    {
      "cell_type": "code",
      "source": [
        "np.isnan(y_train).sum()"
      ],
      "metadata": {
        "colab": {
          "base_uri": "https://localhost:8080/"
        },
        "id": "aYNrFBQ8CmNQ",
        "outputId": "469cedfc-876c-49f0-ca88-0d03e8b8ccc5"
      },
      "execution_count": null,
      "outputs": [
        {
          "output_type": "execute_result",
          "data": {
            "text/plain": [
              "0"
            ]
          },
          "metadata": {},
          "execution_count": 153
        }
      ]
    },
    {
      "cell_type": "code",
      "source": [
        "np.isnan(X_train).sum()"
      ],
      "metadata": {
        "colab": {
          "base_uri": "https://localhost:8080/"
        },
        "id": "eM2YRHT9C-SK",
        "outputId": "18eab5ff-47ce-443b-e812-3f3f7d0e105a"
      },
      "execution_count": null,
      "outputs": [
        {
          "output_type": "execute_result",
          "data": {
            "text/plain": [
              "54"
            ]
          },
          "metadata": {},
          "execution_count": 154
        }
      ]
    },
    {
      "cell_type": "code",
      "source": [
        "df_lnreg.isnull().sum()"
      ],
      "metadata": {
        "colab": {
          "base_uri": "https://localhost:8080/"
        },
        "id": "orcNypktDJdl",
        "outputId": "53f13205-3f8c-47cd-a209-e73baabbbc11"
      },
      "execution_count": null,
      "outputs": [
        {
          "output_type": "execute_result",
          "data": {
            "text/plain": [
              "engine_hp           40\n",
              "engine_cylinders    14\n",
              "highway_mpg          0\n",
              "city_mpg             0\n",
              "popularity           0\n",
              "dtype: int64"
            ]
          },
          "metadata": {},
          "execution_count": 155
        }
      ]
    },
    {
      "cell_type": "code",
      "source": [
        "# we will fill them by 0 it means the programm will ignore this feature for this row xi=0 => xi*wi => 0*wi ( w0 + 0*w1 + x2*w2 ........)\n",
        "df_lnreg.fillna(0).isnull().sum()"
      ],
      "metadata": {
        "colab": {
          "base_uri": "https://localhost:8080/"
        },
        "id": "aMrD9L0bEDcT",
        "outputId": "0f1e4c17-d7b9-4afd-c24c-cd31e37268d2"
      },
      "execution_count": null,
      "outputs": [
        {
          "output_type": "execute_result",
          "data": {
            "text/plain": [
              "engine_hp           0\n",
              "engine_cylinders    0\n",
              "highway_mpg         0\n",
              "city_mpg            0\n",
              "popularity          0\n",
              "dtype: int64"
            ]
          },
          "metadata": {},
          "execution_count": 156
        }
      ]
    },
    {
      "cell_type": "code",
      "source": [
        "\n",
        "X_train = df_lnreg.fillna(0).values\n",
        "\n",
        "#test if x_train contains null values\n",
        "np.isnan(X_train).sum()"
      ],
      "metadata": {
        "colab": {
          "base_uri": "https://localhost:8080/"
        },
        "id": "b1LGIfFpGblb",
        "outputId": "692f8fa4-3875-40d6-b6ba-3d86e490a9a6"
      },
      "execution_count": null,
      "outputs": [
        {
          "output_type": "execute_result",
          "data": {
            "text/plain": [
              "0"
            ]
          },
          "metadata": {},
          "execution_count": 157
        }
      ]
    },
    {
      "cell_type": "code",
      "source": [
        "w0 ,w = train_linear_regression(X_train,y_train)"
      ],
      "metadata": {
        "id": "NYHhxXaYHTZl"
      },
      "execution_count": null,
      "outputs": []
    },
    {
      "cell_type": "code",
      "source": [
        "ypred = X_train.dot(w) + w0\n",
        "ypred"
      ],
      "metadata": {
        "colab": {
          "base_uri": "https://localhost:8080/"
        },
        "id": "YTz4wcZgHsfB",
        "outputId": "75c111ca-29b7-47ce-dbff-8539399433dd"
      },
      "execution_count": null,
      "outputs": [
        {
          "output_type": "execute_result",
          "data": {
            "text/plain": [
              "array([ 9.54792783,  9.38733977,  9.67197758, ..., 10.30423015,\n",
              "       11.9778914 ,  9.99863111])"
            ]
          },
          "metadata": {},
          "execution_count": 159
        }
      ]
    },
    {
      "cell_type": "code",
      "source": [
        "ypred - y_train"
      ],
      "metadata": {
        "colab": {
          "base_uri": "https://localhost:8080/"
        },
        "id": "dDNH1IP9JyMR",
        "outputId": "4565022f-09ae-426e-8251-dbe00398bdc2"
      },
      "execution_count": null,
      "outputs": [
        {
          "output_type": "execute_result",
          "data": {
            "text/plain": [
              "array([-0.02781925, -0.50032323, -0.22125759, ..., -0.14957294,\n",
              "       -0.64458959, -0.54198867])"
            ]
          },
          "metadata": {},
          "execution_count": 160
        }
      ]
    },
    {
      "cell_type": "code",
      "source": [
        "sns.histplot(ypred,color='r',alpha=0.5,bins=50)\n",
        "sns.histplot(y_train,color='y',alpha=0.5,bins=50)"
      ],
      "metadata": {
        "colab": {
          "base_uri": "https://localhost:8080/",
          "height": 282
        },
        "id": "UMs08lcjKPkQ",
        "outputId": "b44c6408-5d8f-4e10-bfa4-c7909e112ac4"
      },
      "execution_count": null,
      "outputs": [
        {
          "output_type": "execute_result",
          "data": {
            "text/plain": [
              "<matplotlib.axes._subplots.AxesSubplot at 0x7f8003fa2a10>"
            ]
          },
          "metadata": {},
          "execution_count": 161
        },
        {
          "output_type": "display_data",
          "data": {
            "text/plain": [
              "<Figure size 432x288 with 1 Axes>"
            ],
            "image/png": "[encoded data removed]"
          },
          "metadata": {
            "needs_background": "light"
          }
        }
      ]
    },
    {
      "cell_type": "markdown",
      "source": [
        "# RMSE"
      ],
      "metadata": {
        "id": "IlAFF21_Mewk"
      }
    },
    {
      "cell_type": "markdown",
      "source": [
        "RMSE (root mean square error ) "
      ],
      "metadata": {
        "id": "OMmyAkFuVJHF"
      }
    },
    {
      "cell_type": "code",
      "source": [
        "a = ((ypred - y_train)**2).mean()\n",
        "np.sqrt(a)"
      ],
      "metadata": {
        "colab": {
          "base_uri": "https://localhost:8080/"
        },
        "id": "pEd35CGRQ8Je",
        "outputId": "7a63005a-3f8c-4636-b7c5-ed2eb41ea8cc"
      },
      "execution_count": null,
      "outputs": [
        {
          "output_type": "execute_result",
          "data": {
            "text/plain": [
              "0.7554192603920132"
            ]
          },
          "metadata": {},
          "execution_count": 162
        }
      ]
    },
    {
      "cell_type": "code",
      "source": [
        "def rmse(y, y_pred):\n",
        "    se = (y - y_pred) ** 2\n",
        "    mse = se.mean()\n",
        "    return np.sqrt(mse)\n",
        "rmse(ypred, y_train)"
      ],
      "metadata": {
        "colab": {
          "base_uri": "https://localhost:8080/"
        },
        "id": "xchtqRIxW3wr",
        "outputId": "6efa01c1-58c7-43c1-be6b-87de18322152"
      },
      "execution_count": null,
      "outputs": [
        {
          "output_type": "execute_result",
          "data": {
            "text/plain": [
              "0.7554192603920132"
            ]
          },
          "metadata": {},
          "execution_count": 163
        }
      ]
    },
    {
      "cell_type": "markdown",
      "source": [
        "\n",
        "# Validating data set"
      ],
      "metadata": {
        "id": "JppmItU9XnNK"
      }
    },
    {
      "cell_type": "markdown",
      "source": [
        "we applied the RMSE on to trainnig data ( as sa test ) but we should should do it on **the Val dataset**"
      ],
      "metadata": {
        "id": "GKCffWssXzOr"
      }
    },
    {
      "cell_type": "code",
      "source": [
        "df_lnreg = df_train[['engine_hp','engine_cylinders','highway_mpg','city_mpg','popularity']].copy()\n",
        "X_train = df_lnreg.fillna(0).values\n",
        "w0 ,w = train_linear_regression(X_train,y_train)\n",
        "ypred = X_train.dot(w) + w0\n"
      ],
      "metadata": {
        "id": "8xP4_MG6YGJq"
      },
      "execution_count": null,
      "outputs": []
    },
    {
      "cell_type": "code",
      "source": [
        "base_features = ['engine_hp','engine_cylinders','highway_mpg','city_mpg','popularity']\n",
        "def prepare_X(df):\n",
        "  df_num = df[base_features]\n",
        "  df_num = df_num.fillna(0)\n",
        "  X = df_num.values\n",
        "  return X\n"
      ],
      "metadata": {
        "id": "Os8QZ_JqYq3z"
      },
      "execution_count": null,
      "outputs": []
    },
    {
      "cell_type": "code",
      "source": [
        "X_train = prepare_X(df_train)\n",
        "w0 ,w = train_linear_regression(X_train,y_train)\n",
        "\n",
        "\n",
        "X_val = prepare_X(df_val)\n",
        "#calculate the yrediction for the valuation dataset\n",
        "ypred_val = X_val.dot(w) + w0\n",
        "\n",
        "#calculate rmse between y_val and y_predicted using the weights Wi ( based on the trainig dataset)\n",
        "rmse(ypred_val,y_val)\n"
      ],
      "metadata": {
        "colab": {
          "base_uri": "https://localhost:8080/"
        },
        "id": "ze3kRwofZvPW",
        "outputId": "29ff876a-e6b2-4bd5-d825-c8a9e9772aa7"
      },
      "execution_count": null,
      "outputs": [
        {
          "output_type": "execute_result",
          "data": {
            "text/plain": [
              "0.761653099130156"
            ]
          },
          "metadata": {},
          "execution_count": 166
        }
      ]
    },
    {
      "cell_type": "markdown",
      "source": [
        "# Simple feature engineering"
      ],
      "metadata": {
        "id": "ZrRfFNQfpPmX"
      }
    },
    {
      "cell_type": "code",
      "source": [
        "df_train"
      ],
      "metadata": {
        "id": "hAkhRsQMpU1p",
        "colab": {
          "base_uri": "https://localhost:8080/",
          "height": 488
        },
        "outputId": "48a80257-640a-4898-a92f-b11b80c35902"
      },
      "execution_count": null,
      "outputs": [
        {
          "output_type": "execute_result",
          "data": {
            "text/plain": [
              "      index         make        model  year                engine_fuel_type  \\\n",
              "0      2735    chevrolet       cobalt  2008                regular_unleaded   \n",
              "1      6720       toyota       matrix  2012                regular_unleaded   \n",
              "2      5878       subaru      impreza  2016                regular_unleaded   \n",
              "3     11190   volkswagen      vanagon  1991                regular_unleaded   \n",
              "4      4554         ford        f-150  2017        flex-fuel_(unleaded/e85)   \n",
              "...     ...          ...          ...   ...                             ...   \n",
              "7145    434          bmw     4_series  2015     premium_unleaded_(required)   \n",
              "7146   1902   volkswagen       beetle  2015  premium_unleaded_(recommended)   \n",
              "7147   9334          gmc  sierra_1500  2015        flex-fuel_(unleaded/e85)   \n",
              "7148   5284  rolls-royce        ghost  2014     premium_unleaded_(required)   \n",
              "7149   2420   volkswagen           cc  2017  premium_unleaded_(recommended)   \n",
              "\n",
              "      engine_hp  engine_cylinders transmission_type      driven_wheels  \\\n",
              "0         148.0               4.0            manual  front_wheel_drive   \n",
              "1         132.0               4.0         automatic  front_wheel_drive   \n",
              "2         148.0               4.0         automatic    all_wheel_drive   \n",
              "3          90.0               4.0            manual   rear_wheel_drive   \n",
              "4         385.0               8.0         automatic   four_wheel_drive   \n",
              "...         ...               ...               ...                ...   \n",
              "7145      300.0               6.0         automatic   rear_wheel_drive   \n",
              "7146      210.0               4.0  automated_manual  front_wheel_drive   \n",
              "7147      285.0               6.0         automatic   four_wheel_drive   \n",
              "7148      563.0              12.0         automatic   rear_wheel_drive   \n",
              "7149      200.0               4.0  automated_manual  front_wheel_drive   \n",
              "\n",
              "      number_of_doors            market_category vehicle_size  \\\n",
              "0                 2.0                        NaN      compact   \n",
              "1                 4.0                  hatchback      compact   \n",
              "2                 4.0                  hatchback      compact   \n",
              "3                 3.0                        NaN        large   \n",
              "4                 4.0                  flex_fuel        large   \n",
              "...               ...                        ...          ...   \n",
              "7145              2.0         luxury,performance      midsize   \n",
              "7146              2.0      hatchback,performance      compact   \n",
              "7147              4.0                  flex_fuel        large   \n",
              "7148              4.0  exotic,luxury,performance        large   \n",
              "7149              4.0                performance      midsize   \n",
              "\n",
              "            vehicle_style  highway_mpg  city_mpg  popularity  \n",
              "0                   coupe           33        24        1385  \n",
              "1           4dr_hatchback           32        25        2031  \n",
              "2           4dr_hatchback           37        28         640  \n",
              "3       passenger_minivan           18        16         873  \n",
              "4         crew_cab_pickup           21        15        5657  \n",
              "...                   ...          ...       ...         ...  \n",
              "7145          convertible           31        20        3916  \n",
              "7146        2dr_hatchback           30        24         873  \n",
              "7147  extended_cab_pickup           22        17         549  \n",
              "7148                sedan           21        13          86  \n",
              "7149                sedan           31        22         873  \n",
              "\n",
              "[7150 rows x 16 columns]"
            ],
            "text/html": [
              "\n",
              "  <div id=\"df-01214268-d342-45e2-be95-f1e84d3f5519\">\n",
              "    <div class=\"colab-df-container\">\n",
              "      <div>\n",
              "<style scoped>\n",
              "    .dataframe tbody tr th:only-of-type {\n",
              "        vertical-align: middle;\n",
              "    }\n",
              "\n",
              "    .dataframe tbody tr th {\n",
              "        vertical-align: top;\n",
              "    }\n",
              "\n",
              "    .dataframe thead th {\n",
              "        text-align: right;\n",
              "    }\n",
              "</style>\n",
              "<table border=\"1\" class=\"dataframe\">\n",
              "  <thead>\n",
              "    <tr style=\"text-align: right;\">\n",
              "      <th></th>\n",
              "      <th>index</th>\n",
              "      <th>make</th>\n",
              "      <th>model</th>\n",
              "      <th>year</th>\n",
              "      <th>engine_fuel_type</th>\n",
              "      <th>engine_hp</th>\n",
              "      <th>engine_cylinders</th>\n",
              "      <th>transmission_type</th>\n",
              "      <th>driven_wheels</th>\n",
              "      <th>number_of_doors</th>\n",
              "      <th>market_category</th>\n",
              "      <th>vehicle_size</th>\n",
              "      <th>vehicle_style</th>\n",
              "      <th>highway_mpg</th>\n",
              "      <th>city_mpg</th>\n",
              "      <th>popularity</th>\n",
              "    </tr>\n",
              "  </thead>\n",
              "  <tbody>\n",
              "    <tr>\n",
              "      <th>0</th>\n",
              "      <td>2735</td>\n",
              "      <td>chevrolet</td>\n",
              "      <td>cobalt</td>\n",
              "      <td>2008</td>\n",
              "      <td>regular_unleaded</td>\n",
              "      <td>148.0</td>\n",
              "      <td>4.0</td>\n",
              "      <td>manual</td>\n",
              "      <td>front_wheel_drive</td>\n",
              "      <td>2.0</td>\n",
              "      <td>NaN</td>\n",
              "      <td>compact</td>\n",
              "      <td>coupe</td>\n",
              "      <td>33</td>\n",
              "      <td>24</td>\n",
              "      <td>1385</td>\n",
              "    </tr>\n",
              "    <tr>\n",
              "      <th>1</th>\n",
              "      <td>6720</td>\n",
              "      <td>toyota</td>\n",
              "      <td>matrix</td>\n",
              "      <td>2012</td>\n",
              "      <td>regular_unleaded</td>\n",
              "      <td>132.0</td>\n",
              "      <td>4.0</td>\n",
              "      <td>automatic</td>\n",
              "      <td>front_wheel_drive</td>\n",
              "      <td>4.0</td>\n",
              "      <td>hatchback</td>\n",
              "      <td>compact</td>\n",
              "      <td>4dr_hatchback</td>\n",
              "      <td>32</td>\n",
              "      <td>25</td>\n",
              "      <td>2031</td>\n",
              "    </tr>\n",
              "    <tr>\n",
              "      <th>2</th>\n",
              "      <td>5878</td>\n",
              "      <td>subaru</td>\n",
              "      <td>impreza</td>\n",
              "      <td>2016</td>\n",
              "      <td>regular_unleaded</td>\n",
              "      <td>148.0</td>\n",
              "      <td>4.0</td>\n",
              "      <td>automatic</td>\n",
              "      <td>all_wheel_drive</td>\n",
              "      <td>4.0</td>\n",
              "      <td>hatchback</td>\n",
              "      <td>compact</td>\n",
              "      <td>4dr_hatchback</td>\n",
              "      <td>37</td>\n",
              "      <td>28</td>\n",
              "      <td>640</td>\n",
              "    </tr>\n",
              "    <tr>\n",
              "      <th>3</th>\n",
              "      <td>11190</td>\n",
              "      <td>volkswagen</td>\n",
              "      <td>vanagon</td>\n",
              "      <td>1991</td>\n",
              "      <td>regular_unleaded</td>\n",
              "      <td>90.0</td>\n",
              "      <td>4.0</td>\n",
              "      <td>manual</td>\n",
              "      <td>rear_wheel_drive</td>\n",
              "      <td>3.0</td>\n",
              "      <td>NaN</td>\n",
              "      <td>large</td>\n",
              "      <td>passenger_minivan</td>\n",
              "      <td>18</td>\n",
              "      <td>16</td>\n",
              "      <td>873</td>\n",
              "    </tr>\n",
              "    <tr>\n",
              "      <th>4</th>\n",
              "      <td>4554</td>\n",
              "      <td>ford</td>\n",
              "      <td>f-150</td>\n",
              "      <td>2017</td>\n",
              "      <td>flex-fuel_(unleaded/e85)</td>\n",
              "      <td>385.0</td>\n",
              "      <td>8.0</td>\n",
              "      <td>automatic</td>\n",
              "      <td>four_wheel_drive</td>\n",
              "      <td>4.0</td>\n",
              "      <td>flex_fuel</td>\n",
              "      <td>large</td>\n",
              "      <td>crew_cab_pickup</td>\n",
              "      <td>21</td>\n",
              "      <td>15</td>\n",
              "      <td>5657</td>\n",
              "    </tr>\n",
              "    <tr>\n",
              "      <th>...</th>\n",
              "      <td>...</td>\n",
              "      <td>...</td>\n",
              "      <td>...</td>\n",
              "      <td>...</td>\n",
              "      <td>...</td>\n",
              "      <td>...</td>\n",
              "      <td>...</td>\n",
              "      <td>...</td>\n",
              "      <td>...</td>\n",
              "      <td>...</td>\n",
              "      <td>...</td>\n",
              "      <td>...</td>\n",
              "      <td>...</td>\n",
              "      <td>...</td>\n",
              "      <td>...</td>\n",
              "      <td>...</td>\n",
              "    </tr>\n",
              "    <tr>\n",
              "      <th>7145</th>\n",
              "      <td>434</td>\n",
              "      <td>bmw</td>\n",
              "      <td>4_series</td>\n",
              "      <td>2015</td>\n",
              "      <td>premium_unleaded_(required)</td>\n",
              "      <td>300.0</td>\n",
              "      <td>6.0</td>\n",
              "      <td>automatic</td>\n",
              "      <td>rear_wheel_drive</td>\n",
              "      <td>2.0</td>\n",
              "      <td>luxury,performance</td>\n",
              "      <td>midsize</td>\n",
              "      <td>convertible</td>\n",
              "      <td>31</td>\n",
              "      <td>20</td>\n",
              "      <td>3916</td>\n",
              "    </tr>\n",
              "    <tr>\n",
              "      <th>7146</th>\n",
              "      <td>1902</td>\n",
              "      <td>volkswagen</td>\n",
              "      <td>beetle</td>\n",
              "      <td>2015</td>\n",
              "      <td>premium_unleaded_(recommended)</td>\n",
              "      <td>210.0</td>\n",
              "      <td>4.0</td>\n",
              "      <td>automated_manual</td>\n",
              "      <td>front_wheel_drive</td>\n",
              "      <td>2.0</td>\n",
              "      <td>hatchback,performance</td>\n",
              "      <td>compact</td>\n",
              "      <td>2dr_hatchback</td>\n",
              "      <td>30</td>\n",
              "      <td>24</td>\n",
              "      <td>873</td>\n",
              "    </tr>\n",
              "    <tr>\n",
              "      <th>7147</th>\n",
              "      <td>9334</td>\n",
              "      <td>gmc</td>\n",
              "      <td>sierra_1500</td>\n",
              "      <td>2015</td>\n",
              "      <td>flex-fuel_(unleaded/e85)</td>\n",
              "      <td>285.0</td>\n",
              "      <td>6.0</td>\n",
              "      <td>automatic</td>\n",
              "      <td>four_wheel_drive</td>\n",
              "      <td>4.0</td>\n",
              "      <td>flex_fuel</td>\n",
              "      <td>large</td>\n",
              "      <td>extended_cab_pickup</td>\n",
              "      <td>22</td>\n",
              "      <td>17</td>\n",
              "      <td>549</td>\n",
              "    </tr>\n",
              "    <tr>\n",
              "      <th>7148</th>\n",
              "      <td>5284</td>\n",
              "      <td>rolls-royce</td>\n",
              "      <td>ghost</td>\n",
              "      <td>2014</td>\n",
              "      <td>premium_unleaded_(required)</td>\n",
              "      <td>563.0</td>\n",
              "      <td>12.0</td>\n",
              "      <td>automatic</td>\n",
              "      <td>rear_wheel_drive</td>\n",
              "      <td>4.0</td>\n",
              "      <td>exotic,luxury,performance</td>\n",
              "      <td>large</td>\n",
              "      <td>sedan</td>\n",
              "      <td>21</td>\n",
              "      <td>13</td>\n",
              "      <td>86</td>\n",
              "    </tr>\n",
              "    <tr>\n",
              "      <th>7149</th>\n",
              "      <td>2420</td>\n",
              "      <td>volkswagen</td>\n",
              "      <td>cc</td>\n",
              "      <td>2017</td>\n",
              "      <td>premium_unleaded_(recommended)</td>\n",
              "      <td>200.0</td>\n",
              "      <td>4.0</td>\n",
              "      <td>automated_manual</td>\n",
              "      <td>front_wheel_drive</td>\n",
              "      <td>4.0</td>\n",
              "      <td>performance</td>\n",
              "      <td>midsize</td>\n",
              "      <td>sedan</td>\n",
              "      <td>31</td>\n",
              "      <td>22</td>\n",
              "      <td>873</td>\n",
              "    </tr>\n",
              "  </tbody>\n",
              "</table>\n",
              "<p>7150 rows × 16 columns</p>\n",
              "</div>\n",
              "      <button class=\"colab-df-convert\" onclick=\"convertToInteractive('df-01214268-d342-45e2-be95-f1e84d3f5519')\"\n",
              "              title=\"Convert this dataframe to an interactive table.\"\n",
              "              style=\"display:none;\">\n",
              "        \n",
              "  <svg xmlns=\"http://www.w3.org/2000/svg\" height=\"24px\"viewBox=\"0 0 24 24\"\n",
              "       width=\"24px\">\n",
              "    <path d=\"M0 0h24v24H0V0z\" fill=\"none\"/>\n",
              "    <path d=\"M18.56 5.44l.94 2.06.94-2.06 2.06-.94-2.06-.94-.94-2.06-.94 2.06-2.06.94zm-11 1L8.5 8.5l.94-2.06 2.06-.94-2.06-.94L8.5 2.5l-.94 2.06-2.06.94zm10 10l.94 2.06.94-2.06 2.06-.94-2.06-.94-.94-2.06-.94 2.06-2.06.94z\"/><path d=\"M17.41 7.96l-1.37-1.37c-.4-.4-.92-.59-1.43-.59-.52 0-1.04.2-1.43.59L10.3 9.45l-7.72 7.72c-.78.78-.78 2.05 0 2.83L4 21.41c.39.39.9.59 1.41.59.51 0 1.02-.2 1.41-.59l7.78-7.78 2.81-2.81c.8-.78.8-2.07 0-2.86zM5.41 20L4 18.59l7.72-7.72 1.47 1.35L5.41 20z\"/>\n",
              "  </svg>\n",
              "      </button>\n",
              "      \n",
              "  <style>\n",
              "    .colab-df-container {\n",
              "      display:flex;\n",
              "      flex-wrap:wrap;\n",
              "      gap: 12px;\n",
              "    }\n",
              "\n",
              "    .colab-df-convert {\n",
              "      background-color: #E8F0FE;\n",
              "      border: none;\n",
              "      border-radius: 50%;\n",
              "      cursor: pointer;\n",
              "      display: none;\n",
              "      fill: #1967D2;\n",
              "      height: 32px;\n",
              "      padding: 0 0 0 0;\n",
              "      width: 32px;\n",
              "    }\n",
              "\n",
              "    .colab-df-convert:hover {\n",
              "      background-color: #E2EBFA;\n",
              "      box-shadow: 0px 1px 2px rgba(60, 64, 67, 0.3), 0px 1px 3px 1px rgba(60, 64, 67, 0.15);\n",
              "      fill: #174EA6;\n",
              "    }\n",
              "\n",
              "    [theme=dark] .colab-df-convert {\n",
              "      background-color: #3B4455;\n",
              "      fill: #D2E3FC;\n",
              "    }\n",
              "\n",
              "    [theme=dark] .colab-df-convert:hover {\n",
              "      background-color: #434B5C;\n",
              "      box-shadow: 0px 1px 3px 1px rgba(0, 0, 0, 0.15);\n",
              "      filter: drop-shadow(0px 1px 2px rgba(0, 0, 0, 0.3));\n",
              "      fill: #FFFFFF;\n",
              "    }\n",
              "  </style>\n",
              "\n",
              "      <script>\n",
              "        const buttonEl =\n",
              "          document.querySelector('#df-01214268-d342-45e2-be95-f1e84d3f5519 button.colab-df-convert');\n",
              "        buttonEl.style.display =\n",
              "          google.colab.kernel.accessAllowed ? 'block' : 'none';\n",
              "\n",
              "        async function convertToInteractive(key) {\n",
              "          const element = document.querySelector('#df-01214268-d342-45e2-be95-f1e84d3f5519');\n",
              "          const dataTable =\n",
              "            await google.colab.kernel.invokeFunction('convertToInteractive',\n",
              "                                                     [key], {});\n",
              "          if (!dataTable) return;\n",
              "\n",
              "          const docLinkHtml = 'Like what you see? Visit the ' +\n",
              "            '<a target=\"_blank\" href=https://colab.research.google.com/notebooks/data_table.ipynb>data table notebook</a>'\n",
              "            + ' to learn more about interactive tables.';\n",
              "          element.innerHTML = '';\n",
              "          dataTable['output_type'] = 'display_data';\n",
              "          await google.colab.output.renderOutput(dataTable, element);\n",
              "          const docLink = document.createElement('div');\n",
              "          docLink.innerHTML = docLinkHtml;\n",
              "          element.appendChild(docLink);\n",
              "        }\n",
              "      </script>\n",
              "    </div>\n",
              "  </div>\n",
              "  "
            ]
          },
          "metadata": {},
          "execution_count": 167
        }
      ]
    },
    {
      "cell_type": "code",
      "source": [
        "features = ['engine_hp','engine_cylinders','highway_mpg','city_mpg','popularity']+['age']\n",
        "features\n"
      ],
      "metadata": {
        "colab": {
          "base_uri": "https://localhost:8080/"
        },
        "id": "hJ2zxC9apwhh",
        "outputId": "2ac30b8d-3d29-4241-e276-d2842f3413eb"
      },
      "execution_count": null,
      "outputs": [
        {
          "output_type": "execute_result",
          "data": {
            "text/plain": [
              "['engine_hp',\n",
              " 'engine_cylinders',\n",
              " 'highway_mpg',\n",
              " 'city_mpg',\n",
              " 'popularity',\n",
              " 'age']"
            ]
          },
          "metadata": {},
          "execution_count": 168
        }
      ]
    },
    {
      "cell_type": "code",
      "source": [
        "def prepare_X(df):\n",
        "  df = df.copy()\n",
        "  #minus 2017 is because the data was collected on 2017 \n",
        "  df['age'] = 2017 -df['year']\n",
        "  features = base_features + ['age']\n",
        "  df_num = df[features]\n",
        "  df_num = df_num.fillna(0)\n",
        "  X = df_num.values\n",
        "  return X"
      ],
      "metadata": {
        "id": "4rLb54_gpwQx"
      },
      "execution_count": null,
      "outputs": []
    },
    {
      "cell_type": "code",
      "source": [
        "X_train = prepare_X(df_train)\n",
        "\n",
        "\n",
        "#before adding copy() on the df_train we worked on the original , when we added age column it was added to the original\n",
        "#df_train.dtypes\n",
        "#age       int64"
      ],
      "metadata": {
        "id": "YGFth8asqyjM"
      },
      "execution_count": null,
      "outputs": []
    },
    {
      "cell_type": "code",
      "source": [
        "# delete the age colomn to only work with copy , to avoid working with original\n",
        "#del df_train['age'] to rerun the function"
      ],
      "metadata": {
        "id": "rh6r3bGRrjM3"
      },
      "execution_count": null,
      "outputs": []
    },
    {
      "cell_type": "code",
      "source": [
        "X_train"
      ],
      "metadata": {
        "colab": {
          "base_uri": "https://localhost:8080/"
        },
        "id": "qlKWX_XdryUS",
        "outputId": "29977a1b-fa6b-4d6a-da38-99f8d0d86114"
      },
      "execution_count": null,
      "outputs": [
        {
          "output_type": "execute_result",
          "data": {
            "text/plain": [
              "array([[1.480e+02, 4.000e+00, 3.300e+01, 2.400e+01, 1.385e+03, 9.000e+00],\n",
              "       [1.320e+02, 4.000e+00, 3.200e+01, 2.500e+01, 2.031e+03, 5.000e+00],\n",
              "       [1.480e+02, 4.000e+00, 3.700e+01, 2.800e+01, 6.400e+02, 1.000e+00],\n",
              "       ...,\n",
              "       [2.850e+02, 6.000e+00, 2.200e+01, 1.700e+01, 5.490e+02, 2.000e+00],\n",
              "       [5.630e+02, 1.200e+01, 2.100e+01, 1.300e+01, 8.600e+01, 3.000e+00],\n",
              "       [2.000e+02, 4.000e+00, 3.100e+01, 2.200e+01, 8.730e+02, 0.000e+00]])"
            ]
          },
          "metadata": {},
          "execution_count": 172
        }
      ]
    },
    {
      "cell_type": "code",
      "source": [
        "X_train = prepare_X(df_train)\n",
        "w0 ,w = train_linear_regression(X_train,y_train)\n",
        "\n",
        "\n",
        "X_val = prepare_X(df_val)\n",
        "#calculate the yrediction for the valuation dataset\n",
        "ypred_val = X_val.dot(w) + w0\n",
        "\n",
        "#calculate rmse between y_val and y_predicted using the weights Wi ( based on the trainig dataset)\n",
        "rmse(ypred_val,y_val)"
      ],
      "metadata": {
        "colab": {
          "base_uri": "https://localhost:8080/"
        },
        "id": "XL4LO44GsOX9",
        "outputId": "11d75634-1409-4989-8710-63aec5bdf20a"
      },
      "execution_count": null,
      "outputs": [
        {
          "output_type": "execute_result",
          "data": {
            "text/plain": [
              "0.5172055461058299"
            ]
          },
          "metadata": {},
          "execution_count": 173
        }
      ]
    },
    {
      "cell_type": "markdown",
      "source": [
        "there have been an improvement bases on RMSE: \n",
        "\n",
        "```\n",
        "# from 0.76 --> 0.51\n",
        "```\n",
        "we can also visualite on plot "
      ],
      "metadata": {
        "id": "2WMzoTxltPeA"
      }
    },
    {
      "cell_type": "code",
      "source": [
        "sns.histplot(ypred_val,color='r',alpha=0.5,bins=50)\n",
        "sns.histplot(y_val,color='y',alpha=0.5,bins=50)"
      ],
      "metadata": {
        "colab": {
          "base_uri": "https://localhost:8080/",
          "height": 282
        },
        "id": "uD1I-UrItx6b",
        "outputId": "d951c5a6-d1f4-4583-839e-4db73ad13f63"
      },
      "execution_count": null,
      "outputs": [
        {
          "output_type": "execute_result",
          "data": {
            "text/plain": [
              "<matplotlib.axes._subplots.AxesSubplot at 0x7f80036f4d10>"
            ]
          },
          "metadata": {},
          "execution_count": 174
        },
        {
          "output_type": "display_data",
          "data": {
            "text/plain": [
              "<Figure size 432x288 with 1 Axes>"
            ],
            "image/png": "[encoded data removed]"
          },
          "metadata": {
            "needs_background": "light"
          }
        }
      ]
    },
    {
      "cell_type": "markdown",
      "source": [
        "# Categorical variables"
      ],
      "metadata": {
        "id": "E5Kn3jXhGJts"
      }
    },
    {
      "cell_type": "markdown",
      "source": [
        "Categorical variables are typically strings, and pandas identifies them as object types. These variables need to be converted to a numerical form because ML models can interpret only numerical features. It is possible to incorporate certain categories from a feature, not necessarily all of them. This transformation from categorical to numerical variables is known as One-Hot encoding."
      ],
      "metadata": {
        "id": "y0QGPRyhNnyZ"
      }
    },
    {
      "cell_type": "code",
      "source": [
        "df_train.shape"
      ],
      "metadata": {
        "colab": {
          "base_uri": "https://localhost:8080/"
        },
        "id": "jW5ziRTtInxA",
        "outputId": "4e2fe266-32e8-45b2-a07f-49cbb7d8f82e"
      },
      "execution_count": null,
      "outputs": [
        {
          "output_type": "execute_result",
          "data": {
            "text/plain": [
              "(7150, 16)"
            ]
          },
          "metadata": {},
          "execution_count": 178
        }
      ]
    },
    {
      "cell_type": "code",
      "source": [
        "df_train.number_of_doors.unique()"
      ],
      "metadata": {
        "colab": {
          "base_uri": "https://localhost:8080/"
        },
        "id": "tUdq3KumGlB4",
        "outputId": "be2ab493-ef4b-48cd-971e-c0ef6efe0800"
      },
      "execution_count": null,
      "outputs": [
        {
          "output_type": "execute_result",
          "data": {
            "text/plain": [
              "array([ 2.,  4.,  3., nan])"
            ]
          },
          "metadata": {},
          "execution_count": 175
        }
      ]
    },
    {
      "cell_type": "markdown",
      "source": [
        "# we will be using  categorial values have to decompose them into colomns\n",
        "ex: number of doors we have the combination of 2,3,4 doors\n",
        "\n",
        "\n",
        "---\n",
        "---\n",
        "\n",
        "number_of_doors   ///////////   nbd2 ////////////////// nbd3  //////////////   nbd4\n",
        "\n",
        "\n",
        "---\n",
        "2///////////////////////////1///////////////0///////////////0\n",
        "---\n",
        "3///////////////////////////0///////////////1///////////////0\n",
        "---\n",
        "4///////////////////////////0///////////////0///////////////1\n",
        "---\n",
        "2///////////////////////////1///////////////0///////////////0\n",
        "---\n",
        "3///////////////////////////0///////////////1///////////////0\n",
        "---\n"
      ],
      "metadata": {
        "id": "560KrNLBJ_w4"
      }
    },
    {
      "cell_type": "code",
      "source": [
        "df['num_doors_2'] = (df_train.number_of_doors == 2).astype('int')\n",
        "df['num_doors_3'] = (df_train.number_of_doors == 3).astype('int')\n",
        "df['num_doors_4'] = (df_train.number_of_doors == 4).astype('int')\n",
        "\n"
      ],
      "metadata": {
        "id": "lc6h3szrHw98"
      },
      "execution_count": null,
      "outputs": []
    },
    {
      "cell_type": "code",
      "source": [
        "#better way to do it is by a loop\n",
        "#del df['num_doors_2']\n",
        "#del df['num_doors_3']\n",
        "#del df['num_doors_4']"
      ],
      "metadata": {
        "id": "01rXAHJpJK3o"
      },
      "execution_count": null,
      "outputs": []
    },
    {
      "cell_type": "code",
      "source": [
        "# to create colomns based on the cateorical variable (3 combination means 3 columns)\n",
        "\n",
        "#for v in range(2,5):\n",
        "#  df_train[f'num_doors_{v}'] = (df_train.number_of_doors == v).astype('int')"
      ],
      "metadata": {
        "id": "v7FiW3mmJW-N"
      },
      "execution_count": null,
      "outputs": []
    },
    {
      "cell_type": "markdown",
      "source": [
        "**Inserting values into strings**"
      ],
      "metadata": {
        "id": "ICuJwSCnN1Hm"
      }
    },
    {
      "cell_type": "code",
      "source": [
        "for v in range(2,5):\n",
        "  print(f'num_doors_{v}',)"
      ],
      "metadata": {
        "colab": {
          "base_uri": "https://localhost:8080/"
        },
        "id": "a35YTOlDMFJK",
        "outputId": "117aeda2-9154-440c-956d-f890bfacad9e"
      },
      "execution_count": null,
      "outputs": [
        {
          "output_type": "stream",
          "name": "stdout",
          "text": [
            "num_doors_2\n",
            "num_doors_3\n",
            "num_doors_4\n"
          ]
        }
      ]
    },
    {
      "cell_type": "code",
      "source": [
        "for v in range(2,5):\n",
        "  print('num_doors_{}'.format(v))"
      ],
      "metadata": {
        "colab": {
          "base_uri": "https://localhost:8080/"
        },
        "id": "FjI5FfSGNQ_h",
        "outputId": "92316ac8-a696-4aef-b217-e1e4fa2ec6b2"
      },
      "execution_count": null,
      "outputs": [
        {
          "output_type": "stream",
          "name": "stdout",
          "text": [
            "num_doors_2\n",
            "num_doors_3\n",
            "num_doors_4\n"
          ]
        }
      ]
    },
    {
      "cell_type": "code",
      "source": [
        "for v in range(2,5):\n",
        "  print('num_doors_%s'%(v))"
      ],
      "metadata": {
        "colab": {
          "base_uri": "https://localhost:8080/"
        },
        "id": "X3CwoNDbNh7j",
        "outputId": "4e5803bf-a62d-4505-82ef-00af1db46974"
      },
      "execution_count": null,
      "outputs": [
        {
          "output_type": "stream",
          "name": "stdout",
          "text": [
            "num_doors_2\n",
            "num_doors_3\n",
            "num_doors_4\n"
          ]
        }
      ]
    },
    {
      "cell_type": "markdown",
      "source": [
        "after modifying the data set training we will retrain "
      ],
      "metadata": {
        "id": "Hun0kk81OOIO"
      }
    },
    {
      "cell_type": "code",
      "source": [
        "df_train.head()"
      ],
      "metadata": {
        "colab": {
          "base_uri": "https://localhost:8080/",
          "height": 287
        },
        "id": "srWzxXmCOW7N",
        "outputId": "bb0f5632-e95d-4b4a-bc7b-c2617bfcb695"
      },
      "execution_count": null,
      "outputs": [
        {
          "output_type": "execute_result",
          "data": {
            "text/plain": [
              "   index        make    model  year          engine_fuel_type  engine_hp  \\\n",
              "0   2735   chevrolet   cobalt  2008          regular_unleaded      148.0   \n",
              "1   6720      toyota   matrix  2012          regular_unleaded      132.0   \n",
              "2   5878      subaru  impreza  2016          regular_unleaded      148.0   \n",
              "3  11190  volkswagen  vanagon  1991          regular_unleaded       90.0   \n",
              "4   4554        ford    f-150  2017  flex-fuel_(unleaded/e85)      385.0   \n",
              "\n",
              "   engine_cylinders transmission_type      driven_wheels  number_of_doors  \\\n",
              "0               4.0            manual  front_wheel_drive              2.0   \n",
              "1               4.0         automatic  front_wheel_drive              4.0   \n",
              "2               4.0         automatic    all_wheel_drive              4.0   \n",
              "3               4.0            manual   rear_wheel_drive              3.0   \n",
              "4               8.0         automatic   four_wheel_drive              4.0   \n",
              "\n",
              "  market_category vehicle_size      vehicle_style  highway_mpg  city_mpg  \\\n",
              "0             NaN      compact              coupe           33        24   \n",
              "1       hatchback      compact      4dr_hatchback           32        25   \n",
              "2       hatchback      compact      4dr_hatchback           37        28   \n",
              "3             NaN        large  passenger_minivan           18        16   \n",
              "4       flex_fuel        large    crew_cab_pickup           21        15   \n",
              "\n",
              "   popularity  \n",
              "0        1385  \n",
              "1        2031  \n",
              "2         640  \n",
              "3         873  \n",
              "4        5657  "
            ],
            "text/html": [
              "\n",
              "  <div id=\"df-decedc3c-a600-400c-a17c-1ba06f578259\">\n",
              "    <div class=\"colab-df-container\">\n",
              "      <div>\n",
              "<style scoped>\n",
              "    .dataframe tbody tr th:only-of-type {\n",
              "        vertical-align: middle;\n",
              "    }\n",
              "\n",
              "    .dataframe tbody tr th {\n",
              "        vertical-align: top;\n",
              "    }\n",
              "\n",
              "    .dataframe thead th {\n",
              "        text-align: right;\n",
              "    }\n",
              "</style>\n",
              "<table border=\"1\" class=\"dataframe\">\n",
              "  <thead>\n",
              "    <tr style=\"text-align: right;\">\n",
              "      <th></th>\n",
              "      <th>index</th>\n",
              "      <th>make</th>\n",
              "      <th>model</th>\n",
              "      <th>year</th>\n",
              "      <th>engine_fuel_type</th>\n",
              "      <th>engine_hp</th>\n",
              "      <th>engine_cylinders</th>\n",
              "      <th>transmission_type</th>\n",
              "      <th>driven_wheels</th>\n",
              "      <th>number_of_doors</th>\n",
              "      <th>market_category</th>\n",
              "      <th>vehicle_size</th>\n",
              "      <th>vehicle_style</th>\n",
              "      <th>highway_mpg</th>\n",
              "      <th>city_mpg</th>\n",
              "      <th>popularity</th>\n",
              "    </tr>\n",
              "  </thead>\n",
              "  <tbody>\n",
              "    <tr>\n",
              "      <th>0</th>\n",
              "      <td>2735</td>\n",
              "      <td>chevrolet</td>\n",
              "      <td>cobalt</td>\n",
              "      <td>2008</td>\n",
              "      <td>regular_unleaded</td>\n",
              "      <td>148.0</td>\n",
              "      <td>4.0</td>\n",
              "      <td>manual</td>\n",
              "      <td>front_wheel_drive</td>\n",
              "      <td>2.0</td>\n",
              "      <td>NaN</td>\n",
              "      <td>compact</td>\n",
              "      <td>coupe</td>\n",
              "      <td>33</td>\n",
              "      <td>24</td>\n",
              "      <td>1385</td>\n",
              "    </tr>\n",
              "    <tr>\n",
              "      <th>1</th>\n",
              "      <td>6720</td>\n",
              "      <td>toyota</td>\n",
              "      <td>matrix</td>\n",
              "      <td>2012</td>\n",
              "      <td>regular_unleaded</td>\n",
              "      <td>132.0</td>\n",
              "      <td>4.0</td>\n",
              "      <td>automatic</td>\n",
              "      <td>front_wheel_drive</td>\n",
              "      <td>4.0</td>\n",
              "      <td>hatchback</td>\n",
              "      <td>compact</td>\n",
              "      <td>4dr_hatchback</td>\n",
              "      <td>32</td>\n",
              "      <td>25</td>\n",
              "      <td>2031</td>\n",
              "    </tr>\n",
              "    <tr>\n",
              "      <th>2</th>\n",
              "      <td>5878</td>\n",
              "      <td>subaru</td>\n",
              "      <td>impreza</td>\n",
              "      <td>2016</td>\n",
              "      <td>regular_unleaded</td>\n",
              "      <td>148.0</td>\n",
              "      <td>4.0</td>\n",
              "      <td>automatic</td>\n",
              "      <td>all_wheel_drive</td>\n",
              "      <td>4.0</td>\n",
              "      <td>hatchback</td>\n",
              "      <td>compact</td>\n",
              "      <td>4dr_hatchback</td>\n",
              "      <td>37</td>\n",
              "      <td>28</td>\n",
              "      <td>640</td>\n",
              "    </tr>\n",
              "    <tr>\n",
              "      <th>3</th>\n",
              "      <td>11190</td>\n",
              "      <td>volkswagen</td>\n",
              "      <td>vanagon</td>\n",
              "      <td>1991</td>\n",
              "      <td>regular_unleaded</td>\n",
              "      <td>90.0</td>\n",
              "      <td>4.0</td>\n",
              "      <td>manual</td>\n",
              "      <td>rear_wheel_drive</td>\n",
              "      <td>3.0</td>\n",
              "      <td>NaN</td>\n",
              "      <td>large</td>\n",
              "      <td>passenger_minivan</td>\n",
              "      <td>18</td>\n",
              "      <td>16</td>\n",
              "      <td>873</td>\n",
              "    </tr>\n",
              "    <tr>\n",
              "      <th>4</th>\n",
              "      <td>4554</td>\n",
              "      <td>ford</td>\n",
              "      <td>f-150</td>\n",
              "      <td>2017</td>\n",
              "      <td>flex-fuel_(unleaded/e85)</td>\n",
              "      <td>385.0</td>\n",
              "      <td>8.0</td>\n",
              "      <td>automatic</td>\n",
              "      <td>four_wheel_drive</td>\n",
              "      <td>4.0</td>\n",
              "      <td>flex_fuel</td>\n",
              "      <td>large</td>\n",
              "      <td>crew_cab_pickup</td>\n",
              "      <td>21</td>\n",
              "      <td>15</td>\n",
              "      <td>5657</td>\n",
              "    </tr>\n",
              "  </tbody>\n",
              "</table>\n",
              "</div>\n",
              "      <button class=\"colab-df-convert\" onclick=\"convertToInteractive('df-decedc3c-a600-400c-a17c-1ba06f578259')\"\n",
              "              title=\"Convert this dataframe to an interactive table.\"\n",
              "              style=\"display:none;\">\n",
              "        \n",
              "  <svg xmlns=\"http://www.w3.org/2000/svg\" height=\"24px\"viewBox=\"0 0 24 24\"\n",
              "       width=\"24px\">\n",
              "    <path d=\"M0 0h24v24H0V0z\" fill=\"none\"/>\n",
              "    <path d=\"M18.56 5.44l.94 2.06.94-2.06 2.06-.94-2.06-.94-.94-2.06-.94 2.06-2.06.94zm-11 1L8.5 8.5l.94-2.06 2.06-.94-2.06-.94L8.5 2.5l-.94 2.06-2.06.94zm10 10l.94 2.06.94-2.06 2.06-.94-2.06-.94-.94-2.06-.94 2.06-2.06.94z\"/><path d=\"M17.41 7.96l-1.37-1.37c-.4-.4-.92-.59-1.43-.59-.52 0-1.04.2-1.43.59L10.3 9.45l-7.72 7.72c-.78.78-.78 2.05 0 2.83L4 21.41c.39.39.9.59 1.41.59.51 0 1.02-.2 1.41-.59l7.78-7.78 2.81-2.81c.8-.78.8-2.07 0-2.86zM5.41 20L4 18.59l7.72-7.72 1.47 1.35L5.41 20z\"/>\n",
              "  </svg>\n",
              "      </button>\n",
              "      \n",
              "  <style>\n",
              "    .colab-df-container {\n",
              "      display:flex;\n",
              "      flex-wrap:wrap;\n",
              "      gap: 12px;\n",
              "    }\n",
              "\n",
              "    .colab-df-convert {\n",
              "      background-color: #E8F0FE;\n",
              "      border: none;\n",
              "      border-radius: 50%;\n",
              "      cursor: pointer;\n",
              "      display: none;\n",
              "      fill: #1967D2;\n",
              "      height: 32px;\n",
              "      padding: 0 0 0 0;\n",
              "      width: 32px;\n",
              "    }\n",
              "\n",
              "    .colab-df-convert:hover {\n",
              "      background-color: #E2EBFA;\n",
              "      box-shadow: 0px 1px 2px rgba(60, 64, 67, 0.3), 0px 1px 3px 1px rgba(60, 64, 67, 0.15);\n",
              "      fill: #174EA6;\n",
              "    }\n",
              "\n",
              "    [theme=dark] .colab-df-convert {\n",
              "      background-color: #3B4455;\n",
              "      fill: #D2E3FC;\n",
              "    }\n",
              "\n",
              "    [theme=dark] .colab-df-convert:hover {\n",
              "      background-color: #434B5C;\n",
              "      box-shadow: 0px 1px 3px 1px rgba(0, 0, 0, 0.15);\n",
              "      filter: drop-shadow(0px 1px 2px rgba(0, 0, 0, 0.3));\n",
              "      fill: #FFFFFF;\n",
              "    }\n",
              "  </style>\n",
              "\n",
              "      <script>\n",
              "        const buttonEl =\n",
              "          document.querySelector('#df-decedc3c-a600-400c-a17c-1ba06f578259 button.colab-df-convert');\n",
              "        buttonEl.style.display =\n",
              "          google.colab.kernel.accessAllowed ? 'block' : 'none';\n",
              "\n",
              "        async function convertToInteractive(key) {\n",
              "          const element = document.querySelector('#df-decedc3c-a600-400c-a17c-1ba06f578259');\n",
              "          const dataTable =\n",
              "            await google.colab.kernel.invokeFunction('convertToInteractive',\n",
              "                                                     [key], {});\n",
              "          if (!dataTable) return;\n",
              "\n",
              "          const docLinkHtml = 'Like what you see? Visit the ' +\n",
              "            '<a target=\"_blank\" href=https://colab.research.google.com/notebooks/data_table.ipynb>data table notebook</a>'\n",
              "            + ' to learn more about interactive tables.';\n",
              "          element.innerHTML = '';\n",
              "          dataTable['output_type'] = 'display_data';\n",
              "          await google.colab.output.renderOutput(dataTable, element);\n",
              "          const docLink = document.createElement('div');\n",
              "          docLink.innerHTML = docLinkHtml;\n",
              "          element.appendChild(docLink);\n",
              "        }\n",
              "      </script>\n",
              "    </div>\n",
              "  </div>\n",
              "  "
            ]
          },
          "metadata": {},
          "execution_count": 206
        }
      ]
    },
    {
      "cell_type": "code",
      "source": [
        "def prepare_X(df):\n",
        "  df = df.copy()\n",
        "  #minus 2017 is because the data was collected on 2017 \n",
        "  df['age'] = 2017 -df['year']\n",
        "  features = base_features + ['age']\n",
        "\n",
        "  for v in range(2,5):\n",
        "    df[f'num_doors_{v}'] = (df.number_of_doors == v).astype('int')\n",
        "    features.append(f'num_doors_{v}')\n",
        "\n",
        "  df_num = df[features]\n",
        "  df_num = df_num.fillna(0)\n",
        "  X = df_num.values\n",
        "  return X"
      ],
      "metadata": {
        "id": "dIdX6RIUPPJO"
      },
      "execution_count": null,
      "outputs": []
    },
    {
      "cell_type": "code",
      "source": [
        "X_train = prepare_X(df_train)\n",
        "w0 ,w = train_linear_regression(X_train,y_train)\n",
        "\n",
        "\n",
        "X_val = prepare_X(df_val)\n",
        "#calculate the yrediction for the valuation dataset\n",
        "ypred_val = X_val.dot(w) + w0\n",
        "\n",
        "#calculate rmse between y_val and y_predicted using the weights Wi ( based on the trainig dataset)\n",
        "rmse(ypred_val,y_val)"
      ],
      "metadata": {
        "colab": {
          "base_uri": "https://localhost:8080/"
        },
        "id": "gbxdfN3sQ37q",
        "outputId": "3a663c64-9ef1-4057-a369-4ba5a9d9d337"
      },
      "execution_count": null,
      "outputs": [
        {
          "output_type": "execute_result",
          "data": {
            "text/plain": [
              "0.5157995641501678"
            ]
          },
          "metadata": {},
          "execution_count": 209
        }
      ]
    },
    {
      "cell_type": "markdown",
      "source": [
        "compared to the previious result : rmse (without categorival var ) = 0.5172055461058299 it is almost neligible "
      ],
      "metadata": {
        "id": "RqDZDrMHRkF2"
      }
    },
    {
      "cell_type": "markdown",
      "source": [
        "\n",
        "\n",
        "---\n",
        "\n",
        "\n",
        "**we will try adding the best 5 maker (best 5 out the colomn df.make ) as categorical value**\n",
        "\n",
        "\n",
        "---"
      ],
      "metadata": {
        "id": "p7hfGcn3ZebU"
      }
    },
    {
      "cell_type": "code",
      "source": [
        "df.make.value_counts().head(5)"
      ],
      "metadata": {
        "colab": {
          "base_uri": "https://localhost:8080/"
        },
        "id": "Cd8HrTX-Rh61",
        "outputId": "7e654d12-dfb8-4eed-d6ef-c49f7ec09896"
      },
      "execution_count": null,
      "outputs": [
        {
          "output_type": "execute_result",
          "data": {
            "text/plain": [
              "chevrolet     1123\n",
              "ford           881\n",
              "volkswagen     809\n",
              "toyota         746\n",
              "dodge          626\n",
              "Name: make, dtype: int64"
            ]
          },
          "metadata": {},
          "execution_count": 232
        }
      ]
    },
    {
      "cell_type": "code",
      "source": [
        "#to get the auto names they are in index column , the value column is the count values\n",
        "df.make.value_counts().head(5).index"
      ],
      "metadata": {
        "colab": {
          "base_uri": "https://localhost:8080/"
        },
        "id": "fZ3ERDD8SzfF",
        "outputId": "05d40502-f787-4a09-9fd3-9e1d90e1d0d1"
      },
      "execution_count": null,
      "outputs": [
        {
          "output_type": "execute_result",
          "data": {
            "text/plain": [
              "Index(['chevrolet', 'ford', 'volkswagen', 'toyota', 'dodge'], dtype='object')"
            ]
          },
          "metadata": {},
          "execution_count": 223
        }
      ]
    },
    {
      "cell_type": "markdown",
      "source": [
        "---\n",
        "convert from a data frame/array to a ::: **List** **Typle** **Dict**\n",
        "\n",
        "\n",
        "---\n",
        "\n",
        "\n",
        "\n"
      ],
      "metadata": {
        "id": "wLaKBzLKXddx"
      }
    },
    {
      "cell_type": "code",
      "source": [
        "#to convert into list \n",
        "list(df.make.value_counts().head(5).index)"
      ],
      "metadata": {
        "colab": {
          "base_uri": "https://localhost:8080/"
        },
        "id": "493OWBRUW0LZ",
        "outputId": "d21a5047-3b1a-467a-a316-6eee62171d28"
      },
      "execution_count": null,
      "outputs": [
        {
          "output_type": "execute_result",
          "data": {
            "text/plain": [
              "['chevrolet', 'ford', 'volkswagen', 'toyota', 'dodge']"
            ]
          },
          "metadata": {},
          "execution_count": 227
        }
      ]
    },
    {
      "cell_type": "code",
      "source": [
        "#to convert into tuple\n",
        "tuple(df.make.value_counts().head(5).index)"
      ],
      "metadata": {
        "colab": {
          "base_uri": "https://localhost:8080/"
        },
        "id": "zZE2dgm1XPKi",
        "outputId": "64542982-0a03-4c3e-d7d2-703e9a0584e4"
      },
      "execution_count": null,
      "outputs": [
        {
          "output_type": "execute_result",
          "data": {
            "text/plain": [
              "('chevrolet', 'ford', 'volkswagen', 'toyota', 'dodge')"
            ]
          },
          "metadata": {},
          "execution_count": 228
        }
      ]
    },
    {
      "cell_type": "code",
      "source": [
        "#to convert into dict\n",
        "dict(df.make.value_counts().head(5))"
      ],
      "metadata": {
        "colab": {
          "base_uri": "https://localhost:8080/"
        },
        "id": "M_D5W2MdXTcC",
        "outputId": "c1e7a56d-960d-4571-e261-1d11f1eab9cd"
      },
      "execution_count": null,
      "outputs": [
        {
          "output_type": "execute_result",
          "data": {
            "text/plain": [
              "{'chevrolet': 1123,\n",
              " 'ford': 881,\n",
              " 'volkswagen': 809,\n",
              " 'toyota': 746,\n",
              " 'dodge': 626}"
            ]
          },
          "metadata": {},
          "execution_count": 230
        }
      ]
    },
    {
      "cell_type": "code",
      "source": [
        "makes = list(df.make.value_counts().head(5).index)"
      ],
      "metadata": {
        "id": "u7CgqPfzYwTQ"
      },
      "execution_count": null,
      "outputs": []
    },
    {
      "cell_type": "code",
      "source": [
        "def prepare_X(df):\n",
        "  df = df.copy()\n",
        "  #minus 2017 is because the data was collected on 2017 \n",
        "  df['age'] = 2017 -df['year']\n",
        "  features = base_features + ['age']\n",
        "\n",
        "  for v in range(2,5):\n",
        "    df[f'num_doors_{v}'] = (df.number_of_doors == v).astype('int')\n",
        "    features.append(f'num_doors_{v}')\n",
        "  \n",
        "  for v in makes:\n",
        "    df[f'make_{v}'] = (df.make == v).astype('int')\n",
        "    features.append(f'make_{v}')\n",
        "\n",
        "  df_num = df[features]\n",
        "  df_num = df_num.fillna(0)\n",
        "  X = df_num.values\n",
        "  return X"
      ],
      "metadata": {
        "id": "W0POdZs7Yjxp"
      },
      "execution_count": null,
      "outputs": []
    },
    {
      "cell_type": "code",
      "source": [
        "X_train = prepare_X(df_train)\n",
        "w0 ,w = train_linear_regression(X_train,y_train)\n",
        "\n",
        "\n",
        "X_val = prepare_X(df_val)\n",
        "#calculate the yrediction for the valuation dataset\n",
        "ypred_val = X_val.dot(w) + w0\n",
        "\n",
        "#calculate rmse between y_val and y_predicted using the weights Wi ( based on the trainig dataset)\n",
        "rmse(ypred_val,y_val)"
      ],
      "metadata": {
        "colab": {
          "base_uri": "https://localhost:8080/"
        },
        "id": "3gwMfpjfaue-",
        "outputId": "4c9c9bff-1161-402e-9304-fc88502497fc"
      },
      "execution_count": null,
      "outputs": [
        {
          "output_type": "execute_result",
          "data": {
            "text/plain": [
              "0.5076038849556795"
            ]
          },
          "metadata": {},
          "execution_count": 239
        }
      ]
    },
    {
      "cell_type": "markdown",
      "source": [
        "there is an improvemnt from 0.5157995641501678 to 0.5076038849556795\n",
        "\n"
      ],
      "metadata": {
        "id": "HU5-u_imbFOJ"
      }
    },
    {
      "cell_type": "code",
      "source": [
        "df_train.dtypes"
      ],
      "metadata": {
        "colab": {
          "base_uri": "https://localhost:8080/"
        },
        "id": "K67jXBJ3bb_d",
        "outputId": "e0ef4ad9-2d46-4bac-9b6f-22951f4103f9"
      },
      "execution_count": null,
      "outputs": [
        {
          "output_type": "execute_result",
          "data": {
            "text/plain": [
              "index                  int64\n",
              "make                  object\n",
              "model                 object\n",
              "year                   int64\n",
              "engine_fuel_type      object\n",
              "engine_hp            float64\n",
              "engine_cylinders     float64\n",
              "transmission_type     object\n",
              "driven_wheels         object\n",
              "number_of_doors      float64\n",
              "market_category       object\n",
              "vehicle_size          object\n",
              "vehicle_style         object\n",
              "highway_mpg            int64\n",
              "city_mpg               int64\n",
              "popularity             int64\n",
              "dtype: object"
            ]
          },
          "metadata": {},
          "execution_count": 243
        }
      ]
    },
    {
      "cell_type": "code",
      "source": [
        "categories_variables = [ 'make', 'engine_fuel_type', 'transmission_type', 'driven_wheels',\n",
        "        'market_category', 'vehicle_size', 'vehicle_style',]\n",
        "categories_variables"
      ],
      "metadata": {
        "colab": {
          "base_uri": "https://localhost:8080/"
        },
        "id": "_cjbexBAb2d-",
        "outputId": "d1ad2ace-24d3-4cc6-a8ee-e09fc22c62d5"
      },
      "execution_count": null,
      "outputs": [
        {
          "output_type": "execute_result",
          "data": {
            "text/plain": [
              "['make',\n",
              " 'engine_fuel_type',\n",
              " 'transmission_type',\n",
              " 'driven_wheels',\n",
              " 'market_category',\n",
              " 'vehicle_size',\n",
              " 'vehicle_style']"
            ]
          },
          "metadata": {},
          "execution_count": 270
        }
      ]
    },
    {
      "cell_type": "code",
      "source": [
        "list(df_train['engine_fuel_type'].value_counts().head(5).index)"
      ],
      "metadata": {
        "colab": {
          "base_uri": "https://localhost:8080/"
        },
        "id": "g8PXAy6bcpMe",
        "outputId": "9f49acec-f28c-448a-ad5f-4aa5c993603b"
      },
      "execution_count": null,
      "outputs": [
        {
          "output_type": "execute_result",
          "data": {
            "text/plain": [
              "['regular_unleaded',\n",
              " 'premium_unleaded_(required)',\n",
              " 'premium_unleaded_(recommended)',\n",
              " 'flex-fuel_(unleaded/e85)',\n",
              " 'diesel']"
            ]
          },
          "metadata": {},
          "execution_count": 271
        }
      ]
    },
    {
      "cell_type": "code",
      "source": [
        "categories = {}\n",
        "\n",
        "for c in categories_variables:\n",
        "  categories[c] = list(df_train[c].value_counts().head(5).index)\n",
        "\n",
        "categories"
      ],
      "metadata": {
        "colab": {
          "base_uri": "https://localhost:8080/"
        },
        "id": "spXkLBGxeiey",
        "outputId": "3aa88043-c7af-43c8-820e-113db444ee62"
      },
      "execution_count": null,
      "outputs": [
        {
          "output_type": "execute_result",
          "data": {
            "text/plain": [
              "{'make': ['chevrolet', 'ford', 'volkswagen', 'toyota', 'dodge'],\n",
              " 'engine_fuel_type': ['regular_unleaded',\n",
              "  'premium_unleaded_(required)',\n",
              "  'premium_unleaded_(recommended)',\n",
              "  'flex-fuel_(unleaded/e85)',\n",
              "  'diesel'],\n",
              " 'transmission_type': ['automatic',\n",
              "  'manual',\n",
              "  'automated_manual',\n",
              "  'direct_drive',\n",
              "  'unknown'],\n",
              " 'driven_wheels': ['front_wheel_drive',\n",
              "  'rear_wheel_drive',\n",
              "  'all_wheel_drive',\n",
              "  'four_wheel_drive'],\n",
              " 'market_category': ['crossover',\n",
              "  'flex_fuel',\n",
              "  'luxury',\n",
              "  'hatchback',\n",
              "  'luxury,performance'],\n",
              " 'vehicle_size': ['compact', 'midsize', 'large'],\n",
              " 'vehicle_style': ['sedan',\n",
              "  '4dr_suv',\n",
              "  'coupe',\n",
              "  'convertible',\n",
              "  '4dr_hatchback']}"
            ]
          },
          "metadata": {},
          "execution_count": 273
        }
      ]
    },
    {
      "cell_type": "markdown",
      "source": [
        "iterate over a dictionary of values"
      ],
      "metadata": {
        "id": "YPgRtsHciu0A"
      }
    },
    {
      "cell_type": "code",
      "source": [
        "for key,value in categories.items():\n",
        "  print(key,value)\n",
        "  for v in value :\n",
        "    print(v)"
      ],
      "metadata": {
        "colab": {
          "base_uri": "https://localhost:8080/"
        },
        "id": "hVEklxK4hUm7",
        "outputId": "b604386a-7654-4af9-be38-9bd44dd9878a"
      },
      "execution_count": null,
      "outputs": [
        {
          "output_type": "stream",
          "name": "stdout",
          "text": [
            "make ['chevrolet', 'ford', 'volkswagen', 'toyota', 'dodge']\n",
            "chevrolet\n",
            "ford\n",
            "volkswagen\n",
            "toyota\n",
            "dodge\n",
            "engine_fuel_type ['regular_unleaded', 'premium_unleaded_(required)', 'premium_unleaded_(recommended)', 'flex-fuel_(unleaded/e85)', 'diesel']\n",
            "regular_unleaded\n",
            "premium_unleaded_(required)\n",
            "premium_unleaded_(recommended)\n",
            "flex-fuel_(unleaded/e85)\n",
            "diesel\n",
            "transmission_type ['automatic', 'manual', 'automated_manual', 'direct_drive', 'unknown']\n",
            "automatic\n",
            "manual\n",
            "automated_manual\n",
            "direct_drive\n",
            "unknown\n",
            "driven_wheels ['front_wheel_drive', 'rear_wheel_drive', 'all_wheel_drive', 'four_wheel_drive']\n",
            "front_wheel_drive\n",
            "rear_wheel_drive\n",
            "all_wheel_drive\n",
            "four_wheel_drive\n",
            "market_category ['crossover', 'flex_fuel', 'luxury', 'hatchback', 'luxury,performance']\n",
            "crossover\n",
            "flex_fuel\n",
            "luxury\n",
            "hatchback\n",
            "luxury,performance\n",
            "vehicle_size ['compact', 'midsize', 'large']\n",
            "compact\n",
            "midsize\n",
            "large\n",
            "vehicle_style ['sedan', '4dr_suv', 'coupe', 'convertible', '4dr_hatchback']\n",
            "sedan\n",
            "4dr_suv\n",
            "coupe\n",
            "convertible\n",
            "4dr_hatchback\n"
          ]
        }
      ]
    },
    {
      "cell_type": "code",
      "source": [
        "def prepare_X(df):\n",
        "  df = df.copy()\n",
        "  #minus 2017 is because the data was collected on 2017 \n",
        "  df['age'] = 2017 -df['year']\n",
        "  features = base_features + ['age']\n",
        "\n",
        "  for v in range(2,5):\n",
        "    df[f'num_doors_{v}'] = (df.number_of_doors == v).astype('int')\n",
        "    features.append(f'num_doors_{v}')\n",
        "  \n",
        "  for key,value in categories.items():\n",
        "    for v in value:\n",
        "      df[f'{key}_{v}'] = (df[key] == v).astype('int')\n",
        "      features.append(f'{key}_{v}')\n",
        "\n",
        "  df_num = df[features]\n",
        "  df_num = df_num.fillna(0)\n",
        "  X = df_num.values\n",
        "  return X"
      ],
      "metadata": {
        "id": "0Ji0WlhMgyf8"
      },
      "execution_count": null,
      "outputs": []
    },
    {
      "cell_type": "code",
      "source": [
        "X_train = prepare_X(df_train)\n",
        "w0 ,w = train_linear_regression(X_train,y_train)\n",
        "\n",
        "\n",
        "X_val = prepare_X(df_val)\n",
        "#calculate the yrediction for the valuation dataset\n",
        "ypred_val = X_val.dot(w) + w0\n",
        "\n",
        "#calculate rmse between y_val and y_predicted using the weights Wi ( based on the trainig dataset)\n",
        "rmse(ypred_val,y_val)"
      ],
      "metadata": {
        "colab": {
          "base_uri": "https://localhost:8080/"
        },
        "id": "H7MvJ4a1jpjd",
        "outputId": "0232a9ac-d77a-4c83-b4c2-cb101ab24418"
      },
      "execution_count": null,
      "outputs": [
        {
          "output_type": "execute_result",
          "data": {
            "text/plain": [
              "41.98123097210177"
            ]
          },
          "metadata": {},
          "execution_count": 286
        }
      ]
    },
    {
      "cell_type": "code",
      "source": [],
      "metadata": {
        "id": "grMZXNrxwL4F"
      },
      "execution_count": null,
      "outputs": []
    },
    {
      "cell_type": "markdown",
      "source": [
        "\n",
        "\n",
        "# Regularisation"
      ],
      "metadata": {
        "id": "ZwCnPll9wlHH"
      }
    },
    {
      "cell_type": "markdown",
      "source": [
        "If the feature matrix has duplicate columns (or columns that can be expressed as a linear combination of other columns), it will not have an inverse matrix. But, sometimes this error could be passed if certain values are slightly different between duplicated columns.\n",
        "\n",
        "So, if we apply the normal equation with this feature matrix, the values associated with duplicated columns are very large, which decreases the model performance. To solve this issue, one alternative is adding a small number to the diagonal of the feature matrix, which corresponds to regularization.\n",
        "\n",
        "This technique works because the addition of small values to the diagonal makes it less likely to have duplicated columns. The regularization value is a hyperparameter of the model. After applying regularization the model performance improved."
      ],
      "metadata": {
        "id": "EZ7MJvK8NYGz"
      }
    },
    {
      "cell_type": "markdown",
      "source": [
        "regularisation means controlling the weights"
      ],
      "metadata": {
        "id": "VMev_cc1F1xJ"
      }
    },
    {
      "cell_type": "code",
      "source": [
        "# 2column is a duplicate of the 3rd column\n",
        "x = [\n",
        "    [4,4,4],\n",
        "     [3,5,5],\n",
        "     [5,1,1],\n",
        "     [5,4,4],\n",
        "     [7,5,5],\n",
        "     [4,5,5.0001]\n",
        "\n",
        "]\n",
        "y = [1,2,3,1,2,3]\n",
        "x"
      ],
      "metadata": {
        "colab": {
          "base_uri": "https://localhost:8080/"
        },
        "id": "oJqj1RGGwpXu",
        "outputId": "a3efdde3-9fc0-48c5-8202-83ee705bf85d"
      },
      "execution_count": null,
      "outputs": [
        {
          "output_type": "execute_result",
          "data": {
            "text/plain": [
              "[[4, 4, 4], [3, 5, 5], [5, 1, 1], [5, 4, 4], [7, 5, 5], [4, 5, 5.0001]]"
            ]
          },
          "metadata": {},
          "execution_count": 303
        }
      ]
    },
    {
      "cell_type": "code",
      "source": [
        "#\n",
        "X = np.array(x)\n",
        "X"
      ],
      "metadata": {
        "colab": {
          "base_uri": "https://localhost:8080/"
        },
        "id": "BiKLn_MOxKEU",
        "outputId": "28431d5e-301d-4af0-90b4-4f360016af75"
      },
      "execution_count": null,
      "outputs": [
        {
          "output_type": "execute_result",
          "data": {
            "text/plain": [
              "array([[4.    , 4.    , 4.    ],\n",
              "       [3.    , 5.    , 5.    ],\n",
              "       [5.    , 1.    , 1.    ],\n",
              "       [5.    , 4.    , 4.    ],\n",
              "       [7.    , 5.    , 5.    ],\n",
              "       [4.    , 5.    , 5.0001]])"
            ]
          },
          "metadata": {},
          "execution_count": 299
        }
      ]
    },
    {
      "cell_type": "code",
      "source": [
        "XTX = X.T.dot(X)"
      ],
      "metadata": {
        "id": "K18cgxZQxUJO"
      },
      "execution_count": null,
      "outputs": []
    },
    {
      "cell_type": "code",
      "source": [
        "XTX_inv = np.linalg.inv(XTX)"
      ],
      "metadata": {
        "id": "Xk86bxAExlyc"
      },
      "execution_count": null,
      "outputs": []
    },
    {
      "cell_type": "code",
      "source": [
        "XTX_inv.dot(X.T).dot(y)\n",
        "# the observation here is we made the column 2 and 3 similar we cound't calculate the inverse of XTX\n",
        "#but when we slightly adjusted the 3 column by .0001 => 5.0001\n",
        "# and when calculate the weights W \n",
        "# the first column in X does not have a probleme so the firt weight : 4.13226616e-01 is OOOKKK\n",
        "#The second and 3 colomn were almost duplicate so the weight are ridiculus (-1.74491552e+04,  1.74490757e+04) === (-174490,-174491)"
      ],
      "metadata": {
        "colab": {
          "base_uri": "https://localhost:8080/"
        },
        "id": "Q7dULA0fyRHl",
        "outputId": "395984b0-13e3-4565-c33c-9157c51ccec4"
      },
      "execution_count": null,
      "outputs": [
        {
          "output_type": "execute_result",
          "data": {
            "text/plain": [
              "array([ 4.13226616e-01, -1.74491552e+04,  1.74490757e+04])"
            ]
          },
          "metadata": {},
          "execution_count": 305
        }
      ]
    },
    {
      "cell_type": "markdown",
      "source": [
        " the observation here is we made the column 2 and 3 similar we cound't calculate the inverse of XTX\n",
        "but when we slightly adjusted the 3 column by .0001 => 5.0001\n",
        "and when calculate the weights W \n",
        " the first column in X does not have a probleme so the firt weight : 4.13226616e-01 is OOOKKK\n",
        "The second and 3 colomn were almost duplicate so the weight are ridiculus ::\n",
        "(-1.74491552e+04,  1.74490757e+04) === (-174490,-174491)"
      ],
      "metadata": {
        "id": "0xq9Wpdlz_5I"
      }
    },
    {
      "cell_type": "code",
      "source": [
        "# to solve the probleme we can add small number on the diagonale\n",
        "XTX = [[1,2,2],[2,1,1.000001],[2,1.0000001,1]]"
      ],
      "metadata": {
        "id": "JYY4LgU90Y8L"
      },
      "execution_count": null,
      "outputs": []
    },
    {
      "cell_type": "code",
      "source": [
        "XTX = np.array(XTX)"
      ],
      "metadata": {
        "id": "s_I1V0Xx035t"
      },
      "execution_count": null,
      "outputs": []
    },
    {
      "cell_type": "code",
      "source": [
        "np.linalg.inv(XTX)"
      ],
      "metadata": {
        "colab": {
          "base_uri": "https://localhost:8080/"
        },
        "id": "q0x231d91In3",
        "outputId": "e294f162-5daa-4047-ee1b-3202e7850049"
      },
      "execution_count": null,
      "outputs": [
        {
          "output_type": "execute_result",
          "data": {
            "text/plain": [
              "array([[-3.33333374e-01,  6.06060624e-02,  6.06060624e-01],\n",
              "       [ 6.06060624e-01, -9.09090937e+05,  9.09090634e+05],\n",
              "       [ 6.06060625e-02,  9.09090906e+05, -9.09090937e+05]])"
            ]
          },
          "metadata": {},
          "execution_count": 315
        }
      ]
    },
    {
      "cell_type": "code",
      "source": [
        "# by adding a small number to the diagonal the ridiculous result desappears\n",
        "#XTX = [[1.00001,2,2],[2,1.00001,1.000001],[2,1.000001,1.00001]]"
      ],
      "metadata": {
        "id": "zPfSukJX1cHT"
      },
      "execution_count": null,
      "outputs": []
    },
    {
      "cell_type": "code",
      "source": [
        "np.eye(3)"
      ],
      "metadata": {
        "colab": {
          "base_uri": "https://localhost:8080/"
        },
        "id": "vdHYzOlKFcvj",
        "outputId": "bbd57ff9-eb5a-4ebf-95d4-253b1d62e304"
      },
      "execution_count": null,
      "outputs": [
        {
          "output_type": "execute_result",
          "data": {
            "text/plain": [
              "array([[1., 0., 0.],\n",
              "       [0., 1., 0.],\n",
              "       [0., 0., 1.]])"
            ]
          },
          "metadata": {},
          "execution_count": 330
        }
      ]
    },
    {
      "cell_type": "code",
      "source": [
        "XTX = [[1,2,2],[2,1,1.000001],[2,1.0000001,1]]\n",
        "XTX = np.array(XTX)\n",
        "XTX = XTX + 0.01*np.eye(3)"
      ],
      "metadata": {
        "id": "AfA_Eagw12aF"
      },
      "execution_count": null,
      "outputs": []
    },
    {
      "cell_type": "code",
      "source": [
        "np.linalg.inv(XTX)\n",
        "XTX.size"
      ],
      "metadata": {
        "colab": {
          "base_uri": "https://localhost:8080/"
        },
        "id": "RpYEly9J14D2",
        "outputId": "4f151b0f-4d28-4bef-e0ef-ecdb971f9b4f"
      },
      "execution_count": null,
      "outputs": [
        {
          "output_type": "execute_result",
          "data": {
            "text/plain": [
              "9"
            ]
          },
          "metadata": {},
          "execution_count": 346
        }
      ]
    },
    {
      "cell_type": "code",
      "source": [
        "def train_linear_regression_regularised(X, y,r=0.001):\n",
        "    #add the column for w0 (all coefficient == 1)\n",
        "    ones = np.ones(X.shape[0])\n",
        "    X = np.column_stack([ones, X])\n",
        "    \n",
        "    XTX = X.T.dot(X)\n",
        "\n",
        "    #add the coefficent r to diagnonal of the XTX matrix \n",
        "    XTX = XTX + r*np.eye(XTX.shape[0])\n",
        "    \n",
        "    XTX_inv = np.linalg.inv(XTX)\n",
        "    w_full = XTX_inv.dot(X.T).dot(y)\n",
        "    \n",
        "    return w_full[0], w_full[1:]"
      ],
      "metadata": {
        "id": "i5EcQ1eYGhOQ"
      },
      "execution_count": null,
      "outputs": []
    },
    {
      "cell_type": "code",
      "source": [
        "# we don't need preparing the data so it stays as it is "
      ],
      "metadata": {
        "id": "or2QU5g_Ic1E"
      },
      "execution_count": null,
      "outputs": []
    },
    {
      "cell_type": "code",
      "source": [
        "X_train = prepare_X(df_train)\n",
        "#w0 ,w = train_linear_regression(X_train,y_train)\n",
        "# train based on the modified matrix with the r factor (regularisation factor )\n",
        "w0 ,w = train_linear_regression_regularised(X_train,y_train,r=0.01)\n",
        "\n",
        "\n",
        "\n",
        "X_val = prepare_X(df_val)\n",
        "#calculate the yrediction for the valuation dataset\n",
        "ypred_val = X_val.dot(w) + w0\n",
        "\n",
        "\n",
        "\n",
        "#calculate rmse between y_val and y_predicted using the weights Wi ( based on the trainig dataset)\n",
        "rmse(ypred_val,y_val)"
      ],
      "metadata": {
        "colab": {
          "base_uri": "https://localhost:8080/"
        },
        "id": "JiqNjAsbIkUl",
        "outputId": "d30b1285-897f-408d-acf0-b283c41a87b6"
      },
      "execution_count": null,
      "outputs": [
        {
          "output_type": "execute_result",
          "data": {
            "text/plain": [
              "0.45652199015305106"
            ]
          },
          "metadata": {},
          "execution_count": 350
        }
      ]
    },
    {
      "cell_type": "markdown",
      "source": [
        "the result is much better that without regularisation\n",
        "\n",
        "**with** : 0.45652199015305106\n",
        "\n",
        "**without** : 41.98123097210177 **(attention its 41. not 0.41 !!!!!! )**\n",
        "\n",
        "and the better result until now \n"
      ],
      "metadata": {
        "id": "h9kGFdqFJRUp"
      }
    },
    {
      "cell_type": "markdown",
      "source": [
        "# Tuning the model "
      ],
      "metadata": {
        "id": "QyAVQ3DIKlmL"
      }
    },
    {
      "cell_type": "markdown",
      "source": [
        "Tuning the model consisted of finding the best regularization hyperparameter value, using the validation partition of the dataset. The model was then trained with this regularization value."
      ],
      "metadata": {
        "id": "1ZS85cyBN1qx"
      }
    },
    {
      "cell_type": "markdown",
      "source": [
        "tunning means finding the best regularation coefficient r"
      ],
      "metadata": {
        "id": "sALE2WEpMh8q"
      }
    },
    {
      "cell_type": "code",
      "source": [
        "score = []\n",
        "for r in [0.0,0.00001,0.0001,0.001,0.1,1,10]:\n",
        "  X_train = prepare_X(df_train)\n",
        "  #w0 ,w = train_linear_regression(X_train,y_train)\n",
        "  # train based on the modified matrix with the r factor (regularisation factor )\n",
        "  # iterate over all the r in the list of values \n",
        "  w0 ,w = train_linear_regression_regularised(X_train,y_train,r=r)\n",
        "\n",
        "\n",
        "\n",
        "  X_val = prepare_X(df_val)\n",
        "  #calculate the yrediction for the valuation dataset\n",
        "  ypred_val = X_val.dot(w) + w0\n",
        "\n",
        "\n",
        "\n",
        "  #calculate rmse between y_val and y_predicted using the weights Wi ( based on the trainig dataset)\n",
        "  score = rmse(ypred_val,y_val)\n",
        "\n",
        "  print(r,w0,score)\n"
      ],
      "metadata": {
        "colab": {
          "base_uri": "https://localhost:8080/"
        },
        "id": "pTHURkrwKqwk",
        "outputId": "6f4667b1-9d4d-4821-9f80-9155692e7b6e"
      },
      "execution_count": null,
      "outputs": [
        {
          "output_type": "stream",
          "name": "stdout",
          "text": [
            "0.0 7856974834977291.0 41.98123097210177\n",
            "1e-05 3.995090496891015 0.4565170121553725\n",
            "0.0001 6.366832411915021 0.45651706230748057\n",
            "0.001 6.285698962942172 0.4565175085668249\n",
            "0.1 6.191208711253013 0.4565692763018112\n",
            "1 5.634896668089788 0.45722043179941385\n",
            "10 4.283980108969207 0.4701456932100037\n"
          ]
        }
      ]
    },
    {
      "cell_type": "code",
      "source": [
        "  r=0.001\n",
        "  X_train = prepare_X(df_train)\n",
        "  #w0 ,w = train_linear_regression(X_train,y_train)\n",
        "  # train based on the modified matrix with the r factor (regularisation factor )\n",
        "  # iterate over all the r in the list of values \n",
        "  w0 ,w = train_linear_regression_regularised(X_train,y_train,r=r)\n",
        "\n",
        "\n",
        "\n",
        "  X_val = prepare_X(df_val)\n",
        "  #calculate the yrediction for the valuation dataset\n",
        "  ypred_val = X_val.dot(w) + w0\n",
        "\n",
        "\n",
        "\n",
        "  #calculate rmse between y_val and y_predicted using the weights Wi ( based on the trainig dataset)\n",
        "  score = rmse(ypred_val,y_val)\n",
        "\n",
        "  print(r,w0,score)"
      ],
      "metadata": {
        "colab": {
          "base_uri": "https://localhost:8080/"
        },
        "id": "gRYPdFvING4Z",
        "outputId": "90115bce-5c31-4273-f28d-92b3f271f609"
      },
      "execution_count": null,
      "outputs": [
        {
          "output_type": "stream",
          "name": "stdout",
          "text": [
            "0.001 6.285698962942172 0.4565175085668249\n"
          ]
        }
      ]
    },
    {
      "cell_type": "markdown",
      "source": [
        "# Using the model"
      ],
      "metadata": {
        "id": "sOiabUW6N_0E"
      }
    },
    {
      "cell_type": "code",
      "source": [
        "df_full_train = pd.concat([df_train,df_val])\n",
        "df_full_train =df_full_train.reset_index(drop=True)"
      ],
      "metadata": {
        "id": "bes7FKZcOnMf"
      },
      "execution_count": null,
      "outputs": []
    },
    {
      "cell_type": "code",
      "source": [
        "df_full_train.head()\n",
        "#del df_full_train['index']"
      ],
      "metadata": {
        "colab": {
          "base_uri": "https://localhost:8080/",
          "height": 287
        },
        "id": "YUq3uEEQPmtG",
        "outputId": "5ccb26a8-75a1-4afc-afd9-88b5f53a1a81"
      },
      "execution_count": null,
      "outputs": [
        {
          "output_type": "execute_result",
          "data": {
            "text/plain": [
              "         make    model  year          engine_fuel_type  engine_hp  \\\n",
              "0   chevrolet   cobalt  2008          regular_unleaded      148.0   \n",
              "1      toyota   matrix  2012          regular_unleaded      132.0   \n",
              "2      subaru  impreza  2016          regular_unleaded      148.0   \n",
              "3  volkswagen  vanagon  1991          regular_unleaded       90.0   \n",
              "4        ford    f-150  2017  flex-fuel_(unleaded/e85)      385.0   \n",
              "\n",
              "   engine_cylinders transmission_type      driven_wheels  number_of_doors  \\\n",
              "0               4.0            manual  front_wheel_drive              2.0   \n",
              "1               4.0         automatic  front_wheel_drive              4.0   \n",
              "2               4.0         automatic    all_wheel_drive              4.0   \n",
              "3               4.0            manual   rear_wheel_drive              3.0   \n",
              "4               8.0         automatic   four_wheel_drive              4.0   \n",
              "\n",
              "  market_category vehicle_size      vehicle_style  highway_mpg  city_mpg  \\\n",
              "0             NaN      compact              coupe           33        24   \n",
              "1       hatchback      compact      4dr_hatchback           32        25   \n",
              "2       hatchback      compact      4dr_hatchback           37        28   \n",
              "3             NaN        large  passenger_minivan           18        16   \n",
              "4       flex_fuel        large    crew_cab_pickup           21        15   \n",
              "\n",
              "   popularity  \n",
              "0        1385  \n",
              "1        2031  \n",
              "2         640  \n",
              "3         873  \n",
              "4        5657  "
            ],
            "text/html": [
              "\n",
              "  <div id=\"df-ea5d28db-dc80-458f-81ed-97e68810102d\">\n",
              "    <div class=\"colab-df-container\">\n",
              "      <div>\n",
              "<style scoped>\n",
              "    .dataframe tbody tr th:only-of-type {\n",
              "        vertical-align: middle;\n",
              "    }\n",
              "\n",
              "    .dataframe tbody tr th {\n",
              "        vertical-align: top;\n",
              "    }\n",
              "\n",
              "    .dataframe thead th {\n",
              "        text-align: right;\n",
              "    }\n",
              "</style>\n",
              "<table border=\"1\" class=\"dataframe\">\n",
              "  <thead>\n",
              "    <tr style=\"text-align: right;\">\n",
              "      <th></th>\n",
              "      <th>make</th>\n",
              "      <th>model</th>\n",
              "      <th>year</th>\n",
              "      <th>engine_fuel_type</th>\n",
              "      <th>engine_hp</th>\n",
              "      <th>engine_cylinders</th>\n",
              "      <th>transmission_type</th>\n",
              "      <th>driven_wheels</th>\n",
              "      <th>number_of_doors</th>\n",
              "      <th>market_category</th>\n",
              "      <th>vehicle_size</th>\n",
              "      <th>vehicle_style</th>\n",
              "      <th>highway_mpg</th>\n",
              "      <th>city_mpg</th>\n",
              "      <th>popularity</th>\n",
              "    </tr>\n",
              "  </thead>\n",
              "  <tbody>\n",
              "    <tr>\n",
              "      <th>0</th>\n",
              "      <td>chevrolet</td>\n",
              "      <td>cobalt</td>\n",
              "      <td>2008</td>\n",
              "      <td>regular_unleaded</td>\n",
              "      <td>148.0</td>\n",
              "      <td>4.0</td>\n",
              "      <td>manual</td>\n",
              "      <td>front_wheel_drive</td>\n",
              "      <td>2.0</td>\n",
              "      <td>NaN</td>\n",
              "      <td>compact</td>\n",
              "      <td>coupe</td>\n",
              "      <td>33</td>\n",
              "      <td>24</td>\n",
              "      <td>1385</td>\n",
              "    </tr>\n",
              "    <tr>\n",
              "      <th>1</th>\n",
              "      <td>toyota</td>\n",
              "      <td>matrix</td>\n",
              "      <td>2012</td>\n",
              "      <td>regular_unleaded</td>\n",
              "      <td>132.0</td>\n",
              "      <td>4.0</td>\n",
              "      <td>automatic</td>\n",
              "      <td>front_wheel_drive</td>\n",
              "      <td>4.0</td>\n",
              "      <td>hatchback</td>\n",
              "      <td>compact</td>\n",
              "      <td>4dr_hatchback</td>\n",
              "      <td>32</td>\n",
              "      <td>25</td>\n",
              "      <td>2031</td>\n",
              "    </tr>\n",
              "    <tr>\n",
              "      <th>2</th>\n",
              "      <td>subaru</td>\n",
              "      <td>impreza</td>\n",
              "      <td>2016</td>\n",
              "      <td>regular_unleaded</td>\n",
              "      <td>148.0</td>\n",
              "      <td>4.0</td>\n",
              "      <td>automatic</td>\n",
              "      <td>all_wheel_drive</td>\n",
              "      <td>4.0</td>\n",
              "      <td>hatchback</td>\n",
              "      <td>compact</td>\n",
              "      <td>4dr_hatchback</td>\n",
              "      <td>37</td>\n",
              "      <td>28</td>\n",
              "      <td>640</td>\n",
              "    </tr>\n",
              "    <tr>\n",
              "      <th>3</th>\n",
              "      <td>volkswagen</td>\n",
              "      <td>vanagon</td>\n",
              "      <td>1991</td>\n",
              "      <td>regular_unleaded</td>\n",
              "      <td>90.0</td>\n",
              "      <td>4.0</td>\n",
              "      <td>manual</td>\n",
              "      <td>rear_wheel_drive</td>\n",
              "      <td>3.0</td>\n",
              "      <td>NaN</td>\n",
              "      <td>large</td>\n",
              "      <td>passenger_minivan</td>\n",
              "      <td>18</td>\n",
              "      <td>16</td>\n",
              "      <td>873</td>\n",
              "    </tr>\n",
              "    <tr>\n",
              "      <th>4</th>\n",
              "      <td>ford</td>\n",
              "      <td>f-150</td>\n",
              "      <td>2017</td>\n",
              "      <td>flex-fuel_(unleaded/e85)</td>\n",
              "      <td>385.0</td>\n",
              "      <td>8.0</td>\n",
              "      <td>automatic</td>\n",
              "      <td>four_wheel_drive</td>\n",
              "      <td>4.0</td>\n",
              "      <td>flex_fuel</td>\n",
              "      <td>large</td>\n",
              "      <td>crew_cab_pickup</td>\n",
              "      <td>21</td>\n",
              "      <td>15</td>\n",
              "      <td>5657</td>\n",
              "    </tr>\n",
              "  </tbody>\n",
              "</table>\n",
              "</div>\n",
              "      <button class=\"colab-df-convert\" onclick=\"convertToInteractive('df-ea5d28db-dc80-458f-81ed-97e68810102d')\"\n",
              "              title=\"Convert this dataframe to an interactive table.\"\n",
              "              style=\"display:none;\">\n",
              "        \n",
              "  <svg xmlns=\"http://www.w3.org/2000/svg\" height=\"24px\"viewBox=\"0 0 24 24\"\n",
              "       width=\"24px\">\n",
              "    <path d=\"M0 0h24v24H0V0z\" fill=\"none\"/>\n",
              "    <path d=\"M18.56 5.44l.94 2.06.94-2.06 2.06-.94-2.06-.94-.94-2.06-.94 2.06-2.06.94zm-11 1L8.5 8.5l.94-2.06 2.06-.94-2.06-.94L8.5 2.5l-.94 2.06-2.06.94zm10 10l.94 2.06.94-2.06 2.06-.94-2.06-.94-.94-2.06-.94 2.06-2.06.94z\"/><path d=\"M17.41 7.96l-1.37-1.37c-.4-.4-.92-.59-1.43-.59-.52 0-1.04.2-1.43.59L10.3 9.45l-7.72 7.72c-.78.78-.78 2.05 0 2.83L4 21.41c.39.39.9.59 1.41.59.51 0 1.02-.2 1.41-.59l7.78-7.78 2.81-2.81c.8-.78.8-2.07 0-2.86zM5.41 20L4 18.59l7.72-7.72 1.47 1.35L5.41 20z\"/>\n",
              "  </svg>\n",
              "      </button>\n",
              "      \n",
              "  <style>\n",
              "    .colab-df-container {\n",
              "      display:flex;\n",
              "      flex-wrap:wrap;\n",
              "      gap: 12px;\n",
              "    }\n",
              "\n",
              "    .colab-df-convert {\n",
              "      background-color: #E8F0FE;\n",
              "      border: none;\n",
              "      border-radius: 50%;\n",
              "      cursor: pointer;\n",
              "      display: none;\n",
              "      fill: #1967D2;\n",
              "      height: 32px;\n",
              "      padding: 0 0 0 0;\n",
              "      width: 32px;\n",
              "    }\n",
              "\n",
              "    .colab-df-convert:hover {\n",
              "      background-color: #E2EBFA;\n",
              "      box-shadow: 0px 1px 2px rgba(60, 64, 67, 0.3), 0px 1px 3px 1px rgba(60, 64, 67, 0.15);\n",
              "      fill: #174EA6;\n",
              "    }\n",
              "\n",
              "    [theme=dark] .colab-df-convert {\n",
              "      background-color: #3B4455;\n",
              "      fill: #D2E3FC;\n",
              "    }\n",
              "\n",
              "    [theme=dark] .colab-df-convert:hover {\n",
              "      background-color: #434B5C;\n",
              "      box-shadow: 0px 1px 3px 1px rgba(0, 0, 0, 0.15);\n",
              "      filter: drop-shadow(0px 1px 2px rgba(0, 0, 0, 0.3));\n",
              "      fill: #FFFFFF;\n",
              "    }\n",
              "  </style>\n",
              "\n",
              "      <script>\n",
              "        const buttonEl =\n",
              "          document.querySelector('#df-ea5d28db-dc80-458f-81ed-97e68810102d button.colab-df-convert');\n",
              "        buttonEl.style.display =\n",
              "          google.colab.kernel.accessAllowed ? 'block' : 'none';\n",
              "\n",
              "        async function convertToInteractive(key) {\n",
              "          const element = document.querySelector('#df-ea5d28db-dc80-458f-81ed-97e68810102d');\n",
              "          const dataTable =\n",
              "            await google.colab.kernel.invokeFunction('convertToInteractive',\n",
              "                                                     [key], {});\n",
              "          if (!dataTable) return;\n",
              "\n",
              "          const docLinkHtml = 'Like what you see? Visit the ' +\n",
              "            '<a target=\"_blank\" href=https://colab.research.google.com/notebooks/data_table.ipynb>data table notebook</a>'\n",
              "            + ' to learn more about interactive tables.';\n",
              "          element.innerHTML = '';\n",
              "          dataTable['output_type'] = 'display_data';\n",
              "          await google.colab.output.renderOutput(dataTable, element);\n",
              "          const docLink = document.createElement('div');\n",
              "          docLink.innerHTML = docLinkHtml;\n",
              "          element.appendChild(docLink);\n",
              "        }\n",
              "      </script>\n",
              "    </div>\n",
              "  </div>\n",
              "  "
            ]
          },
          "metadata": {},
          "execution_count": 379
        }
      ]
    },
    {
      "cell_type": "code",
      "source": [
        "X_full_train = prepare_X(df_full_train)"
      ],
      "metadata": {
        "id": "1kfEegUaQkyL"
      },
      "execution_count": null,
      "outputs": []
    },
    {
      "cell_type": "code",
      "source": [
        "y_full_train =np.concatenate([y_train,y_val])"
      ],
      "metadata": {
        "id": "8pbAKrHbQuw0"
      },
      "execution_count": null,
      "outputs": []
    },
    {
      "cell_type": "code",
      "source": [
        "w0 ,w = train_linear_regression_regularised(X_full_train,y_full_train,r=0.001)"
      ],
      "metadata": {
        "id": "cABhNxZjRWtv"
      },
      "execution_count": null,
      "outputs": []
    },
    {
      "cell_type": "code",
      "source": [
        "w"
      ],
      "metadata": {
        "colab": {
          "base_uri": "https://localhost:8080/"
        },
        "id": "7fBLIDcZRm_P",
        "outputId": "73a8a3a9-3cab-4bed-c619-f84d90aa05f7"
      },
      "execution_count": null,
      "outputs": [
        {
          "output_type": "execute_result",
          "data": {
            "text/plain": [
              "array([ 1.52506335e-03,  1.18188704e-01, -6.66105497e-03, -5.33413995e-03,\n",
              "       -4.87603194e-05, -9.69091838e-02, -7.92621897e-01, -8.90863104e-01,\n",
              "       -6.35101822e-01, -4.14339216e-02,  1.75560741e-01, -5.78065727e-04,\n",
              "       -1.00563875e-01, -9.27549656e-02, -4.66859096e-01,  7.98659858e-02,\n",
              "       -3.16047648e-01, -5.51981614e-01, -7.89525424e-02,  1.09498050e+00,\n",
              "        9.19672949e-01,  1.14925035e+00,  2.65238633e+00,  5.09609485e-01,\n",
              "        1.62937842e+00,  1.53008247e+00,  1.61726119e+00,  1.54526058e+00,\n",
              "       -9.70559795e-02,  3.73062091e-02, -5.81767466e-02, -1.19357106e-02,\n",
              "       -2.35940819e-02,  2.18895261e+00,  2.07458271e+00,  2.05916686e+00,\n",
              "       -5.00802769e-02,  5.62184639e-02,  1.84794024e-01,  3.32646151e-01,\n",
              "       -1.58817038e-01])"
            ]
          },
          "metadata": {},
          "execution_count": 384
        }
      ]
    },
    {
      "cell_type": "code",
      "source": [
        "X_test = prepare_X(df_test)\n",
        "#calculate the yrediction for the tes dataset\n",
        "ypred_test = X_test.dot(w) + w0\n",
        "\n",
        "\n",
        "\n",
        "#calculate rmse between y_val and y_predicted using the weights Wi ( based on the trainig dataset)\n",
        "score = rmse(y_test,ypred_test)\n",
        "score"
      ],
      "metadata": {
        "colab": {
          "base_uri": "https://localhost:8080/"
        },
        "id": "UKexlfvJR0Wk",
        "outputId": "87453f36-d0fd-434a-df14-32af3f8cb49b"
      },
      "execution_count": null,
      "outputs": [
        {
          "output_type": "execute_result",
          "data": {
            "text/plain": [
              "0.45177493078546815"
            ]
          },
          "metadata": {},
          "execution_count": 386
        }
      ]
    },
    {
      "cell_type": "markdown",
      "source": [
        "we want to test the model on an example :"
      ],
      "metadata": {
        "id": "egeyjI83S2Lu"
      }
    },
    {
      "cell_type": "code",
      "source": [
        "car = df_test.iloc[20].to_dict()"
      ],
      "metadata": {
        "id": "T9oFdu-pSoYl"
      },
      "execution_count": null,
      "outputs": []
    },
    {
      "cell_type": "code",
      "source": [
        "car"
      ],
      "metadata": {
        "colab": {
          "base_uri": "https://localhost:8080/"
        },
        "id": "5Kyntl8QUKtH",
        "outputId": "39fc6170-9ec4-4fed-d892-f75ca8c8bc04"
      },
      "execution_count": null,
      "outputs": [
        {
          "output_type": "execute_result",
          "data": {
            "text/plain": [
              "{'make': 'toyota',\n",
              " 'model': 'sienna',\n",
              " 'year': 2015,\n",
              " 'engine_fuel_type': 'regular_unleaded',\n",
              " 'engine_hp': 266.0,\n",
              " 'engine_cylinders': 6.0,\n",
              " 'transmission_type': 'automatic',\n",
              " 'driven_wheels': 'front_wheel_drive',\n",
              " 'number_of_doors': 4.0,\n",
              " 'market_category': nan,\n",
              " 'vehicle_size': 'large',\n",
              " 'vehicle_style': 'passenger_minivan',\n",
              " 'highway_mpg': 25,\n",
              " 'city_mpg': 18,\n",
              " 'popularity': 2031}"
            ]
          },
          "metadata": {},
          "execution_count": 402
        }
      ]
    },
    {
      "cell_type": "code",
      "source": [
        "#just passing car doesn't work it need to be a list of object like ::: [car]\n",
        "df_sample = pd.DataFrame([car])\n",
        "df_sample"
      ],
      "metadata": {
        "colab": {
          "base_uri": "https://localhost:8080/",
          "height": 145
        },
        "id": "0CT8PyTQXuB2",
        "outputId": "78fba44c-40c2-4849-9a51-57dc2e63dbd1"
      },
      "execution_count": null,
      "outputs": [
        {
          "output_type": "execute_result",
          "data": {
            "text/plain": [
              "     make   model  year  engine_fuel_type  engine_hp  engine_cylinders  \\\n",
              "0  toyota  sienna  2015  regular_unleaded      266.0               6.0   \n",
              "\n",
              "  transmission_type      driven_wheels  number_of_doors  market_category  \\\n",
              "0         automatic  front_wheel_drive              4.0              NaN   \n",
              "\n",
              "  vehicle_size      vehicle_style  highway_mpg  city_mpg  popularity  \n",
              "0        large  passenger_minivan           25        18        2031  "
            ],
            "text/html": [
              "\n",
              "  <div id=\"df-4a4025b9-d5d3-4ba2-86a3-6de6085e503d\">\n",
              "    <div class=\"colab-df-container\">\n",
              "      <div>\n",
              "<style scoped>\n",
              "    .dataframe tbody tr th:only-of-type {\n",
              "        vertical-align: middle;\n",
              "    }\n",
              "\n",
              "    .dataframe tbody tr th {\n",
              "        vertical-align: top;\n",
              "    }\n",
              "\n",
              "    .dataframe thead th {\n",
              "        text-align: right;\n",
              "    }\n",
              "</style>\n",
              "<table border=\"1\" class=\"dataframe\">\n",
              "  <thead>\n",
              "    <tr style=\"text-align: right;\">\n",
              "      <th></th>\n",
              "      <th>make</th>\n",
              "      <th>model</th>\n",
              "      <th>year</th>\n",
              "      <th>engine_fuel_type</th>\n",
              "      <th>engine_hp</th>\n",
              "      <th>engine_cylinders</th>\n",
              "      <th>transmission_type</th>\n",
              "      <th>driven_wheels</th>\n",
              "      <th>number_of_doors</th>\n",
              "      <th>market_category</th>\n",
              "      <th>vehicle_size</th>\n",
              "      <th>vehicle_style</th>\n",
              "      <th>highway_mpg</th>\n",
              "      <th>city_mpg</th>\n",
              "      <th>popularity</th>\n",
              "    </tr>\n",
              "  </thead>\n",
              "  <tbody>\n",
              "    <tr>\n",
              "      <th>0</th>\n",
              "      <td>toyota</td>\n",
              "      <td>sienna</td>\n",
              "      <td>2015</td>\n",
              "      <td>regular_unleaded</td>\n",
              "      <td>266.0</td>\n",
              "      <td>6.0</td>\n",
              "      <td>automatic</td>\n",
              "      <td>front_wheel_drive</td>\n",
              "      <td>4.0</td>\n",
              "      <td>NaN</td>\n",
              "      <td>large</td>\n",
              "      <td>passenger_minivan</td>\n",
              "      <td>25</td>\n",
              "      <td>18</td>\n",
              "      <td>2031</td>\n",
              "    </tr>\n",
              "  </tbody>\n",
              "</table>\n",
              "</div>\n",
              "      <button class=\"colab-df-convert\" onclick=\"convertToInteractive('df-4a4025b9-d5d3-4ba2-86a3-6de6085e503d')\"\n",
              "              title=\"Convert this dataframe to an interactive table.\"\n",
              "              style=\"display:none;\">\n",
              "        \n",
              "  <svg xmlns=\"http://www.w3.org/2000/svg\" height=\"24px\"viewBox=\"0 0 24 24\"\n",
              "       width=\"24px\">\n",
              "    <path d=\"M0 0h24v24H0V0z\" fill=\"none\"/>\n",
              "    <path d=\"M18.56 5.44l.94 2.06.94-2.06 2.06-.94-2.06-.94-.94-2.06-.94 2.06-2.06.94zm-11 1L8.5 8.5l.94-2.06 2.06-.94-2.06-.94L8.5 2.5l-.94 2.06-2.06.94zm10 10l.94 2.06.94-2.06 2.06-.94-2.06-.94-.94-2.06-.94 2.06-2.06.94z\"/><path d=\"M17.41 7.96l-1.37-1.37c-.4-.4-.92-.59-1.43-.59-.52 0-1.04.2-1.43.59L10.3 9.45l-7.72 7.72c-.78.78-.78 2.05 0 2.83L4 21.41c.39.39.9.59 1.41.59.51 0 1.02-.2 1.41-.59l7.78-7.78 2.81-2.81c.8-.78.8-2.07 0-2.86zM5.41 20L4 18.59l7.72-7.72 1.47 1.35L5.41 20z\"/>\n",
              "  </svg>\n",
              "      </button>\n",
              "      \n",
              "  <style>\n",
              "    .colab-df-container {\n",
              "      display:flex;\n",
              "      flex-wrap:wrap;\n",
              "      gap: 12px;\n",
              "    }\n",
              "\n",
              "    .colab-df-convert {\n",
              "      background-color: #E8F0FE;\n",
              "      border: none;\n",
              "      border-radius: 50%;\n",
              "      cursor: pointer;\n",
              "      display: none;\n",
              "      fill: #1967D2;\n",
              "      height: 32px;\n",
              "      padding: 0 0 0 0;\n",
              "      width: 32px;\n",
              "    }\n",
              "\n",
              "    .colab-df-convert:hover {\n",
              "      background-color: #E2EBFA;\n",
              "      box-shadow: 0px 1px 2px rgba(60, 64, 67, 0.3), 0px 1px 3px 1px rgba(60, 64, 67, 0.15);\n",
              "      fill: #174EA6;\n",
              "    }\n",
              "\n",
              "    [theme=dark] .colab-df-convert {\n",
              "      background-color: #3B4455;\n",
              "      fill: #D2E3FC;\n",
              "    }\n",
              "\n",
              "    [theme=dark] .colab-df-convert:hover {\n",
              "      background-color: #434B5C;\n",
              "      box-shadow: 0px 1px 3px 1px rgba(0, 0, 0, 0.15);\n",
              "      filter: drop-shadow(0px 1px 2px rgba(0, 0, 0, 0.3));\n",
              "      fill: #FFFFFF;\n",
              "    }\n",
              "  </style>\n",
              "\n",
              "      <script>\n",
              "        const buttonEl =\n",
              "          document.querySelector('#df-4a4025b9-d5d3-4ba2-86a3-6de6085e503d button.colab-df-convert');\n",
              "        buttonEl.style.display =\n",
              "          google.colab.kernel.accessAllowed ? 'block' : 'none';\n",
              "\n",
              "        async function convertToInteractive(key) {\n",
              "          const element = document.querySelector('#df-4a4025b9-d5d3-4ba2-86a3-6de6085e503d');\n",
              "          const dataTable =\n",
              "            await google.colab.kernel.invokeFunction('convertToInteractive',\n",
              "                                                     [key], {});\n",
              "          if (!dataTable) return;\n",
              "\n",
              "          const docLinkHtml = 'Like what you see? Visit the ' +\n",
              "            '<a target=\"_blank\" href=https://colab.research.google.com/notebooks/data_table.ipynb>data table notebook</a>'\n",
              "            + ' to learn more about interactive tables.';\n",
              "          element.innerHTML = '';\n",
              "          dataTable['output_type'] = 'display_data';\n",
              "          await google.colab.output.renderOutput(dataTable, element);\n",
              "          const docLink = document.createElement('div');\n",
              "          docLink.innerHTML = docLinkHtml;\n",
              "          element.appendChild(docLink);\n",
              "        }\n",
              "      </script>\n",
              "    </div>\n",
              "  </div>\n",
              "  "
            ]
          },
          "metadata": {},
          "execution_count": 406
        }
      ]
    },
    {
      "cell_type": "code",
      "source": [
        "X_sample = prepare_X(df_sample)"
      ],
      "metadata": {
        "id": "dFccrgGMYP0c"
      },
      "execution_count": null,
      "outputs": []
    },
    {
      "cell_type": "code",
      "source": [
        "ypred_sample = X_sample.dot(w) + w0\n",
        "np.expm1(ypred_sample[0])"
      ],
      "metadata": {
        "colab": {
          "base_uri": "https://localhost:8080/"
        },
        "id": "hYbw51aLYZsg",
        "outputId": "0ed66f34-40e0-4bcd-ce27-bb39d2ede8e2"
      },
      "execution_count": null,
      "outputs": [
        {
          "output_type": "execute_result",
          "data": {
            "text/plain": [
              "34983.19628876874"
            ]
          },
          "metadata": {},
          "execution_count": 413
        }
      ]
    },
    {
      "cell_type": "code",
      "source": [
        "y_test[20]\n",
        "np.expm1(y_test[20])"
      ],
      "metadata": {
        "colab": {
          "base_uri": "https://localhost:8080/"
        },
        "id": "avYyGWJsY7L8",
        "outputId": "d4e27fba-9835-4a65-8451-b4ae8b2db3da"
      },
      "execution_count": null,
      "outputs": [
        {
          "output_type": "execute_result",
          "data": {
            "text/plain": [
              "35000.00000000001"
            ]
          },
          "metadata": {},
          "execution_count": 416
        }
      ]
    },
    {
      "cell_type": "markdown",
      "source": [
        "#Explore more (data sets ideal for regression )"
      ],
      "metadata": {
        "id": "gmGEwDWVcCPp"
      }
    },
    {
      "cell_type": "markdown",
      "source": [
        "\n",
        "    In this project, we included only 5 top features. What happens if we include 10?\n",
        "\n",
        "    That's not a graded homework, it's just for you if you want to try more things on this project\n",
        "\n",
        "Other projects\n",
        "\n",
        "Here are other datasets that you can play with to learn more about the topic:\n",
        "\n",
        "    California housing dataset - predict the price of a house\n",
        "    https://scikit-learn.org/stable/modules/generated/sklearn.datasets.fetch_california_housing.html\n",
        "\n",
        "    Student Performance Data Set - predict the performance of students\n",
        "    https://archive.ics.uci.edu/ml/datasets/Student+Performance\n",
        "\n",
        "\n",
        "    UCI ML Repository contains a lot of other datasets suitable for practicing regression - https://archive.ics.uci.edu/ml/datasets.php?task=reg\n"
      ],
      "metadata": {
        "id": "jUhHrO-6bZ9Z"
      }
    }
  ]
}