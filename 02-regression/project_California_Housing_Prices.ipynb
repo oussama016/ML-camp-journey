{
  "nbformat": 4,
  "nbformat_minor": 0,
  "metadata": {
    "colab": {
      "provenance": [],
      "authorship_tag": "ABX9TyN6yYwlbY2sqlPD3G7HqHfk",
      "include_colab_link": true
    },
    "kernelspec": {
      "name": "python3",
      "display_name": "Python 3"
    },
    "language_info": {
      "name": "python"
    }
  },
  "cells": [
    {
      "cell_type": "markdown",
      "metadata": {
        "id": "view-in-github",
        "colab_type": "text"
      },
      "source": [
        "<a href=\"https://colab.research.google.com/github/oussama016/ML-camp-journey/blob/main/02-regression/project_California_Housing_Prices.ipynb\" target=\"_parent\"><img src=\"https://colab.research.google.com/assets/colab-badge.svg\" alt=\"Open In Colab\"/></a>"
      ]
    },
    {
      "cell_type": "code",
      "execution_count": null,
      "metadata": {
        "id": "MRnxL4uiDYAa"
      },
      "outputs": [],
      "source": [
        "import numpy as np\n",
        "import pandas as pd\n",
        "\n",
        "import io\n",
        "import requests"
      ]
    },
    {
      "cell_type": "markdown",
      "source": [
        "ref : https://docs.python.org/3/tutorial/datastructures.html#the-del-statement"
      ],
      "metadata": {
        "id": "9jmKwltWN3Tq"
      }
    }
  ]
}