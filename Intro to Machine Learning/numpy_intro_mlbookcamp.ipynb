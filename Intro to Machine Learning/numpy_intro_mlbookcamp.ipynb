{
  "nbformat": 4,
  "nbformat_minor": 0,
  "metadata": {
    "colab": {
      "provenance": [],
      "authorship_tag": "ABX9TyOLS4jhay/RSKyRTfiE9NjA",
      "include_colab_link": true
    },
    "kernelspec": {
      "name": "python3",
      "display_name": "Python 3"
    },
    "language_info": {
      "name": "python"
    }
  },
  "cells": [
    {
      "cell_type": "markdown",
      "metadata": {
        "id": "view-in-github",
        "colab_type": "text"
      },
      "source": [
        "<a href=\"https://colab.research.google.com/github/oussama016/ML-camp-journey/blob/main/Intro%20to%20Machine%20Learning/numpy_intro_mlbookcamp.ipynb\" target=\"_parent\"><img src=\"https://colab.research.google.com/assets/colab-badge.svg\" alt=\"Open In Colab\"/></a>"
      ]
    },
    {
      "cell_type": "markdown",
      "source": [
        "## Machine learning Zoomcamp :\n",
        "\\\n",
        "\n",
        "# Introduction to NumPy\n",
        "\n",
        "---\n",
        "\n"
      ],
      "metadata": {
        "id": "rcfrKowZSgzC"
      }
    },
    {
      "cell_type": "code",
      "execution_count": 2,
      "metadata": {
        "id": "wOjS-oa3SNEq"
      },
      "outputs": [],
      "source": [
        "import numpy as np"
      ]
    }
  ]
}