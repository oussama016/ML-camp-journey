{
  "nbformat": 4,
  "nbformat_minor": 0,
  "metadata": {
    "colab": {
      "provenance": [],
      "toc_visible": true,
      "authorship_tag": "ABX9TyPM84m5pqmFRP39jHhRCuP+",
      "include_colab_link": true
    },
    "kernelspec": {
      "name": "python3",
      "display_name": "Python 3"
    },
    "language_info": {
      "name": "python"
    }
  },
  "cells": [
    {
      "cell_type": "markdown",
      "metadata": {
        "id": "view-in-github",
        "colab_type": "text"
      },
      "source": [
        "<a href=\"https://colab.research.google.com/github/oussama016/ML-camp-journey/blob/main/Intro%20to%20Machine%20Learning/1_8Linear_Algebra_intro_mlbookcamp.ipynb\" target=\"_parent\"><img src=\"https://colab.research.google.com/assets/colab-badge.svg\" alt=\"Open In Colab\"/></a>"
      ]
    },
    {
      "cell_type": "markdown",
      "source": [
        "# Vector Operations\n",
        "\n",
        "\n",
        "---\n",
        "\n"
      ],
      "metadata": {
        "id": "8nYli3TBUPco"
      }
    },
    {
      "cell_type": "code",
      "source": [
        "import numpy as np"
      ],
      "metadata": {
        "id": "mC5KbEv-YfoE"
      },
      "execution_count": 2,
      "outputs": []
    },
    {
      "cell_type": "code",
      "execution_count": 3,
      "metadata": {
        "id": "r5IwmQc0NuOJ"
      },
      "outputs": [],
      "source": [
        "# a vector is a column or a row\n"
      ]
    },
    {
      "cell_type": "markdown",
      "source": [
        "#*vector*-vector *multiplication*\n"
      ],
      "metadata": {
        "id": "FwztI0RjWsNq"
      }
    },
    {
      "cell_type": "code",
      "source": [
        "#dot product\n",
        "uu = np.array([[10,25,47,96],[10,25,2,5]])\n",
        "v = np.array([10,25,2,5]) \n",
        "uu*v\n",
        "v.shape[0]"
      ],
      "metadata": {
        "colab": {
          "base_uri": "https://localhost:8080/"
        },
        "id": "D4p_VgvTWAYg",
        "outputId": "8c1ac56a-6bdf-4d52-a32e-d458954db6f9"
      },
      "execution_count": 4,
      "outputs": [
        {
          "output_type": "execute_result",
          "data": {
            "text/plain": [
              "4"
            ]
          },
          "metadata": {},
          "execution_count": 4
        }
      ]
    },
    {
      "cell_type": "code",
      "source": [
        "def vector_vector_multipli (u,v) :\n",
        "  assert  u.shape[0] == v.shape[0]\n",
        "  n= u.shape[0]\n",
        "  result = 0\n",
        "  for i in range(n):\n",
        "    result += u[i]*v[i]\n",
        "  return result\n"
      ],
      "metadata": {
        "id": "7WjzSWfNbfMk"
      },
      "execution_count": 5,
      "outputs": []
    },
    {
      "cell_type": "code",
      "source": [
        "u = np.array([10,25,47])\n",
        "v = np.array([10,25,2]) \n",
        "vector_vector_multipli (u,v)"
      ],
      "metadata": {
        "colab": {
          "base_uri": "https://localhost:8080/"
        },
        "id": "AeAPhMrDfKiS",
        "outputId": "b33b97f7-e2fc-4e12-902a-da1a27de5f88"
      },
      "execution_count": 6,
      "outputs": [
        {
          "output_type": "execute_result",
          "data": {
            "text/plain": [
              "819"
            ]
          },
          "metadata": {},
          "execution_count": 6
        }
      ]
    },
    {
      "cell_type": "code",
      "source": [
        "u.dot(v)"
      ],
      "metadata": {
        "colab": {
          "base_uri": "https://localhost:8080/"
        },
        "id": "sues5kDhfx-x",
        "outputId": "6fbe5eda-5b51-4566-fa80-50f270f6773a"
      },
      "execution_count": 7,
      "outputs": [
        {
          "output_type": "execute_result",
          "data": {
            "text/plain": [
              "819"
            ]
          },
          "metadata": {},
          "execution_count": 7
        }
      ]
    },
    {
      "cell_type": "markdown",
      "source": [
        "# Matrix vector multiplication"
      ],
      "metadata": {
        "id": "hyNBzzaywwyo"
      }
    },
    {
      "cell_type": "code",
      "source": [
        "U = np.array([[1,2,3],[2,5,8],[1,2,3]])\n",
        "U.shape[1]\n",
        "U[0,:]"
      ],
      "metadata": {
        "colab": {
          "base_uri": "https://localhost:8080/"
        },
        "id": "f8pZ2dmnhTaW",
        "outputId": "9b54d217-9cc4-478d-b756-dcfcd4bfae76"
      },
      "execution_count": 32,
      "outputs": [
        {
          "output_type": "execute_result",
          "data": {
            "text/plain": [
              "array([1, 2, 3])"
            ]
          },
          "metadata": {},
          "execution_count": 32
        }
      ]
    },
    {
      "cell_type": "code",
      "source": [
        "v= np.array([5,9,1])\n",
        "v.shape[0]\n"
      ],
      "metadata": {
        "colab": {
          "base_uri": "https://localhost:8080/"
        },
        "id": "o_LaHZyxseEZ",
        "outputId": "92449588-b456-47c8-e360-05f1040b839a"
      },
      "execution_count": 9,
      "outputs": [
        {
          "output_type": "execute_result",
          "data": {
            "text/plain": [
              "3"
            ]
          },
          "metadata": {},
          "execution_count": 9
        }
      ]
    },
    {
      "cell_type": "code",
      "source": [
        "def Matrix_vector_multipli (U,v) :\n",
        "  assert U.shape[1]==v.shape[0]\n",
        "  num_rows = U.shape[0]\n",
        "  result = np.zeros(num_rows)\n",
        "  for i in range(num_rows):\n",
        "    result[i] = vector_vector_multipli (U[i,:],v)\n",
        "    \n",
        "  return result\n",
        "\n",
        "Matrix_vector_multipli (U,v)\n",
        "\n",
        "\n"
      ],
      "metadata": {
        "colab": {
          "base_uri": "https://localhost:8080/"
        },
        "id": "er56aPZ0slIw",
        "outputId": "58108230-bf6c-4e3b-fe12-d52a50b7eb99"
      },
      "execution_count": 10,
      "outputs": [
        {
          "output_type": "execute_result",
          "data": {
            "text/plain": [
              "array([26., 63., 26.])"
            ]
          },
          "metadata": {},
          "execution_count": 10
        }
      ]
    },
    {
      "cell_type": "code",
      "source": [
        "U.dot(v)"
      ],
      "metadata": {
        "colab": {
          "base_uri": "https://localhost:8080/"
        },
        "id": "YY0aUZY7wRZs",
        "outputId": "9f432673-651e-4ff7-c0e3-e7550731a2d1"
      },
      "execution_count": 11,
      "outputs": [
        {
          "output_type": "execute_result",
          "data": {
            "text/plain": [
              "array([26, 63, 26])"
            ]
          },
          "metadata": {},
          "execution_count": 11
        }
      ]
    },
    {
      "cell_type": "markdown",
      "source": [
        "# Matrix matrix multiplication "
      ],
      "metadata": {
        "id": "iW9WMrn2wfzo"
      }
    },
    {
      "cell_type": "code",
      "source": [
        "U = np.array([[1,2,3,7],[2,5,8,7],[1,2,3,9]])\n",
        "U.shape"
      ],
      "metadata": {
        "colab": {
          "base_uri": "https://localhost:8080/"
        },
        "id": "ommomELI6GT8",
        "outputId": "b9d3c893-22dc-4589-d457-9f88ad112497"
      },
      "execution_count": 36,
      "outputs": [
        {
          "output_type": "execute_result",
          "data": {
            "text/plain": [
              "(3, 4)"
            ]
          },
          "metadata": {},
          "execution_count": 36
        }
      ]
    },
    {
      "cell_type": "code",
      "source": [
        "V = np.array([[11,2,43],[21,50,8],[12,2,63],[2,5,8]])\n",
        "V"
      ],
      "metadata": {
        "colab": {
          "base_uri": "https://localhost:8080/"
        },
        "id": "zWMwtktk6P2b",
        "outputId": "0e5d4ba5-bd9f-4b4d-d428-630e8229bd90"
      },
      "execution_count": 38,
      "outputs": [
        {
          "output_type": "execute_result",
          "data": {
            "text/plain": [
              "array([[11,  2, 43],\n",
              "       [21, 50,  8],\n",
              "       [12,  2, 63],\n",
              "       [ 2,  5,  8]])"
            ]
          },
          "metadata": {},
          "execution_count": 38
        }
      ]
    },
    {
      "cell_type": "code",
      "source": [
        "#result=np.zeros((4,3))\n",
        "#result"
      ],
      "metadata": {
        "colab": {
          "base_uri": "https://localhost:8080/"
        },
        "id": "WCxG_5G66_GH",
        "outputId": "0bac07e9-232b-4cb6-d163-f9a9f48fcc3e"
      },
      "execution_count": 23,
      "outputs": [
        {
          "output_type": "execute_result",
          "data": {
            "text/plain": [
              "array([[0., 0., 0.],\n",
              "       [0., 0., 0.],\n",
              "       [0., 0., 0.],\n",
              "       [0., 0., 0.]])"
            ]
          },
          "metadata": {},
          "execution_count": 23
        }
      ]
    },
    {
      "cell_type": "code",
      "source": [
        "def matrix_matrix_multiplication (U,V):\n",
        "    assert U.shape[1]==V.shape[0]\n",
        "    # V colomns determines the colomns of u*v and U rows determines the rows u*v \n",
        "    result=np.zeros((U.shape[0],V.shape[1]))\n",
        "    for i in range(V.shape[1]):\n",
        "      x=V[:,i]\n",
        "      y =  Matrix_vector_multipli (U,x)\n",
        "      result[:,i] = y\n",
        "\n",
        "    return result\n",
        "matrix_matrix_multiplication(U,V)"
      ],
      "metadata": {
        "colab": {
          "base_uri": "https://localhost:8080/"
        },
        "id": "jh7tW9Pg6cV7",
        "outputId": "89599ece-cb34-47f6-eeb0-84ef0a1fa326"
      },
      "execution_count": 39,
      "outputs": [
        {
          "output_type": "execute_result",
          "data": {
            "text/plain": [
              "array([[103., 143., 304.],\n",
              "       [237., 305., 686.],\n",
              "       [107., 153., 320.]])"
            ]
          },
          "metadata": {},
          "execution_count": 39
        }
      ]
    },
    {
      "cell_type": "code",
      "source": [
        "U.dot(V)"
      ],
      "metadata": {
        "colab": {
          "base_uri": "https://localhost:8080/"
        },
        "id": "BpOKrkxaJZd6",
        "outputId": "9e9d2a0c-4889-4eaf-d4f8-b19b5a2758eb"
      },
      "execution_count": 40,
      "outputs": [
        {
          "output_type": "execute_result",
          "data": {
            "text/plain": [
              "array([[103, 143, 304],\n",
              "       [237, 305, 686],\n",
              "       [107, 153, 320]])"
            ]
          },
          "metadata": {},
          "execution_count": 40
        }
      ]
    },
    {
      "cell_type": "markdown",
      "source": [
        "# Identity matrix"
      ],
      "metadata": {
        "id": "2qsvOBbAJi4T"
      }
    },
    {
      "cell_type": "code",
      "source": [
        "I = np.eye(3)\n",
        "I"
      ],
      "metadata": {
        "colab": {
          "base_uri": "https://localhost:8080/"
        },
        "id": "xyWme9OJKDBi",
        "outputId": "ba3ba4a6-0267-4e55-9fa0-55cbd94894cd"
      },
      "execution_count": 52,
      "outputs": [
        {
          "output_type": "execute_result",
          "data": {
            "text/plain": [
              "array([[1., 0., 0.],\n",
              "       [0., 1., 0.],\n",
              "       [0., 0., 1.]])"
            ]
          },
          "metadata": {},
          "execution_count": 52
        }
      ]
    },
    {
      "cell_type": "code",
      "source": [
        "V.dot(I)"
      ],
      "metadata": {
        "colab": {
          "base_uri": "https://localhost:8080/"
        },
        "id": "PTJfJeU2KOAn",
        "outputId": "9d0870b9-0f3d-46df-fe84-d24551ff4fa3"
      },
      "execution_count": 51,
      "outputs": [
        {
          "output_type": "execute_result",
          "data": {
            "text/plain": [
              "array([[11.,  2., 43.],\n",
              "       [21., 50.,  8.],\n",
              "       [12.,  2., 63.],\n",
              "       [ 2.,  5.,  8.]])"
            ]
          },
          "metadata": {},
          "execution_count": 51
        }
      ]
    },
    {
      "cell_type": "code",
      "source": [
        "matrix_matrix_multiplication(V,I)"
      ],
      "metadata": {
        "colab": {
          "base_uri": "https://localhost:8080/"
        },
        "id": "NlpIKw2DKz_S",
        "outputId": "531fcac9-6f99-444a-c449-4581f2253cd2"
      },
      "execution_count": 54,
      "outputs": [
        {
          "output_type": "execute_result",
          "data": {
            "text/plain": [
              "array([[11.,  2., 43.],\n",
              "       [21., 50.,  8.],\n",
              "       [12.,  2., 63.],\n",
              "       [ 2.,  5.,  8.]])"
            ]
          },
          "metadata": {},
          "execution_count": 54
        }
      ]
    },
    {
      "cell_type": "markdown",
      "source": [
        "# Inverse MATRIX"
      ],
      "metadata": {
        "id": "U0C-7B8FLcfi"
      }
    },
    {
      "cell_type": "code",
      "source": [
        "V = np.array([\n",
        "    [1, 1, 2],\n",
        "    [0, 0.5, 1], \n",
        "    [0, 2, 1],\n",
        "    [2, 1, 0],\n",
        "])\n",
        "V"
      ],
      "metadata": {
        "colab": {
          "base_uri": "https://localhost:8080/"
        },
        "id": "wz8NkH5sNvjg",
        "outputId": "4a10fb47-453c-45ea-ef36-f9875079aabb"
      },
      "execution_count": 72,
      "outputs": [
        {
          "output_type": "execute_result",
          "data": {
            "text/plain": [
              "array([[1. , 1. , 2. ],\n",
              "       [0. , 0.5, 1. ],\n",
              "       [0. , 2. , 1. ],\n",
              "       [2. , 1. , 0. ]])"
            ]
          },
          "metadata": {},
          "execution_count": 72
        }
      ]
    },
    {
      "cell_type": "code",
      "source": [
        "#square matrix is in which size columns = size rows\n",
        "vsquare = V[:3,:]\n",
        "vsquare"
      ],
      "metadata": {
        "colab": {
          "base_uri": "https://localhost:8080/"
        },
        "id": "IOi5UYwgLyNC",
        "outputId": "a92635c0-a43e-4eaa-83c5-bb5cdccc7488"
      },
      "execution_count": 73,
      "outputs": [
        {
          "output_type": "execute_result",
          "data": {
            "text/plain": [
              "array([[1. , 1. , 2. ],\n",
              "       [0. , 0.5, 1. ],\n",
              "       [0. , 2. , 1. ]])"
            ]
          },
          "metadata": {},
          "execution_count": 73
        }
      ]
    },
    {
      "cell_type": "code",
      "source": [
        "Vinverse = np.linalg.inv(vsquare)\n",
        "Vinverse"
      ],
      "metadata": {
        "colab": {
          "base_uri": "https://localhost:8080/"
        },
        "id": "CTFShqzDMdI_",
        "outputId": "f2da5a4d-efcd-4e61-9863-eff108bb10d5"
      },
      "execution_count": 74,
      "outputs": [
        {
          "output_type": "execute_result",
          "data": {
            "text/plain": [
              "array([[ 1.        , -2.        ,  0.        ],\n",
              "       [ 0.        , -0.66666667,  0.66666667],\n",
              "       [ 0.        ,  1.33333333, -0.33333333]])"
            ]
          },
          "metadata": {},
          "execution_count": 74
        }
      ]
    },
    {
      "cell_type": "code",
      "source": [
        "#A INVERSE * A c est la matrice identite\n",
        "Vinverse.dot(vsquare)"
      ],
      "metadata": {
        "colab": {
          "base_uri": "https://localhost:8080/"
        },
        "id": "narXKFf_NA0R",
        "outputId": "83b72117-0170-48fe-af1b-3e3ba84485a3"
      },
      "execution_count": 75,
      "outputs": [
        {
          "output_type": "execute_result",
          "data": {
            "text/plain": [
              "array([[1., 0., 0.],\n",
              "       [0., 1., 0.],\n",
              "       [0., 0., 1.]])"
            ]
          },
          "metadata": {},
          "execution_count": 75
        }
      ]
    }
  ]
}